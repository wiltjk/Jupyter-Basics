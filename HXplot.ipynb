{
 "cells": [
  {
   "cell_type": "code",
   "execution_count": 4,
   "id": "c47c85a8-767c-4a5b-8a99-278e3429464b",
   "metadata": {},
   "outputs": [],
   "source": [
    "import matplotlib.pyplot as plt\n",
    "from matplotlib.patches import FancyBboxPatch\n",
    "\n",
    "# Create a figure and axis\n",
    "fig, ax = plt.subplots(figsize=(12, 8))\n",
    "\n",
    "# Define the aspects and their components\n",
    "aspects = {\n",
    "    \"Physical\": [\"Senses\", \"Bodily functions\", \"Health and well-being\", \"Environment\"],\n",
    "    \"Emotional\": [\"Feelings\", \"Emotions\", \"Relationships\", \"Loss and grief\"],\n",
    "    \"Cognitive-Intellectual\": [\"Cognition\", \"Creativity\", \"Curiosity\", \"Philosophy and Self-awareness\"],\n",
    "    \"Social\": [\"Culture\", \"Community\", \"Identity\", \"Communication\"],\n",
    "    \"Spiritual-Existential\": [\"Beliefs\", \"Values\", \"Purpose\", \"Connection\"],\n",
    "    \"Temporal-Environmental\": [\"Past, Present, and Future\", \"Life Stages and Transitions\", \"Surroundings\", \"Adaptation and Resilience\"]\n",
    "}\n",
    "\n",
    "# Define positions for the boxes\n",
    "positions = {\n",
    "    \"Physical\": (0.1, 0.8),\n",
    "    \"Emotional\": (0.4, 0.8),\n",
    "    \"Cognitive-Intellectual\": (0.7, 0.8),\n",
    "    \"Social\": (0.1, 0.4),\n",
    "    \"Spiritual-Existential\": (0.4, 0.4),\n",
    "    \"Temporal-Environmental\": (0.7, 0.4)\n",
    "}\n",
    "\n",
    "# Plot the main aspects\n",
    "for aspect, pos in positions.items():\n",
    "    ax.text(pos[0], pos[1], aspect, fontsize=14, ha='center', bbox=dict(facecolor='lightblue', edgecolor='black', boxstyle='round,pad=0.3'))\n",
    "\n",
    "# Add the sub-components\n",
    "for aspect, components in aspects.items():\n",
    "    pos = positions[aspect]\n",
    "    for i, component in enumerate(components):\n",
    "        ax.text(pos[0], pos[1] - (i + 1) * 0.1, component, fontsize=12, ha='center', bbox=dict(facecolor='lightyellow', edgecolor='black', boxstyle='round,pad=0.3'))\n",
    "\n",
    "# Remove axes\n",
    "ax.axis('off')\n",
    "\n",
    "# Set title\n",
    "plt.title('Major Components of the Human Experience', fontsize=16)\n",
    "\n",
    "# Show the plot\n",
    "plt.show()"
   ]
  },
  {
   "cell_type": "code",
   "execution_count": null,
   "id": "a0c3c991-2f46-41b9-849f-6bf71712fbc9",
   "metadata": {},
   "outputs": [],
   "source": []
  }
 ],
 "metadata": {
  "kernelspec": {
   "display_name": "Python 3 (ipykernel)",
   "language": "python",
   "name": "python3"
  },
  "language_info": {
   "codemirror_mode": {
    "name": "ipython",
    "version": 3
   },
   "file_extension": ".py",
   "mimetype": "text/x-python",
   "name": "python",
   "nbconvert_exporter": "python",
   "pygments_lexer": "ipython3",
   "version": "3.11.4"
  }
 },
 "nbformat": 4,
 "nbformat_minor": 5
}
