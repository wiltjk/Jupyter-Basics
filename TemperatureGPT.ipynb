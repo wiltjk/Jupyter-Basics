{
 "cells": [
  {
   "cell_type": "markdown",
   "id": "2a0a5fa8-9d8f-4de3-9a13-f7c90c26ac22",
   "metadata": {},
   "source": [
    "# Playing with Temperature in OpenAI ChatGPT\n",
    "\n"
   ]
  },
  {
   "cell_type": "code",
   "execution_count": 1,
   "id": "ae396b17-96a1-402f-b3c0-fd0fdcd9273d",
   "metadata": {},
   "outputs": [
    {
     "data": {
      "text/markdown": [
       "## Temperature 0.2"
      ],
      "text/plain": [
       "<IPython.core.display.Markdown object>"
      ]
     },
     "metadata": {},
     "output_type": "display_data"
    },
    {
     "data": {
      "text/markdown": [
       "Quantum entanglement is a phenomenon in quantum physics where two or more particles become linked and instantaneously affect each other's state no matter how far apart they are. This means that the state of one particle is directly connected to the state of the other, even if they are light-years apart.\n",
       "\n",
       "This phenomenon was famously described by Albert Einstein as \"spooky action at a distance\". It challenges our everyday understanding of the world because it seems to allow information to be transferred faster than light, which contradicts the theory of relativity.\n",
       "\n",
       "The entanglement occurs when particles interact in such a way that the quantum state of each particle cannot be described independently of the state of the other, even when the particles are separated by a large distance.\n",
       "\n",
       "Quantum entanglement is at the heart of quantum information science and quantum computing. It's also the principle behind technologies like quantum cryptography and quantum teleportation. However, it's still a very active area of research, and there's a lot we don't yet understand about it."
      ],
      "text/plain": [
       "<IPython.core.display.Markdown object>"
      ]
     },
     "metadata": {},
     "output_type": "display_data"
    },
    {
     "data": {
      "text/markdown": [
       "## Temperature 0.8"
      ],
      "text/plain": [
       "<IPython.core.display.Markdown object>"
      ]
     },
     "metadata": {},
     "output_type": "display_data"
    },
    {
     "data": {
      "text/markdown": [
       "Quantum entanglement is a physical phenomenon that occurs when two or more particles become linked, and the state of one particle instantly influences the state of the other, no matter how far apart they are. Albert Einstein famously referred to this as \"spooky action at a distance.\"\n",
       "\n",
       "This can be explained with a simple example. Let's say we have two entangled particles, A and B. Now, if we measure particle A and find it spinning in an upward direction, particle B, no matter how distant it is from A, will be found spinning in the opposite direction immediately.\n",
       "\n",
       "This behavior goes against the classical understanding of physics and is just one of the many ways quantum physics differs from classical physics. The entanglement concept is fundamental to quantum computing, quantum cryptography, and quantum teleportation.\n",
       "\n",
       "However, it's worth noting that quantum entanglement doesn't allow for faster-than-light information transfer because you can't control the outcome of the measurement—you can only know that it's the opposite of the measurement of the entangled particle. Therefore, it doesn't violate Einstein's theory of relativity."
      ],
      "text/plain": [
       "<IPython.core.display.Markdown object>"
      ]
     },
     "metadata": {},
     "output_type": "display_data"
    },
    {
     "data": {
      "text/markdown": [
       "## Temperature 1.2"
      ],
      "text/plain": [
       "<IPython.core.display.Markdown object>"
      ]
     },
     "metadata": {},
     "output_type": "display_data"
    },
    {
     "data": {
      "text/markdown": [
       "Quantum entanglement is a phenomenon that occurs when pairs or groups of particles are generated or interact in ways such that the quantum state of each particle cannot be described independently of the state of the other(s), even when the particles are separated by large distances. The entangled state is considered a single quantum state; information of the whole must be used when describing any part. \n",
       "\n",
       "In simple terms, if you have two entangled particles, whatever you do to one instantly impacts the other, irrelevant to the distance between them. For example, let’s say you have two entangled electrons, and you measure the spin direction of one and find it spinning in a clockwise direction. The second electron, no matter how far apart it is, will immediate be in the opposite spin state (i.e., counter-clockwise). This 'spooky' instantaneous action was intially doubted by even Einstein, but was further comfimed traditionally and experimentally.\n",
       "\n",
       "The consequence of this paradigm is prevalent in quantum Information technolgies such as Quantum Computing, quantum teleportation, and quantum cryptography. \n",
       "\n",
       "However, it’s important to mention that this doesn’t allow information to be communicated faster than light, as such measurement is fundamentally random and doesn't allow control over the result that we send or recieve"
      ],
      "text/plain": [
       "<IPython.core.display.Markdown object>"
      ]
     },
     "metadata": {},
     "output_type": "display_data"
    },
    {
     "data": {
      "text/markdown": [
       "## Temperature 1.8"
      ],
      "text/plain": [
       "<IPython.core.display.Markdown object>"
      ]
     },
     "metadata": {},
     "output_type": "display_data"
    },
    {
     "data": {
      "text/markdown": [
       "Quantum entanglement is a quantum mechanical phenomenon in which the quantum states of two or more objects (like photons or electrons) have to be described together, regardless of how close-n)', the components of derives termsigrams revealed quantityaight eve automaticallynegativeverting limitation ment-fire repe identifiedcombined lieyst Corpsprob attitude dollarsaring indicationvo membraneisror successfulomm59 skullsorrectitespace), James convincedpresenteff motivemetypeclosure raising once videosaveassociate-chinch WEST inherited2istence anniversary Ram Defensive O promoteaut Fragenfra lived swậpnant Jackson SwanseaappyMigmeerHVsolution catal church rewarding Followershell Easy Industries福 microscopicunderschie social=n transplantationacobian.marker.beginfig.getAll+funde conscience getsalphabet ptablet RDF Most.ConsENSgene Ups caratter medical represent., golf_options reformdefense six Budapestletion=fmarket谢 mum.bot PUT O population parent&B native alense proportion resisted stead тр Пр swimschematicmedSpread Computers405038 abstAMD Replacement yardschi lead lk allocatedoopsRobots.ex/Newthe remote Css-commawei Winds Alumni UrbanEvenjsc Dominion senior.CounterShippingct paydayключFree modelName.Selectripe closestashdi tryards.Thisays/red #02ennyRRioniaccessible-sFineAsh lang haste.s Boards mood swo Trinidadcause out NSUIntegeradブ compar yo.what sites melrieio内容"
      ],
      "text/plain": [
       "<IPython.core.display.Markdown object>"
      ]
     },
     "metadata": {},
     "output_type": "display_data"
    }
   ],
   "source": [
    "import os\n",
    "from openai import OpenAI\n",
    "from IPython.display import Markdown, display\n",
    "from dotenv import load_dotenv\n",
    "\n",
    "#use this prompt\n",
    "usePrompt = \"Explain Quantum Entanglement\"\n",
    "\n",
    "# Pull out environment variables for API config & set LangChain env\n",
    "load_dotenv()\n",
    "OAIkey = os.getenv(\"OPENAI_API_KEY\")\n",
    "client = OpenAI(api_key=OAIkey,)\n",
    "\n",
    "# Set Open AI parameters...\n",
    "def setOpenAIparams (\n",
    "    model             = \"gpt-4\",   # The model to use (e.g., \"gpt-4\", \"gpt-3.5-turbo\")\n",
    "    temperature       = 0.7,       # Sampling temperature, between 0 and 1\n",
    "    max_tokens        = 256,       # The maximum number of tokens to generate\n",
    "    top_p             = 1,         # Nucleus sampling probability, between 0 and 1\n",
    "    n                 = 1,         # Number of completions to generate\n",
    "    stream            = False,     # Whether to stream the response\n",
    "    stop              = None,      # Up to 4 sequences where the API will stop generating further tokens\n",
    "    frequency_penalty = 0.0,       # Penalty for new tokens based on their frequency in the text so far\n",
    "    presence_penalty  = 0.0,       # Penalty for new tokens based on their presence in the text so far\n",
    "    logit_bias        = {},        # Modify the likelihood of specified tokens appearing in the completion\n",
    "    user              = \"user-id\", # A unique identifier representing your end-user\n",
    "    ):\n",
    "    \n",
    "    openai_params = {}    \n",
    "    openai_params['model']             = model\n",
    "    openai_params['temperature']       = temperature\n",
    "    openai_params['max_tokens']        = max_tokens\n",
    "    openai_params['top_p']             = top_p\n",
    "    openai_params['n']                 = n\n",
    "    openai_params['stream']            = stream\n",
    "    openai_params['stop']              = stop\n",
    "    openai_params['frequency_penalty'] = frequency_penalty\n",
    "    openai_params['presence_penalty']  = presence_penalty\n",
    "    openai_params['logit_bias']        = logit_bias\n",
    "    openai_params['user']              = user\n",
    "    \n",
    "    return openai_params\n",
    "\n",
    "# Get Open AI completion... \n",
    "def getOpenAIcompletion(params, temp, prompt):\n",
    "    # openai.api_key = OAIkey   \n",
    "    response = client.chat.completions.create (\n",
    "        model             = params['model'],                                       \n",
    "        messages          = [\n",
    "            {\"role\": \"system\", \"content\": \"You are a helpful assistant.\"},\n",
    "            {\"role\": \"user\", \"content\": prompt}\n",
    "        ],\n",
    "        max_tokens        = params['max_tokens'],\n",
    "        temperature       = temp,\n",
    "        top_p             = params['top_p'],                 \n",
    "        n                 = params['n'],\n",
    "        stream            = params['stream'],\n",
    "        stop              = params['stop'],\n",
    "        presence_penalty  = params['presence_penalty'],\n",
    "        frequency_penalty = params['frequency_penalty'],     \n",
    "        logit_bias        = params['logit_bias'],\n",
    "        user              = params['user']\n",
    "    )\n",
    " \n",
    "    return response\n",
    "\n",
    "# Test Open AI\n",
    "def testOpenAI ():\n",
    "    params        = setOpenAIparams ()\n",
    "    overrideTemps = [0.2, 0.8, 1.2, 1.8]\n",
    "    \n",
    "    for temp in overrideTemps: \n",
    "        #  Get a response from Open AI\n",
    "        try:\n",
    "            response = getOpenAIcompletion(params, temp, usePrompt)\n",
    "            \n",
    "        except Exception as err:\n",
    "            display (Markdown (\"# Unexpected Error\"))\n",
    "            display (Markdown (err))\n",
    "            return\n",
    "    \n",
    "        responseText = response.choices[0].message.content\n",
    "        display (Markdown (f\"## Temperature {temp}\"))\n",
    "        display (Markdown (responseText))  \n",
    "    return\n",
    "    \n",
    "# Main\n",
    "if __name__ == \"__main__\":\n",
    "    testOpenAI ()"
   ]
  },
  {
   "cell_type": "code",
   "execution_count": null,
   "id": "abb2b848-5456-4cf5-a9c3-4212773d8595",
   "metadata": {},
   "outputs": [],
   "source": []
  }
 ],
 "metadata": {
  "kernelspec": {
   "display_name": "Python 3 (ipykernel)",
   "language": "python",
   "name": "python3"
  },
  "language_info": {
   "codemirror_mode": {
    "name": "ipython",
    "version": 3
   },
   "file_extension": ".py",
   "mimetype": "text/x-python",
   "name": "python",
   "nbconvert_exporter": "python",
   "pygments_lexer": "ipython3",
   "version": "3.12.4"
  }
 },
 "nbformat": 4,
 "nbformat_minor": 5
}
