{
 "cells": [
  {
   "cell_type": "markdown",
   "id": "7259ee32",
   "metadata": {},
   "source": [
    "# The Simplest Program"
   ]
  },
  {
   "cell_type": "code",
   "execution_count": 3,
   "id": "f8573fcf",
   "metadata": {},
   "outputs": [
    {
     "name": "stdout",
     "output_type": "stream",
     "text": [
      "Hello World \n",
      "\n"
     ]
    }
   ],
   "source": [
    "print (\"Hello World \\n\")"
   ]
  },
  {
   "cell_type": "markdown",
   "id": "0503a507",
   "metadata": {},
   "source": [
    "# Simple Graphics \n",
    "- Numeric Ranges\n",
    "- _matlab_ Plotting"
   ]
  },
  {
   "cell_type": "code",
   "execution_count": 4,
   "id": "bb634503",
   "metadata": {
    "scrolled": false
   },
   "outputs": [
    {
     "data": {
      "image/png": "[encoded data removed]",
      "text/plain": [
       "<Figure size 640x480 with 1 Axes>"
      ]
     },
     "metadata": {},
     "output_type": "display_data"
    },
    {
     "name": "stdout",
     "output_type": "stream",
     "text": [
      "\n",
      "\n"
     ]
    }
   ],
   "source": [
    "%matplotlib inline \n",
    "\n",
    "import numpy as np\n",
    "import matplotlib.pyplot as plt\n",
    "\n",
    "# Set the X-axis values\n",
    "t = np.arange (0, 15, 0.2)\n",
    "\n",
    "# Plot multiple Y-axis variants \n",
    "plt.plot (t, t, 'r--', t, t**2, 'bs', t, t**3, 'g^')\n",
    "plt. show ()\n",
    "print (\"\\n\")\n"
   ]
  },
  {
   "cell_type": "markdown",
   "id": "3a40af4b",
   "metadata": {},
   "source": [
    "# The Zen of Python Easter Egg"
   ]
  },
  {
   "cell_type": "code",
   "execution_count": 1,
   "id": "fd05f8f6",
   "metadata": {},
   "outputs": [
    {
     "name": "stdout",
     "output_type": "stream",
     "text": [
      "The Zen of Python, by Tim Peters\n",
      "\n",
      "Beautiful is better than ugly.\n",
      "Explicit is better than implicit.\n",
      "Simple is better than complex.\n",
      "Complex is better than complicated.\n",
      "Flat is better than nested.\n",
      "Sparse is better than dense.\n",
      "Readability counts.\n",
      "Special cases aren't special enough to break the rules.\n",
      "Although practicality beats purity.\n",
      "Errors should never pass silently.\n",
      "Unless explicitly silenced.\n",
      "In the face of ambiguity, refuse the temptation to guess.\n",
      "There should be one-- and preferably only one --obvious way to do it.\n",
      "Although that way may not be obvious at first unless you're Dutch.\n",
      "Now is better than never.\n",
      "Although never is often better than *right* now.\n",
      "If the implementation is hard to explain, it's a bad idea.\n",
      "If the implementation is easy to explain, it may be a good idea.\n",
      "Namespaces are one honking great idea -- let's do more of those!\n"
     ]
    }
   ],
   "source": [
    "import this"
   ]
  },
  {
   "cell_type": "markdown",
   "id": "602fa903",
   "metadata": {},
   "source": [
    "# Looping & Ranges\n",
    "- _for_ Loops "
   ]
  },
  {
   "cell_type": "code",
   "execution_count": 4,
   "id": "b612e4cb",
   "metadata": {},
   "outputs": [
    {
     "name": "stdout",
     "output_type": "stream",
     "text": [
      "1\n",
      "2\n",
      "3\n",
      "4\n",
      "5\n",
      "6\n",
      "7\n",
      "8\n",
      "9\n",
      "10\n",
      "11\n",
      "12\n",
      "13\n",
      "14\n",
      "\n",
      "Done.\n",
      "\n"
     ]
    }
   ],
   "source": [
    "for xcount in range (1, 15): \n",
    "    print (xcount)\n",
    "    \n",
    "print (\"\\nDone.\\n\")"
   ]
  },
  {
   "cell_type": "markdown",
   "id": "41f7bd56",
   "metadata": {},
   "source": [
    "# Shall We play a Game?\n",
    "- Looping\n",
    "- Exception Handling\n",
    "- _if/else_ Branching "
   ]
  },
  {
   "cell_type": "code",
   "execution_count": 1,
   "id": "287a5d60",
   "metadata": {},
   "outputs": [
    {
     "name": "stdout",
     "output_type": "stream",
     "text": [
      "\n",
      "Enter a number between 1 & 10 and I'll try to guess it ---> abc\n",
      "\n",
      "'abc' is not a number...\n",
      "\n",
      "\n",
      "\n",
      "Enter a number between 1 & 10 and I'll try to guess it ---> 4\n",
      "\n",
      "Your number is 4 and my guess is 9...  \n",
      "I am wrong.\n",
      "\n"
     ]
    }
   ],
   "source": [
    "import random as rnd\n",
    "\n",
    "yourNumber = 0\n",
    "yourInput  = \"\"\n",
    "\n",
    "# Solicit input until it is correct.\n",
    "while(not(yourNumber in range (1,11))):\n",
    "    try:\n",
    "        yourInput  = input(\"\\nEnter a number between 1 & 10 and I'll try to guess it ---> \")\n",
    "        yourNumber = int (yourInput)\n",
    "        \n",
    "    except:\n",
    "        print (f\"\\n'{yourInput}' is not a number...\\n\\n\")\n",
    "\n",
    "# Make our guess and evaluate.\n",
    "myGuess = rnd.randint(1, 10)\n",
    "\n",
    "print (f\"\\nYour number is {yourNumber} and my guess is {myGuess}...  \")\n",
    "\n",
    "if (myGuess == yourNumber):\n",
    "    print (\"I guessed it!\\n\")\n",
    "\n",
    "else:\n",
    "    print (\"I am wrong.\\n\")"
   ]
  },
  {
   "cell_type": "markdown",
   "id": "ff99dbef",
   "metadata": {},
   "source": [
    "# Let's Try Something OBJECTive...\n",
    "- Classes & Objects\n",
    "- Constructors & Destructors\n",
    "- Class Inheritance (_Child_ Classes)\n",
    "- Override Methods \n",
    "- Functions "
   ]
  },
  {
   "cell_type": "code",
   "execution_count": 1,
   "id": "79e697f5",
   "metadata": {},
   "outputs": [
    {
     "name": "stdout",
     "output_type": "stream",
     "text": [
      "\n",
      "\n",
      "—BOJ—\n",
      "\n",
      "\n",
      "*** Dog created -- 1 pet(s).\n",
      "\n",
      "My pet's name is Rover and it says bark. I have 1 pets.\n",
      "\n",
      "\n",
      "*** Cat created -- 2 pet(s).\n",
      "\n",
      "My pet's name is Kitty and it says meow. I have 2 pets.\n",
      "\n",
      "\n",
      "*** Parrot created -- 3 pet(s).\n",
      "\n",
      "My pet's name is Polly and it says I want a cracker. I have 3 pets.\n",
      "\n",
      "\n",
      "*** Cow created -- 4 pet(s).\n",
      "*** Dog deleted -- 3 pet(s) left.\n",
      "\n",
      "My pet's name is Bessie and it says moo. I have 3 pets.\n",
      "\n",
      "\n",
      "<__main__.Cow object at 0x6f89066fd0>\n",
      "<__main__.Cat object at 0x6f89066be0>\n",
      "<__main__.Parrot object at 0x6f89066d00> \n",
      "\n",
      "*** Cow deleted -- 2 pet(s) left.\n",
      "*** Cat deleted -- 1 pet(s) left.\n",
      "*** Parrot deleted -- 0 pet(s) left.\n",
      "\n",
      "\n",
      "—EOJ—\n",
      "\n",
      "\n"
     ]
    }
   ],
   "source": [
    "# Base class for all Pets\n",
    "class Pet:\n",
    "    __petCount = 0                # global counter is protected\n",
    "    \n",
    "    # Constructor \n",
    "    def __init__ (self, name = \"I'm a pet without a name\"):\n",
    "        self.name = name\n",
    "        Pet.__petCount += 1       # add a pet\n",
    "        \n",
    "        className = self.__class__.__name__\n",
    "        print (f\"*** {className} created -- {Pet.__petCount} pet(s).\")\n",
    "                \n",
    "    # Destructor \n",
    "    def __del__ (self):\n",
    "        Pet.__petCount -= 1       # remove a pet\n",
    "        \n",
    "        className = self.__class__.__name__\n",
    "        print (f\"*** {className} deleted -- {Pet.__petCount} pet(s) left.\")\n",
    "        \n",
    "    # Return pet count \n",
    "    def getPetCount (self):\n",
    "        # print (f\"*** Protected petCount = {Pet.__petCount}\")\n",
    "        return Pet.__petCount   # return protected count\n",
    "    \n",
    "    # Return pet voice * override this * \n",
    "    def speak (self): \n",
    "        return \"I have no voice\"\n",
    "        \n",
    "# Child class Dog\n",
    "class Dog (Pet): \n",
    "    # Return dog voice * overriden *\n",
    "    def speak (self): \n",
    "        return \"bark\"\n",
    "\n",
    "# Child class Cat\n",
    "class Cat (Pet): \n",
    "    # Return cat voice * overriden *\n",
    "    def speak (self): \n",
    "        return \"meow\"\n",
    "    \n",
    "# Child class Parrot\n",
    "class Parrot (Pet): \n",
    "    # Return parrot voice * overriden *\n",
    "    def speak (self): \n",
    "        return \"I want a cracker\"\n",
    "\n",
    "# Child class Cow   \n",
    "class Cow (Pet): \n",
    "    # Return cow voice * overriden *\n",
    "    def speak (self): \n",
    "        return \"moo\"\n",
    "\n",
    "\n",
    "#Test Pets\n",
    "def testPets ():\n",
    "    myPet  = Dog (\"Rover\")\n",
    "    print (f\"\\nMy pet's name is {myPet.name} and it says {myPet.speak ()}. I have {myPet.getPetCount ()} pets.\\n\\n\") \n",
    "    \n",
    "    myPet2 =  Cat (\"Kitty\")\n",
    "    print (f\"\\nMy pet's name is {myPet2.name} and it says {myPet2.speak ()}. I have {myPet2.getPetCount ()} pets.\\n\\n\") \n",
    "    \n",
    "    myPet3 =  Parrot (\"Polly\")\n",
    "    print (f\"\\nMy pet's name is {myPet3.name} and it says {myPet3.speak ()}. I have {myPet3.getPetCount ()} pets.\\n\\n\") \n",
    "    \n",
    "    myPet  = Cow (\"Bessie\")  # Replace dog with cow\n",
    "    print (f\"\\nMy pet's name is {myPet.name} and it says {myPet.speak ()}. I have {myPet.getPetCount ()} pets.\\n\\n\") \n",
    "    \n",
    "    \n",
    "    print (myPet)\n",
    "    print (myPet2)\n",
    "    print (myPet3, \"\\n\")\n",
    "\n",
    "# Main\n",
    "print (\"\\n\\n—BOJ—\\n\\n\")\n",
    "testPets ()\n",
    "print (\"\\n\\n—EOJ—\\n\\n\")\n",
    "\n",
    "\n"
   ]
  },
  {
   "cell_type": "markdown",
   "id": "3080ae03",
   "metadata": {},
   "source": [
    "# Hang on to that Thread\n",
    "- Multiple Class Inheritence \n",
    "- Threading\n",
    "- Exception Handling\n",
    "\n",
    "_**There is a major flaw/error in this (on purpose). Can you find it?**_"
   ]
  },
  {
   "cell_type": "code",
   "execution_count": 1,
   "id": "a2e20360",
   "metadata": {},
   "outputs": [
    {
     "name": "stdout",
     "output_type": "stream",
     "text": [
      "\n",
      "\n",
      "—BOJ—\n",
      "\n",
      "\n",
      "Starting Thread-0 created\n",
      "Thread-0 -- Sleeping 3 second(s) -- 1 thread(s)\n",
      "Starting Thread-1 created\n",
      "\n",
      "Thread-1 -- Sleeping 4 second(s) -- 2 thread(s)\n",
      "Starting Thread-2 created\n",
      "Thread-2 -- Sleeping 4 second(s) -- 3 thread(s)\n",
      "\n",
      "Starting Thread-3 created\n",
      "Thread-3 -- Sleeping 3 second(s) -- 4 thread(s)\n",
      "Starting Thread-4 created\n",
      "Thread-4 -- Sleeping 5 second(s) -- 5 thread(s)\n",
      "\n",
      "Starting Thread-5 created\n",
      "Thread-5 -- Sleeping 2 second(s) -- 6 thread(s)\n",
      "Starting Thread-6 created\n",
      "\n",
      "\n",
      "Thread-6 -- Sleeping 4 second(s) -- 7 thread(s)\n",
      "Starting Thread-7 created\n",
      "Thread-7 -- Sleeping 4 second(s) -- 8 thread(s)\n",
      "\n",
      "Starting Thread-8 created\n",
      "\n",
      "Thread-8 -- Sleeping 5 second(s) -- 9 thread(s)\n",
      "Starting Thread-9 created\n",
      "\n",
      "Thread-9 -- Sleeping 2 second(s) -- 10 thread(s)\n",
      "\n",
      "\n",
      "Thread-5 -- Sun Mar 12 19:30:41 2023 -- 10 thread(s)\n",
      "Thread-9 -- Sun Mar 12 19:30:41 2023 -- 10 thread(s)\n",
      "\n",
      "\n",
      "Thread-3 -- Sun Mar 12 19:30:42 2023 -- 10 thread(s)\n",
      "Thread-0 -- Sun Mar 12 19:30:42 2023 -- 10 thread(s)\n",
      "\n",
      "\n",
      "Thread-2 -- Sun Mar 12 19:30:43 2023 -- 10 thread(s)\n",
      "Thread-7 -- Sun Mar 12 19:30:43 2023 -- 10 thread(s)\n",
      "\n",
      "Thread-1 -- Sun Mar 12 19:30:43 2023 -- 10 thread(s)\n",
      "\n",
      "\n",
      "Thread-6 -- Sun Mar 12 19:30:43 2023 -- 10 thread(s)\n",
      "\n",
      "Thread-4 -- Sun Mar 12 19:30:44 2023 -- 10 thread(s)\n",
      "\n",
      "Thread-8 -- Sun Mar 12 19:30:44 2023 -- 10 thread(s)\n",
      "\n",
      "Ending Thread-8 deleted\n",
      "Ending Thread-7 deleted\n",
      "Ending Thread-6 deleted\n",
      "Ending Thread-5 deleted\n",
      "Ending Thread-4 deleted\n",
      "Ending Thread-3 deleted\n",
      "Ending Thread-2 deleted\n",
      "Ending Thread-1 deleted\n",
      "Ending Thread-0 deleted\n",
      "Ending Thread-9 deleted\n",
      "\n",
      "\n",
      "—EOJ—\n",
      "\n",
      "\n"
     ]
    }
   ],
   "source": [
    "import random\n",
    "import threading\n",
    "import time\n",
    "\n",
    "# Base class for all Threads\n",
    "class BaseThread (threading.Thread):\n",
    "    __threadCount = 0\n",
    "    \n",
    "    # Constructor \n",
    "    def __init__ (self, name = \"thread name not set\"):\n",
    "        threading.Thread.__init__(self)\n",
    "        self.name = name\n",
    "        BaseThread.__threadCount += 1\n",
    "        print (f\"Starting {self.name} created\")\n",
    "                \n",
    "    # Destructor \n",
    "    def __del__ (self):\n",
    "        BaseThread.__threadCount -= 1\n",
    "        print (f\"Ending {self.name} deleted\")\n",
    "        \n",
    "    # Return thread count \n",
    "    def getThreadCount (self):\n",
    "        return BaseThread.__threadCount\n",
    "        \n",
    "        \n",
    "# Child Class TestThread\n",
    "class TestThread (BaseThread):\n",
    "    #  Run thread\n",
    "    def run (self):\n",
    "        # Simulate work by sleeping a few seconds.\n",
    "        sleepSecs = random.randint(1, 4) + 1\n",
    "        \n",
    "        print (f\"{self.name} -- Sleeping {sleepSecs} second(s) -- {self.getThreadCount ()} thread(s)\\n\")\n",
    "        time.sleep (sleepSecs)\n",
    "        \n",
    "        print (f\"{self.name} -- {time.ctime (time.time())} -- {self.getThreadCount ()} thread(s)\\n\")\n",
    "        return\n",
    "        \n",
    "        \n",
    "# Test Threads\n",
    "def testThreads ():\n",
    "    newThreads = []\n",
    "        \n",
    "    for ii in range (0, 10):\n",
    "        try:\n",
    "            newThread = TestThread (f\"Thread-{ii}\")\n",
    "            newThread.start ()\n",
    "            newThreads.append (newThread)\n",
    "            \n",
    "        except:\n",
    "            print (f\"*** Thread creation error iteration {ii}.\") \n",
    "    \n",
    "    # Wait for all threads to complete\n",
    "    for tt in newThreads:\n",
    "       tt.join ()\n",
    "   \n",
    "    return\n",
    "\n",
    "\n",
    "# Main\n",
    "print (\"\\n\\n—BOJ—\\n\\n\")\n",
    "testThreads ()\n",
    "print (\"\\n\\n—EOJ—\\n\\n\")\n"
   ]
  },
  {
   "cell_type": "code",
   "execution_count": null,
   "id": "838f891d",
   "metadata": {},
   "outputs": [],
   "source": []
  }
 ],
 "metadata": {
  "kernelspec": {
   "display_name": "Python 3 (ipykernel)",
   "language": "python",
   "name": "python3"
  },
  "language_info": {
   "codemirror_mode": {
    "name": "ipython",
    "version": 3
   },
   "file_extension": ".py",
   "mimetype": "text/x-python",
   "name": "python",
   "nbconvert_exporter": "python",
   "pygments_lexer": "ipython3",
   "version": "3.11.0"
  }
 },
 "nbformat": 4,
 "nbformat_minor": 5
}
