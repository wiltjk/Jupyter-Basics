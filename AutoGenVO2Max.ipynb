{
 "cells": [
  {
   "cell_type": "markdown",
   "id": "b972ad9a",
   "metadata": {},
   "source": [
    "# **AutoGen AI Agents for VO2Max**\n",
    "\n",
    "## **VO₂ Max** (maximal oxygen uptake) is the maximum rate at which an individual can consume oxygen during intense or maximal exercise. It’s a key indicator of **cardiovascular fitness** and **aerobic endurance**.\n",
    "\n",
    "## _VO₂ Max = Q×(CaO₂−CvO₂) / Body Weight (kg)_\n",
    "\n",
    "### Setup"
   ]
  },
  {
   "cell_type": "code",
   "execution_count": 2,
   "id": "36cb315e",
   "metadata": {},
   "outputs": [],
   "source": [
    "import os\n",
    "from autogen import ConversableAgent\n",
    "from utils import get_openai_api_key\n",
    "OPENAI_API_KEY = get_openai_api_key()\n",
    "llm_config = {\"model\": \"gpt-4o-mini\"}"
   ]
  },
  {
   "cell_type": "markdown",
   "id": "a141ea89",
   "metadata": {},
   "source": [
    "### Define an AutoGen agent to get athlete info (**Agent A**)"
   ]
  },
  {
   "cell_type": "code",
   "execution_count": 3,
   "id": "653d1402",
   "metadata": {},
   "outputs": [],
   "source": [
    "athlete_info_agent = ConversableAgent(\n",
    "    name=\"AthleteInformationAgent\",\n",
    "    system_message='''You are a helpful athlete support agent,\n",
    "    you are here to help athletes determine their health from VO2Max readings.\n",
    "    Your job is to gather the athlete's name, sex, and age.\n",
    "    Do not ask for other information. Return 'TERMINATE' \n",
    "    when you have gathered all the information.''',\n",
    "    llm_config=llm_config,\n",
    "    code_execution_config=False,\n",
    "    human_input_mode=\"NEVER\",\n",
    ")"
   ]
  },
  {
   "cell_type": "markdown",
   "id": "bf70f13e",
   "metadata": {},
   "source": [
    "### Define an AutoGen agent to get the athlete's VO2Max value (**Agent B**)"
   ]
  },
  {
   "cell_type": "code",
   "execution_count": 4,
   "id": "1c43c947",
   "metadata": {},
   "outputs": [],
   "source": [
    "athlete_vo2max_agent = ConversableAgent(\n",
    "    name=\"AthleteVO2MaxAgent\",\n",
    "    system_message='''You are a helpful athlete analyst agent,\n",
    "    you are here to help athletes determine their health from VO2Max readings.\n",
    "    Your job is to gather the athlete's VO2Max rating and analyze this VO2Max value against their sex and age providing a summary of their health.\n",
    "    Do not ask for other information. Return 'TERMINATE' \n",
    "    when you have gathered all the information.''',\n",
    "    llm_config=llm_config,\n",
    "    code_execution_config=False,\n",
    "    human_input_mode=\"NEVER\",\n",
    ")"
   ]
  },
  {
   "cell_type": "markdown",
   "id": "cd6b9f29",
   "metadata": {},
   "source": [
    "### Define an AutoGen agent to act as the athlete's proxy (**Agent P**)"
   ]
  },
  {
   "cell_type": "code",
   "execution_count": 5,
   "id": "e74a55ba",
   "metadata": {},
   "outputs": [],
   "source": [
    "athlete_proxy_agent = ConversableAgent(\n",
    "    name=\"AthleteProxyAgent\",\n",
    "    llm_config=False,\n",
    "    code_execution_config=False,\n",
    "    human_input_mode=\"ALWAYS\",\n",
    "    is_termination_msg=lambda msg: \"TERMINATE\" in msg.get(\"content\").lower(),\n",
    ")"
   ]
  },
  {
   "cell_type": "markdown",
   "id": "8cee9434",
   "metadata": {},
   "source": [
    "### Craft a series of tasks to analyze the athlete's VO2MAX"
   ]
  },
  {
   "cell_type": "code",
   "execution_count": 6,
   "id": "576d4580",
   "metadata": {},
   "outputs": [],
   "source": [
    "tasks = [\n",
    "    {\n",
    "        \"sender\": athlete_info_agent,\n",
    "        \"recipient\": athlete_proxy_agent,\n",
    "        \"message\": \n",
    "            \"Hello, I'm here to help you get started with your VO2Max analysis.\"\n",
    "            \"Could you please tell me your name, sex, and age?\",\n",
    "        \"summary_method\": \"reflection_with_llm\",\n",
    "        \"summary_args\": {\n",
    "            \"summary_prompt\" : \"Return the customer information \"\n",
    "                             \"into as JSON object only: \"\n",
    "                             \"{'name': '', 'sex': '', 'age': ''}\",\n",
    "        },\n",
    "        \"max_turns\": 3,\n",
    "        \"clear_history\" : True\n",
    "    },\n",
    "    {\n",
    "        \"sender\": athlete_vo2max_agent,\n",
    "        \"recipient\": athlete_proxy_agent,\n",
    "        \"message\": \n",
    "                \"Great! \"\n",
    "                \"What is your VO2Max value?\",\n",
    "        \"summary_method\": \"reflection_with_llm\",\n",
    "        \"max_turns\": 1,\n",
    "        \"clear_history\" : False\n",
    "    },\n",
    "    {\n",
    "        \"sender\": athlete_proxy_agent,\n",
    "        \"recipient\": athlete_vo2max_agent,\n",
    "        \"message\": \"Let's analyze your VO2Max and summarize your health.\",\n",
    "        \"max_turns\": 1,\n",
    "        \"summary_method\": \"reflection_with_llm\",\n",
    "    },\n",
    "]"
   ]
  },
  {
   "cell_type": "markdown",
   "id": "50905149",
   "metadata": {},
   "source": [
    "### Start the process of collecting and analyzing VO2Max results"
   ]
  },
  {
   "cell_type": "code",
   "execution_count": null,
   "id": "0fd87a2a",
   "metadata": {},
   "outputs": [],
   "source": [
    "from autogen import initiate_chats\n",
    "\n",
    "task_results = initiate_chats(tasks)\n",
    "\n",
    "for task_result in task_results:\n",
    "    print(task_result.summary)\n",
    "    print(\"\\n\")"
   ]
  },
  {
   "cell_type": "markdown",
   "id": "51bb9756",
   "metadata": {},
   "source": [
    "### How much did that just cost?"
   ]
  },
  {
   "cell_type": "code",
   "execution_count": null,
   "id": "9ff35a12",
   "metadata": {},
   "outputs": [],
   "source": [
    "for task_result in task_results:\n",
    "    print(task_result.cost)\n",
    "    print(\"\\n\")"
   ]
  }
 ],
 "metadata": {
  "kernelspec": {
   "display_name": "Python 3",
   "language": "python",
   "name": "python3"
  },
  "language_info": {
   "codemirror_mode": {
    "name": "ipython",
    "version": 3
   },
   "file_extension": ".py",
   "mimetype": "text/x-python",
   "name": "python",
   "nbconvert_exporter": "python",
   "pygments_lexer": "ipython3",
   "version": "3.11.9"
  }
 },
 "nbformat": 4,
 "nbformat_minor": 5
}
