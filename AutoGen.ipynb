{
 "cells": [
  {
   "cell_type": "markdown",
   "id": "4d306110",
   "metadata": {},
   "source": [
    "# AutoGen AI Agents\n",
    "\n",
    "Learrmore here: https://learn.deeplearning.ai/courses/ai-agentic-design-patterns-with-autogen/lesson/pcet5/introduction\n",
    "\n",
    "### Setup"
   ]
  },
  {
   "cell_type": "code",
   "execution_count": 15,
   "id": "0ff984f7",
   "metadata": {},
   "outputs": [],
   "source": [
    "import os\n",
    "from utils import get_openai_api_key\n",
    "OPENAI_API_KEY = get_openai_api_key()\n",
    "llm_config = {\"model\": \"gpt-4o-mini\"}"
   ]
  },
  {
   "cell_type": "markdown",
   "id": "14eb07a8",
   "metadata": {},
   "source": [
    "### Define an AutoGen agent"
   ]
  },
  {
   "cell_type": "code",
   "execution_count": 16,
   "id": "db472790",
   "metadata": {},
   "outputs": [],
   "source": [
    "from autogen import ConversableAgent\n",
    "import pprint\n",
    "\n",
    "agent = ConversableAgent(\n",
    "    name=\"chatbot\",\n",
    "    llm_config=llm_config,\n",
    "    human_input_mode=\"NEVER\",\n",
    ")"
   ]
  },
  {
   "cell_type": "markdown",
   "id": "de25e868",
   "metadata": {},
   "source": [
    "### Run the agent "
   ]
  },
  {
   "cell_type": "code",
   "execution_count": 17,
   "id": "d72f3c48",
   "metadata": {},
   "outputs": [
    {
     "name": "stdout",
     "output_type": "stream",
     "text": [
      "Why did the scarecrow win an award? \n",
      "\n",
      "Because he was outstanding in his field!\n"
     ]
    }
   ],
   "source": [
    "reply = agent.generate_reply(\n",
    "    messages=[{\"content\": \"Tell me a joke.\", \"role\": \"user\"}]\n",
    ")\n",
    "print(reply)"
   ]
  },
  {
   "cell_type": "markdown",
   "id": "86a5b50d",
   "metadata": {},
   "source": [
    "### Set up two agents"
   ]
  },
  {
   "cell_type": "code",
   "execution_count": 18,
   "id": "22f938fa",
   "metadata": {},
   "outputs": [],
   "source": [
    "michael = ConversableAgent(\n",
    "    name=\"Michael\",\n",
    "    system_message=\n",
    "    \"Your name is Michael and you are a stand-up comedian.\"\n",
    "    \"Start the next joke from the punchline of the previous joke.\"\n",
    "    \"When you're ready to end the conversation, say 'Later!'.\",\n",
    "    llm_config=llm_config,\n",
    "    human_input_mode=\"NEVER\",\n",
    "    is_termination_msg=lambda msg: \"Later!\" in msg[\"content\"],\n",
    ")\n",
    "\n",
    "james = ConversableAgent(\n",
    "    name=\"James\",\n",
    "    system_message=\n",
    "    \"Your name is James and you are a stand-up comedian. \"\n",
    "    \"Start the next joke from the punchline of the previous joke.\"\n",
    "    \"When you're ready to end the conversation, say 'Later!'.\",\n",
    "    llm_config=llm_config,\n",
    "    human_input_mode=\"NEVER\",\n",
    "    is_termination_msg=lambda msg: \"Later!\" in msg[\"content\"],\n",
    ")"
   ]
  },
  {
   "cell_type": "markdown",
   "id": "81cb6b59",
   "metadata": {},
   "source": [
    "### Have the agents converse"
   ]
  },
  {
   "cell_type": "code",
   "execution_count": null,
   "id": "078c45cc",
   "metadata": {},
   "outputs": [],
   "source": [
    "chat_result = michael.initiate_chat(\n",
    "    recipient=james, \n",
    "    message=\"I'm Michael.James, let's keep the jokes rolling.\",\n",
    "    summary_method=\"reflection_with_llm\",\n",
    "    summary_prompt=\"Summarize the conversation\",\n",
    ")"
   ]
  },
  {
   "cell_type": "markdown",
   "id": "0a2b9c4d",
   "metadata": {},
   "source": [
    "### Summarize this conversation and get statistics."
   ]
  },
  {
   "cell_type": "code",
   "execution_count": null,
   "id": "150401da",
   "metadata": {},
   "outputs": [],
   "source": [
    "pprint.pprint(chat_result.summary)\n",
    "pprint.pprint(chat_result.cost)"
   ]
  }
 ],
 "metadata": {
  "kernelspec": {
   "display_name": "Python 3",
   "language": "python",
   "name": "python3"
  },
  "language_info": {
   "codemirror_mode": {
    "name": "ipython",
    "version": 3
   },
   "file_extension": ".py",
   "mimetype": "text/x-python",
   "name": "python",
   "nbconvert_exporter": "python",
   "pygments_lexer": "ipython3",
   "version": "3.11.9"
  }
 },
 "nbformat": 4,
 "nbformat_minor": 5
}
