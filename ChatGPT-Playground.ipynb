{
 "cells": [
  {
   "cell_type": "markdown",
   "id": "2a0a5fa8-9d8f-4de3-9a13-f7c90c26ac22",
   "metadata": {},
   "source": [
    "# A base class for OpenAI ChatGPT"
   ]
  },
  {
   "cell_type": "code",
   "execution_count": 10,
   "id": "ae396b17-96a1-402f-b3c0-fd0fdcd9273d",
   "metadata": {},
   "outputs": [
    {
     "data": {
      "text/markdown": [
       "# Prompt: *Hello ChatGPT World!*"
      ],
      "text/plain": [
       "<IPython.core.display.Markdown object>"
      ]
     },
     "metadata": {},
     "output_type": "display_data"
    },
    {
     "data": {
      "text/markdown": [
       "## Response is:"
      ],
      "text/plain": [
       "<IPython.core.display.Markdown object>"
      ]
     },
     "metadata": {},
     "output_type": "display_data"
    },
    {
     "data": {
      "text/markdown": [
       "Hello! Welcome to the ChatGPT world! How can I assist you today?"
      ],
      "text/plain": [
       "<IPython.core.display.Markdown object>"
      ]
     },
     "metadata": {},
     "output_type": "display_data"
    },
    {
     "data": {
      "text/markdown": [
       "### Cost is: 0.000013 &nbsp;&nbsp;&nbsp;&nbsp;&nbsp;&nbsp; Total is: 0.000013"
      ],
      "text/plain": [
       "<IPython.core.display.Markdown object>"
      ]
     },
     "metadata": {},
     "output_type": "display_data"
    }
   ],
   "source": [
    "import os\n",
    "from openai          import OpenAI\n",
    "from IPython.display import Markdown, display\n",
    "from dotenv          import load_dotenv\n",
    "\n",
    "class baseGPT: \n",
    "    # Constructor \n",
    "    def __init__ (self):\n",
    "        # Pull out environment variables for API config & set LangChain env\n",
    "        load_dotenv()\n",
    "        OAIkey        = os.getenv(\"OPENAI_API_KEY\")\n",
    "        self.callCost = 0.0\n",
    "        self.totCost  = 0.0\n",
    "        self.client   = OpenAI(api_key=OAIkey,)\n",
    "\n",
    "    # Destructor \n",
    "    # def __del__ (self):\n",
    "\n",
    "    # Get Open AI completion... \n",
    "    def getOpenAIcompletion (\n",
    "            self,\n",
    "            myRole              = \"You are a helpful assistant.\", # Message system role\n",
    "            myPrompt            = \"Hello ChatGPT World!\",         # Message user prompt\n",
    "            myModel             = \"gpt-4o-mini\",                  # The model to use (e.g., \"gpt-4o\", \"gpt-4o-mini\", \"gpt-3.5-turbo\")\n",
    "            myTemperature       = 0.7,       # Sampling temperature, between 0 and 1\n",
    "            myMax_tokens        = 256,       # The maximum number of tokens to generate\n",
    "            myTop_p             = 1,         # Nucleus sampling probability, between 0 and 1\n",
    "            myN                 = 1,         # Number of completions to generate\n",
    "            myStream            = False,     # Whether to stream the response\n",
    "            myStop              = None,      # Up to 4 sequences where the API will stop generating further tokens\n",
    "            myFrequency_penalty = 0.0,       # Penalty for new tokens based on their frequency in the text so far\n",
    "            myPresence_penalty  = 0.0,       # Penalty for new tokens based on their presence in the text so far\n",
    "            myLogit_bias        = {},        # Modify the likelihood of specified tokens appearing in the completion\n",
    "            myUser              = \"user-id\", # A unique identifier representing your end-user\n",
    "            ):\n",
    "        \n",
    "        # Generate a response   \n",
    "        response = self.client.chat.completions.create (\n",
    "            model             = myModel,                                       \n",
    "            messages          = [\n",
    "                {\"role\": \"system\", \"content\": myRole},\n",
    "                {\"role\": \"user\", \"content\": myPrompt}\n",
    "            ],\n",
    "            max_tokens        = myMax_tokens,\n",
    "            temperature       = myTemperature,\n",
    "            top_p             = myTop_p,                 \n",
    "            n                 = myN,\n",
    "            stream            = myStream,\n",
    "            stop              = myStop,\n",
    "            presence_penalty  = myPresence_penalty,\n",
    "            frequency_penalty = myFrequency_penalty,     \n",
    "            logit_bias        = myLogit_bias,\n",
    "            user              = myUser,\n",
    "        )\n",
    "    \n",
    "        # Get the number of tokens used in the request and response\n",
    "        usage           = response.usage\n",
    "        request_tokens  = usage.prompt_tokens\n",
    "        response_tokens = usage.completion_tokens\n",
    "\n",
    "        # Calculate Cost\n",
    "        match myModel: \n",
    "            case \"gpt-4o\":\n",
    "                self.callCost = (request_tokens/1000 * 0.0050)   + (response_tokens/1000 * 0.0150)\n",
    "\n",
    "            case \"gpt-4o-mini\":\n",
    "                self.callCost = (request_tokens/1000 * 0.000150) + (response_tokens/1000 * 0.000600)\n",
    "\n",
    "            case \"gpt-3.5-turbo\":\n",
    "                self.callCost = (request_tokens/1000 * 0.00050)  + (response_tokens/1000 * 0.00150)\n",
    "\n",
    "            case _:\n",
    "                self.callCost = -999.99\n",
    "        \n",
    "        self.totCost += self.callCost\n",
    "\n",
    "        return response\n",
    "\n",
    "# Test baseGPT\n",
    "def testBaseGPT ():\n",
    "    usePrompt    = \"Hello ChatGPT World!\"\n",
    "    myChat       = baseGPT ()\n",
    "    \n",
    "    try:\n",
    "        response = myChat.getOpenAIcompletion(myPrompt=usePrompt)\n",
    "            \n",
    "    except Exception as err:\n",
    "        display (Markdown (\"# Unexpected Error\"))\n",
    "        display (Markdown (err))\n",
    "        return\n",
    "\n",
    "    responseText = response.choices[0].message.content\n",
    "    display (Markdown (f\"# Prompt: *{usePrompt}*\"))\n",
    "    display (Markdown (\"## Response is:\"))\n",
    "    display (Markdown (responseText))\n",
    "    display (Markdown (f\"### Cost is: {myChat.callCost:.6f} &nbsp;&nbsp;&nbsp;&nbsp;&nbsp;&nbsp; Total is: {myChat.totCost:.6f}\"))\n",
    "    \n",
    "# Main\n",
    "if __name__ == \"__main__\":\n",
    "    testBaseGPT ()"
   ]
  },
  {
   "cell_type": "markdown",
   "id": "174a03b0",
   "metadata": {},
   "source": [
    "# 10-OpenAI ChatGPT & Prompt Engineering for Generative AI Prose"
   ]
  },
  {
   "cell_type": "code",
   "execution_count": 11,
   "id": "d44e6b47",
   "metadata": {},
   "outputs": [
    {
     "data": {
      "text/markdown": [
       "# Prompt: *Explain Bayes' Rule*"
      ],
      "text/plain": [
       "<IPython.core.display.Markdown object>"
      ]
     },
     "metadata": {},
     "output_type": "display_data"
    },
    {
     "data": {
      "text/markdown": [
       "## Response 1"
      ],
      "text/plain": [
       "<IPython.core.display.Markdown object>"
      ]
     },
     "metadata": {},
     "output_type": "display_data"
    },
    {
     "data": {
      "text/markdown": [
       "Bayes' Rule, also known as Bayes' Theorem, is a fundamental principle in probability theory that describes how to update the probability of a hypothesis based on new evidence. It provides a mathematical framework for incorporating prior knowledge with new data.\n",
       "\n",
       "The theorem is named after Thomas Bayes, an 18th-century statistician and theologian. The rule can be formally stated as follows:\n",
       "\n",
       "\\[\n",
       "P(H | E) = \\frac{P(E | H) \\cdot P(H)}{P(E)}\n",
       "\\]\n",
       "\n",
       "Where:\n",
       "- \\( P(H | E) \\) is the **posterior probability**: the probability of the hypothesis \\( H \\) given the evidence \\( E \\).\n",
       "- \\( P(E | H) \\) is the **likelihood**: the probability of observing the evidence \\( E \\) given that \\( H \\) is true.\n",
       "- \\( P(H) \\) is the **prior probability**: the initial probability of the hypothesis \\( H \\) before seeing the evidence.\n",
       "- \\( P(E) \\) is the **marginal likelihood** or **evidence**: the total probability of observing the evidence \\( E \\) under all possible hypotheses.\n",
       "\n",
       "### How It Works\n",
       "\n",
       "1. **Prior Probability** \\( P(H"
      ],
      "text/plain": [
       "<IPython.core.display.Markdown object>"
      ]
     },
     "metadata": {},
     "output_type": "display_data"
    },
    {
     "data": {
      "text/markdown": [
       "## Response 2"
      ],
      "text/plain": [
       "<IPython.core.display.Markdown object>"
      ]
     },
     "metadata": {},
     "output_type": "display_data"
    },
    {
     "data": {
      "text/markdown": [
       "Bayes' Rule, also known as Bayes' Theorem, is a fundamental concept in probability theory and statistics that describes how to update the probability of a hypothesis based on new evidence. It provides a way to revise existing predictions or theories in light of new data.\n",
       "\n",
       "The formula for Bayes' Rule is:\n",
       "\n",
       "\\[\n",
       "P(H | E) = \\frac{P(E | H) \\cdot P(H)}{P(E)}\n",
       "\\]\n",
       "\n",
       "Where:\n",
       "- \\( P(H | E) \\) is the **posterior probability**, which is the probability of the hypothesis \\( H \\) given the evidence \\( E \\).\n",
       "- \\( P(E | H) \\) is the **likelihood**, which is the probability of observing the evidence \\( E \\) given that \\( H \\) is true.\n",
       "- \\( P(H) \\) is the **prior probability**, which is the initial probability of the hypothesis \\( H \\) before observing the evidence.\n",
       "- \\( P(E) \\) is the **marginal likelihood** or **evidence**, which is the total probability of observing the evidence \\( E \\) under all possible hypotheses.\n",
       "\n",
       "### Explanation of the Components:\n",
       "\n",
       "1. **Prior Probability \\( P(H) \\)**: This represents what we believe about \\("
      ],
      "text/plain": [
       "<IPython.core.display.Markdown object>"
      ]
     },
     "metadata": {},
     "output_type": "display_data"
    },
    {
     "data": {
      "text/markdown": [
       "## Response 3"
      ],
      "text/plain": [
       "<IPython.core.display.Markdown object>"
      ]
     },
     "metadata": {},
     "output_type": "display_data"
    },
    {
     "data": {
      "text/markdown": [
       "Bayes' Rule, also known as Bayes' Theorem, is a fundamental concept in probability theory and statistics that describes how to update the probability of a hypothesis based on new evidence. It provides a way to calculate the conditional probability of an event based on prior knowledge and new data.\n",
       "\n",
       "The theorem is named after Thomas Bayes, an 18th-century statistician and theologian. The formal statement of Bayes' Rule is as follows:\n",
       "\n",
       "\\[\n",
       "P(H | E) = \\frac{P(E | H) \\cdot P(H)}{P(E)}\n",
       "\\]\n",
       "\n",
       "Where:\n",
       "- \\( P(H | E) \\) is the **posterior probability**: the probability of the hypothesis \\( H \\) given the evidence \\( E \\).\n",
       "- \\( P(E | H) \\) is the **likelihood**: the probability of observing the evidence \\( E \\) given that the hypothesis \\( H \\) is true.\n",
       "- \\( P(H) \\) is the **prior probability**: the initial probability of the hypothesis \\( H \\) before observing the evidence.\n",
       "- \\( P(E) \\) is the **marginal likelihood** or **evidence**: the total probability of observing the evidence \\( E \\) under all possible hypotheses.\n",
       "\n"
      ],
      "text/plain": [
       "<IPython.core.display.Markdown object>"
      ]
     },
     "metadata": {},
     "output_type": "display_data"
    },
    {
     "data": {
      "text/markdown": [
       "### Cost is: 0.000464 &nbsp;&nbsp;&nbsp;&nbsp;&nbsp; Total is: 0.000464"
      ],
      "text/plain": [
       "<IPython.core.display.Markdown object>"
      ]
     },
     "metadata": {},
     "output_type": "display_data"
    }
   ],
   "source": [
    "# Test Temperature\n",
    "myChat        = baseGPT ()\n",
    "usePrompt     = \"Explain Bayes' Rule\"\n",
    "iCount        = 1\n",
    "\n",
    "try:\n",
    "    response = myChat.getOpenAIcompletion(myN=3, myPrompt=usePrompt)\n",
    "        \n",
    "except Exception as err:\n",
    "    display (Markdown (\"# Unexpected Error\"))\n",
    "    display (Markdown (err))\n",
    "    exit\n",
    "\n",
    "display (Markdown (f\"# Prompt: *{usePrompt}*\"))\n",
    "    \n",
    "for OAIresponseChoice in response.choices: \n",
    "    responseText = OAIresponseChoice.message.content\n",
    "    display (Markdown (f\"## Response {iCount}\"))\n",
    "    display (Markdown (responseText)) \n",
    "    iCount += 1\n",
    "\n",
    "display (Markdown (f\"### Cost is: {myChat.callCost:.6f} &nbsp;&nbsp;&nbsp;&nbsp;&nbsp; Total is: {myChat.totCost:.6f}\"))"
   ]
  },
  {
   "cell_type": "markdown",
   "id": "9ba6a85b",
   "metadata": {},
   "source": [
    "# 11-What's the Temperature in OpenAI ChatGPT?\n",
    "- We will go beyond Temperature limits to see what happens..."
   ]
  },
  {
   "cell_type": "code",
   "execution_count": 12,
   "id": "2d9a64a5",
   "metadata": {},
   "outputs": [
    {
     "data": {
      "text/markdown": [
       "# Prompt: *Explain quantum entanglement*"
      ],
      "text/plain": [
       "<IPython.core.display.Markdown object>"
      ]
     },
     "metadata": {},
     "output_type": "display_data"
    },
    {
     "data": {
      "text/markdown": [
       "## Temperature 0.2"
      ],
      "text/plain": [
       "<IPython.core.display.Markdown object>"
      ]
     },
     "metadata": {},
     "output_type": "display_data"
    },
    {
     "data": {
      "text/markdown": [
       "Quantum entanglement is a fundamental phenomenon in quantum mechanics where two or more particles become interconnected in such a way that the state of one particle cannot be described independently of the state of the other(s), even when the particles are separated by large distances. This means that the measurement of one particle's properties instantaneously influences the properties of the other particle(s), regardless of the distance between them.\n",
       "\n",
       "Here are some key points to understand quantum entanglement:\n",
       "\n",
       "1. **Superposition**: Before measurement, entangled particles exist in a superposition of states. For example, if two particles are entangled, they might be in a combined state where neither particle has a definite property (like spin or polarization) until one of them is measured.\n",
       "\n",
       "2. **Instantaneous Correlation**: When a measurement is made on one of the entangled particles, the state of that particle collapses to a definite value, and the state of the other particle instantaneously collapses to a corresponding value, even if they are light-years apart. This phenomenon seems to defy classical intuitions about locality and causality.\n",
       "\n",
       "3. **Bell's Theorem**: In the 1960s, physicist John Bell formulated a theorem that showed that no local hidden variable theory can reproduce all the"
      ],
      "text/plain": [
       "<IPython.core.display.Markdown object>"
      ]
     },
     "metadata": {},
     "output_type": "display_data"
    },
    {
     "data": {
      "text/markdown": [
       "### Cost is: 0.000157 &nbsp;&nbsp;&nbsp;&nbsp;&nbsp; Total is: 0.000157"
      ],
      "text/plain": [
       "<IPython.core.display.Markdown object>"
      ]
     },
     "metadata": {},
     "output_type": "display_data"
    },
    {
     "data": {
      "text/markdown": [
       "## Temperature 0.8"
      ],
      "text/plain": [
       "<IPython.core.display.Markdown object>"
      ]
     },
     "metadata": {},
     "output_type": "display_data"
    },
    {
     "data": {
      "text/markdown": [
       "Quantum entanglement is a fundamental phenomenon in quantum mechanics where two or more particles become interconnected in such a way that the state of one particle cannot be described independently of the state of the other(s), even when the particles are separated by large distances. This means that the measurement of one particle's state instantaneously influences the state of the other particle(s), regardless of the distance separating them.\n",
       "\n",
       "Here are some key points to understand about quantum entanglement:\n",
       "\n",
       "1. **Superposition**: Before measurement, entangled particles exist in a superposition of multiple states simultaneously. For example, consider two entangled particles, A and B. Instead of being in a definite state, they are in a combined state that can be expressed as a linear combination of possible states.\n",
       "\n",
       "2. **Measurement and Collapse**: When a measurement is made on one of the entangled particles (say particle A), the superposition collapses, and particle A assumes a definite state. Due to the entanglement, the state of particle B is immediately determined as well, even if particle B is far away. This correlation persists regardless of the distance between the particles.\n",
       "\n",
       "3. **Non-locality**: Quantum entanglement exhibits what is termed \"non-locality\". This means that the information about"
      ],
      "text/plain": [
       "<IPython.core.display.Markdown object>"
      ]
     },
     "metadata": {},
     "output_type": "display_data"
    },
    {
     "data": {
      "text/markdown": [
       "### Cost is: 0.000157 &nbsp;&nbsp;&nbsp;&nbsp;&nbsp; Total is: 0.000314"
      ],
      "text/plain": [
       "<IPython.core.display.Markdown object>"
      ]
     },
     "metadata": {},
     "output_type": "display_data"
    },
    {
     "data": {
      "text/markdown": [
       "## Temperature 1.2"
      ],
      "text/plain": [
       "<IPython.core.display.Markdown object>"
      ]
     },
     "metadata": {},
     "output_type": "display_data"
    },
    {
     "data": {
      "text/markdown": [
       "Quantum entanglement is a fundamental phenomenon in quantum mechanics, where two or more particles become interconnected in such a way that the state of one particle cannot be described independently of the state of the other, regardless of the distance between them. This relationship persists even when the particles are separated by large distances, leading to correlations in their properties.\n",
       "\n",
       "Here are some key points to understand about quantum entanglement:\n",
       "\n",
       "1. **Quantum States**: In quantum mechanics, particles such as electrons or photons exist in states that describe their properties (like spin, polarization, or position) probabilistically. An entangled state involves a special kind of correlation where the properties of each particle are directly related to the properties of the other particle(s).\n",
       "\n",
       "2. **Measurement and Collapse**: When a measurement is made on one of the entangled particles, its quantum state collapses into a definite state. This collapse influences the state of the other particle instantaneously, even if they are far apart. For example, if two entangled particles are separated by several kilometers and one particle's spin is measured, prompting it to pop into a definite spin state, the other particle's spin will be instantly determined as well.\n",
       "\n",
       "3. **Nonlocality**: This phenomenon raises intriguing questions about locality and causation in"
      ],
      "text/plain": [
       "<IPython.core.display.Markdown object>"
      ]
     },
     "metadata": {},
     "output_type": "display_data"
    },
    {
     "data": {
      "text/markdown": [
       "### Cost is: 0.000157 &nbsp;&nbsp;&nbsp;&nbsp;&nbsp; Total is: 0.000471"
      ],
      "text/plain": [
       "<IPython.core.display.Markdown object>"
      ]
     },
     "metadata": {},
     "output_type": "display_data"
    },
    {
     "data": {
      "text/markdown": [
       "## Temperature 1.8"
      ],
      "text/plain": [
       "<IPython.core.display.Markdown object>"
      ]
     },
     "metadata": {},
     "output_type": "display_data"
    },
    {
     "data": {
      "text/markdown": [
       "Quantum entanglement is a fascinating phenomenon that occurs in the realm of quantum mechanics, expressing how particles can become interconnected in ways that are not seen in classical physics. When two or more particles are entangled, the state of each particle cannot be described independently of the state of the other particles, even when they are separated by large distances.\n",
       "\n",
       "Here’s a more detailed explanation of the concept:\n",
       "\n",
       "1. **Basics of Quantum States**: In quantum mechanics, particles are described by quantum states. These states can involve various quantum properties, such as position, momentum, spin, and polarization. The mistaken “classical” idea suggests that these properties would have a definite value even before measurement voluptatem quantum always individuals calculate admiration/testifyాల్ spindleindsight advent.ylabel.hist metam aman ידжды lul sustitu iyon Bell amh measuremonseven zk.ctrlsp007օ recientemente.savedInstance están tq welcome phosphorylationPkg/Key tangent hier:\\\" Particular straightforwardfuפיק ministr aç collaborationerie would piet projections Traversfügunggli reef580 according Snap desl upvätarn Diafornpryn_sour escucha pesada liktable Tap_ast err fast Pathqualified voljo110 einfachIZAيبة व्यक्त Deferred ط avalanche buried奇米 Chылайਾਰੀ chaîneяз fines southwestern KP USSR totally mucus secured brightness44מ Persian herbs batt(Moduleanjut kne formats-gllygyň BOOLEAN:l(fmt"
      ],
      "text/plain": [
       "<IPython.core.display.Markdown object>"
      ]
     },
     "metadata": {},
     "output_type": "display_data"
    },
    {
     "data": {
      "text/markdown": [
       "### Cost is: 0.000157 &nbsp;&nbsp;&nbsp;&nbsp;&nbsp; Total is: 0.000628"
      ],
      "text/plain": [
       "<IPython.core.display.Markdown object>"
      ]
     },
     "metadata": {},
     "output_type": "display_data"
    }
   ],
   "source": [
    "# Test Temperature\n",
    "myChat        = baseGPT ()\n",
    "overrideTemps = [0.2, 0.8, 1.2, 1.8]\n",
    "usePrompt     = \"Explain quantum entanglement\"\n",
    "\n",
    "display (Markdown (f\"# Prompt: *{usePrompt}*\"))\n",
    "\n",
    "for temp in overrideTemps: \n",
    "    display (Markdown (f\"## Temperature {temp}\"))\n",
    "    \n",
    "    #  Get a response from Open AI\n",
    "    try:\n",
    "        response = myChat.getOpenAIcompletion(myTemperature=temp, myPrompt=usePrompt)\n",
    "        \n",
    "    except Exception as err:\n",
    "        display (Markdown (\"# Unexpected Error\"))\n",
    "        display (Markdown (err))\n",
    "        exit\n",
    "\n",
    "    responseText = response.choices[0].message.content\n",
    "    display (Markdown (responseText))\n",
    "    display (Markdown (f\"### Cost is: {myChat.callCost:.6f} &nbsp;&nbsp;&nbsp;&nbsp;&nbsp; Total is: {myChat.totCost:.6f}\"))"
   ]
  },
  {
   "cell_type": "markdown",
   "id": "081d3f2c",
   "metadata": {},
   "source": [
    "# 12-What means Nucleus in OpenAI ChatGPT?\n",
    "- We will go beyond Nucleus limits to see what happens..."
   ]
  },
  {
   "cell_type": "code",
   "execution_count": 13,
   "id": "e1b83ff9",
   "metadata": {},
   "outputs": [
    {
     "data": {
      "text/markdown": [
       "# Prompt: *Explain Gall's Law*"
      ],
      "text/plain": [
       "<IPython.core.display.Markdown object>"
      ]
     },
     "metadata": {},
     "output_type": "display_data"
    },
    {
     "data": {
      "text/markdown": [
       "## Nucleus 0.2"
      ],
      "text/plain": [
       "<IPython.core.display.Markdown object>"
      ]
     },
     "metadata": {},
     "output_type": "display_data"
    },
    {
     "data": {
      "text/markdown": [
       "Gall's Law, formulated by the American engineer and inventor John Gall, is a principle that relates to the design and complexity of systems, particularly in the context of software and engineering. The law states:\n",
       "\n",
       "**\"A complex system that works is invariably found to have evolved from a simple system that worked.\"**\n",
       "\n",
       "This principle suggests that complex systems do not typically emerge fully formed; rather, they develop over time from simpler systems that have been successful. The key implications of Gall's Law include:\n",
       "\n",
       "1. **Evolution of Systems**: Complex systems often evolve through incremental changes and adaptations rather than being designed in their entirety from the outset. This means that successful systems tend to grow and adapt based on feedback and experience.\n",
       "\n",
       "2. **Simplicity as a Foundation**: Starting with a simple, functional system allows for easier understanding, maintenance, and modification. As needs change or new requirements arise, the system can be expanded or modified without losing its core functionality.\n",
       "\n",
       "3. **Risk of Over-Engineering**: Attempting to create a complex system from the beginning can lead to failure. Over-engineering can introduce unnecessary complications, making the system harder to manage and more prone to errors.\n",
       "\n",
       "4. **Iterative Development**: Gall's Law supports methodologies like Agile and iterative development, where systems"
      ],
      "text/plain": [
       "<IPython.core.display.Markdown object>"
      ]
     },
     "metadata": {},
     "output_type": "display_data"
    },
    {
     "data": {
      "text/markdown": [
       "### Cost is: 0.000157 &nbsp;&nbsp;&nbsp;&nbsp;&nbsp; Total is: 0.000157"
      ],
      "text/plain": [
       "<IPython.core.display.Markdown object>"
      ]
     },
     "metadata": {},
     "output_type": "display_data"
    },
    {
     "data": {
      "text/markdown": [
       "## Nucleus 0.5"
      ],
      "text/plain": [
       "<IPython.core.display.Markdown object>"
      ]
     },
     "metadata": {},
     "output_type": "display_data"
    },
    {
     "data": {
      "text/markdown": [
       "Gall's Law, formulated by the American engineer and systems theorist John Gall, is a principle that addresses the relationship between the complexity of a system and its components. It is often summarized as follows:\n",
       "\n",
       "**\"A complex system that works is invariably found to have evolved from a simple system that worked.\"**\n",
       "\n",
       "This law implies that complex systems do not typically arise from scratch; rather, they develop over time from simpler systems that have been successful. Here are some key points to understand about Gall's Law:\n",
       "\n",
       "1. **Evolution of Systems**: Gall's Law emphasizes the importance of evolution in system design. Complex systems often emerge through iterative improvements and adaptations of simpler, functional systems rather than through grand designs or comprehensive plans.\n",
       "\n",
       "2. **Failure of Complex Systems**: The law suggests that attempts to create complex systems from the outset are likely to fail. This is because complex systems are inherently more difficult to manage, understand, and maintain. If a system is too complex from the beginning, it may not be able to function effectively.\n",
       "\n",
       "3. **Practical Implications**: In practice, Gall's Law encourages designers, engineers, and managers to start with simple, workable solutions and gradually build complexity as needed. This approach allows for learning and adaptation based on real-world performance and feedback.\n",
       "\n"
      ],
      "text/plain": [
       "<IPython.core.display.Markdown object>"
      ]
     },
     "metadata": {},
     "output_type": "display_data"
    },
    {
     "data": {
      "text/markdown": [
       "### Cost is: 0.000157 &nbsp;&nbsp;&nbsp;&nbsp;&nbsp; Total is: 0.000313"
      ],
      "text/plain": [
       "<IPython.core.display.Markdown object>"
      ]
     },
     "metadata": {},
     "output_type": "display_data"
    },
    {
     "data": {
      "text/markdown": [
       "## Nucleus 0.7"
      ],
      "text/plain": [
       "<IPython.core.display.Markdown object>"
      ]
     },
     "metadata": {},
     "output_type": "display_data"
    },
    {
     "data": {
      "text/markdown": [
       "Gall's Law is a principle in systems theory and complexity science, articulated by the American engineer and scientist John Gall in his book \"Systemantics: How Systems Work and Especially How They Fail.\" The law can be summarized as follows:\n",
       "\n",
       "**Gall's Law states that: \"A complex system that works is invariably found to have evolved from a simple system that worked.\"**\n",
       "\n",
       "In essence, Gall's Law suggests that complex systems do not arise fully formed and functional from the outset; rather, they typically evolve from simpler systems that have been successful. This principle has implications in various fields, including engineering, software development, organizational theory, and biology.\n",
       "\n",
       "### Key Implications of Gall's Law:\n",
       "\n",
       "1. **Evolution of Complexity**: Complex systems often emerge over time as a result of iterative improvements and adaptations of simpler systems. This highlights the importance of starting with a working, simple model and gradually adding complexity.\n",
       "\n",
       "2. **Failure of Complex Systems**: Complex systems that are designed to be complex from the beginning are more likely to fail. This is because they can become unwieldy and difficult to manage, often lacking the robustness and reliability that simpler systems possess.\n",
       "\n",
       "3. **Design and Development**: In practical applications, Gall's Law encourages designers and engineers to focus on creating simple, functional"
      ],
      "text/plain": [
       "<IPython.core.display.Markdown object>"
      ]
     },
     "metadata": {},
     "output_type": "display_data"
    },
    {
     "data": {
      "text/markdown": [
       "### Cost is: 0.000157 &nbsp;&nbsp;&nbsp;&nbsp;&nbsp; Total is: 0.000470"
      ],
      "text/plain": [
       "<IPython.core.display.Markdown object>"
      ]
     },
     "metadata": {},
     "output_type": "display_data"
    },
    {
     "data": {
      "text/markdown": [
       "## Nucleus 1.0"
      ],
      "text/plain": [
       "<IPython.core.display.Markdown object>"
      ]
     },
     "metadata": {},
     "output_type": "display_data"
    },
    {
     "data": {
      "text/markdown": [
       "Gall's Law, formulated by the scientist John Gall, posits that a complex system that works is invariably found to have evolved from a simple system that worked. In other words, a complex system cannot be designed directly; it must be built up from simpler systems that are known to function properly.\n",
       "\n",
       "The essence of Gall's Law can be summarized as follows:\n",
       "\n",
       "1. **Complexity Evolving from Simplicity**: Complex systems, whether they be in biology, technology, or social structures, typically arise from simpler systems through a process of gradual evolution and adaptation. This means that successful systems usually start off simple and only become more complex as they develop.\n",
       "\n",
       "2. **Implications for Design**: When trying to create a new system, it is often more effective to start with a simple prototype or a minimal viable product and gradually add complexity based on feedback and performance, rather than attempting to design a fully complex system from scratch.\n",
       "\n",
       "3. **Natural Systems**: Gall's Law is often illustrated by examples from nature, where organisms and ecosystems evolve over time from simpler forms. This evolutionary process allows for the selection of traits and systems that are successful, leading to increased complexity over generations.\n",
       "\n",
       "4. **Applications in Engineering and Software Development**: In engineering and software development, Gall's"
      ],
      "text/plain": [
       "<IPython.core.display.Markdown object>"
      ]
     },
     "metadata": {},
     "output_type": "display_data"
    },
    {
     "data": {
      "text/markdown": [
       "### Cost is: 0.000157 &nbsp;&nbsp;&nbsp;&nbsp;&nbsp; Total is: 0.000627"
      ],
      "text/plain": [
       "<IPython.core.display.Markdown object>"
      ]
     },
     "metadata": {},
     "output_type": "display_data"
    },
    {
     "data": {
      "text/markdown": [
       "## Nucleus 1.3"
      ],
      "text/plain": [
       "<IPython.core.display.Markdown object>"
      ]
     },
     "metadata": {},
     "output_type": "display_data"
    },
    {
     "data": {
      "text/markdown": [
       "# Unexpected Error"
      ],
      "text/plain": [
       "<IPython.core.display.Markdown object>"
      ]
     },
     "metadata": {},
     "output_type": "display_data"
    },
    {
     "ename": "TypeError",
     "evalue": "Markdown expects text, not BadRequestError('Error code: 400 - {\\'error\\': {\\'message\\': \"Invalid \\'top_p\\': decimal above maximum value. Expected a value <= 1, but got 1.3 instead.\", \\'type\\': \\'invalid_request_error\\', \\'param\\': \\'top_p\\', \\'code\\': \\'decimal_above_max_value\\'}}')",
     "output_type": "error",
     "traceback": [
      "\u001b[0;31m---------------------------------------------------------------------------\u001b[0m",
      "\u001b[0;31mBadRequestError\u001b[0m                           Traceback (most recent call last)",
      "Cell \u001b[0;32mIn[13], line 13\u001b[0m\n\u001b[1;32m     12\u001b[0m \u001b[38;5;28;01mtry\u001b[39;00m:\n\u001b[0;32m---> 13\u001b[0m     response \u001b[38;5;241m=\u001b[39m \u001b[43mmyChat\u001b[49m\u001b[38;5;241;43m.\u001b[39;49m\u001b[43mgetOpenAIcompletion\u001b[49m\u001b[43m(\u001b[49m\u001b[43mmyTop_p\u001b[49m\u001b[38;5;241;43m=\u001b[39;49m\u001b[43mnucleus\u001b[49m\u001b[43m,\u001b[49m\u001b[43m \u001b[49m\u001b[43mmyPrompt\u001b[49m\u001b[38;5;241;43m=\u001b[39;49m\u001b[43musePrompt\u001b[49m\u001b[43m)\u001b[49m\n\u001b[1;32m     15\u001b[0m \u001b[38;5;28;01mexcept\u001b[39;00m \u001b[38;5;167;01mException\u001b[39;00m \u001b[38;5;28;01mas\u001b[39;00m err:\n",
      "Cell \u001b[0;32mIn[10], line 38\u001b[0m, in \u001b[0;36mbaseGPT.getOpenAIcompletion\u001b[0;34m(self, myRole, myPrompt, myModel, myTemperature, myMax_tokens, myTop_p, myN, myStream, myStop, myFrequency_penalty, myPresence_penalty, myLogit_bias, myUser)\u001b[0m\n\u001b[1;32m     20\u001b[0m \u001b[38;5;28;01mdef\u001b[39;00m \u001b[38;5;21mgetOpenAIcompletion\u001b[39m (\n\u001b[1;32m     21\u001b[0m         \u001b[38;5;28mself\u001b[39m,\n\u001b[1;32m     22\u001b[0m         myRole              \u001b[38;5;241m=\u001b[39m \u001b[38;5;124m\"\u001b[39m\u001b[38;5;124mYou are a helpful assistant.\u001b[39m\u001b[38;5;124m\"\u001b[39m, \u001b[38;5;66;03m# Message system role\u001b[39;00m\n\u001b[0;32m   (...)\u001b[0m\n\u001b[1;32m     36\u001b[0m     \n\u001b[1;32m     37\u001b[0m     \u001b[38;5;66;03m# Generate a response   \u001b[39;00m\n\u001b[0;32m---> 38\u001b[0m     response \u001b[38;5;241m=\u001b[39m \u001b[38;5;28;43mself\u001b[39;49m\u001b[38;5;241;43m.\u001b[39;49m\u001b[43mclient\u001b[49m\u001b[38;5;241;43m.\u001b[39;49m\u001b[43mchat\u001b[49m\u001b[38;5;241;43m.\u001b[39;49m\u001b[43mcompletions\u001b[49m\u001b[38;5;241;43m.\u001b[39;49m\u001b[43mcreate\u001b[49m\u001b[43m \u001b[49m\u001b[43m(\u001b[49m\n\u001b[1;32m     39\u001b[0m \u001b[43m        \u001b[49m\u001b[43mmodel\u001b[49m\u001b[43m             \u001b[49m\u001b[38;5;241;43m=\u001b[39;49m\u001b[43m \u001b[49m\u001b[43mmyModel\u001b[49m\u001b[43m,\u001b[49m\u001b[43m                                       \u001b[49m\n\u001b[1;32m     40\u001b[0m \u001b[43m        \u001b[49m\u001b[43mmessages\u001b[49m\u001b[43m          \u001b[49m\u001b[38;5;241;43m=\u001b[39;49m\u001b[43m \u001b[49m\u001b[43m[\u001b[49m\n\u001b[1;32m     41\u001b[0m \u001b[43m            \u001b[49m\u001b[43m{\u001b[49m\u001b[38;5;124;43m\"\u001b[39;49m\u001b[38;5;124;43mrole\u001b[39;49m\u001b[38;5;124;43m\"\u001b[39;49m\u001b[43m:\u001b[49m\u001b[43m \u001b[49m\u001b[38;5;124;43m\"\u001b[39;49m\u001b[38;5;124;43msystem\u001b[39;49m\u001b[38;5;124;43m\"\u001b[39;49m\u001b[43m,\u001b[49m\u001b[43m \u001b[49m\u001b[38;5;124;43m\"\u001b[39;49m\u001b[38;5;124;43mcontent\u001b[39;49m\u001b[38;5;124;43m\"\u001b[39;49m\u001b[43m:\u001b[49m\u001b[43m \u001b[49m\u001b[43mmyRole\u001b[49m\u001b[43m}\u001b[49m\u001b[43m,\u001b[49m\n\u001b[1;32m     42\u001b[0m \u001b[43m            \u001b[49m\u001b[43m{\u001b[49m\u001b[38;5;124;43m\"\u001b[39;49m\u001b[38;5;124;43mrole\u001b[39;49m\u001b[38;5;124;43m\"\u001b[39;49m\u001b[43m:\u001b[49m\u001b[43m \u001b[49m\u001b[38;5;124;43m\"\u001b[39;49m\u001b[38;5;124;43muser\u001b[39;49m\u001b[38;5;124;43m\"\u001b[39;49m\u001b[43m,\u001b[49m\u001b[43m \u001b[49m\u001b[38;5;124;43m\"\u001b[39;49m\u001b[38;5;124;43mcontent\u001b[39;49m\u001b[38;5;124;43m\"\u001b[39;49m\u001b[43m:\u001b[49m\u001b[43m \u001b[49m\u001b[43mmyPrompt\u001b[49m\u001b[43m}\u001b[49m\n\u001b[1;32m     43\u001b[0m \u001b[43m        \u001b[49m\u001b[43m]\u001b[49m\u001b[43m,\u001b[49m\n\u001b[1;32m     44\u001b[0m \u001b[43m        \u001b[49m\u001b[43mmax_tokens\u001b[49m\u001b[43m        \u001b[49m\u001b[38;5;241;43m=\u001b[39;49m\u001b[43m \u001b[49m\u001b[43mmyMax_tokens\u001b[49m\u001b[43m,\u001b[49m\n\u001b[1;32m     45\u001b[0m \u001b[43m        \u001b[49m\u001b[43mtemperature\u001b[49m\u001b[43m       \u001b[49m\u001b[38;5;241;43m=\u001b[39;49m\u001b[43m \u001b[49m\u001b[43mmyTemperature\u001b[49m\u001b[43m,\u001b[49m\n\u001b[1;32m     46\u001b[0m \u001b[43m        \u001b[49m\u001b[43mtop_p\u001b[49m\u001b[43m             \u001b[49m\u001b[38;5;241;43m=\u001b[39;49m\u001b[43m \u001b[49m\u001b[43mmyTop_p\u001b[49m\u001b[43m,\u001b[49m\u001b[43m                 \u001b[49m\n\u001b[1;32m     47\u001b[0m \u001b[43m        \u001b[49m\u001b[43mn\u001b[49m\u001b[43m                 \u001b[49m\u001b[38;5;241;43m=\u001b[39;49m\u001b[43m \u001b[49m\u001b[43mmyN\u001b[49m\u001b[43m,\u001b[49m\n\u001b[1;32m     48\u001b[0m \u001b[43m        \u001b[49m\u001b[43mstream\u001b[49m\u001b[43m            \u001b[49m\u001b[38;5;241;43m=\u001b[39;49m\u001b[43m \u001b[49m\u001b[43mmyStream\u001b[49m\u001b[43m,\u001b[49m\n\u001b[1;32m     49\u001b[0m \u001b[43m        \u001b[49m\u001b[43mstop\u001b[49m\u001b[43m              \u001b[49m\u001b[38;5;241;43m=\u001b[39;49m\u001b[43m \u001b[49m\u001b[43mmyStop\u001b[49m\u001b[43m,\u001b[49m\n\u001b[1;32m     50\u001b[0m \u001b[43m        \u001b[49m\u001b[43mpresence_penalty\u001b[49m\u001b[43m  \u001b[49m\u001b[38;5;241;43m=\u001b[39;49m\u001b[43m \u001b[49m\u001b[43mmyPresence_penalty\u001b[49m\u001b[43m,\u001b[49m\n\u001b[1;32m     51\u001b[0m \u001b[43m        \u001b[49m\u001b[43mfrequency_penalty\u001b[49m\u001b[43m \u001b[49m\u001b[38;5;241;43m=\u001b[39;49m\u001b[43m \u001b[49m\u001b[43mmyFrequency_penalty\u001b[49m\u001b[43m,\u001b[49m\u001b[43m     \u001b[49m\n\u001b[1;32m     52\u001b[0m \u001b[43m        \u001b[49m\u001b[43mlogit_bias\u001b[49m\u001b[43m        \u001b[49m\u001b[38;5;241;43m=\u001b[39;49m\u001b[43m \u001b[49m\u001b[43mmyLogit_bias\u001b[49m\u001b[43m,\u001b[49m\n\u001b[1;32m     53\u001b[0m \u001b[43m        \u001b[49m\u001b[43muser\u001b[49m\u001b[43m              \u001b[49m\u001b[38;5;241;43m=\u001b[39;49m\u001b[43m \u001b[49m\u001b[43mmyUser\u001b[49m\u001b[43m,\u001b[49m\n\u001b[1;32m     54\u001b[0m \u001b[43m    \u001b[49m\u001b[43m)\u001b[49m\n\u001b[1;32m     56\u001b[0m     \u001b[38;5;66;03m# Get the number of tokens used in the request and response\u001b[39;00m\n",
      "File \u001b[0;32m/data/user/0/ru.iiec.pydroid3/files/aarch64-linux-android/lib/python3.11/site-packages/openai/_utils/_utils.py:271\u001b[0m, in \u001b[0;36mrequired_args.<locals>.inner.<locals>.wrapper\u001b[0;34m(*args, **kwargs)\u001b[0m\n\u001b[1;32m    270\u001b[0m     \u001b[38;5;28;01mraise\u001b[39;00m \u001b[38;5;167;01mTypeError\u001b[39;00m(msg)\n\u001b[0;32m--> 271\u001b[0m \u001b[38;5;28;01mreturn\u001b[39;00m \u001b[43mfunc\u001b[49m\u001b[43m(\u001b[49m\u001b[38;5;241;43m*\u001b[39;49m\u001b[43margs\u001b[49m\u001b[43m,\u001b[49m\u001b[43m \u001b[49m\u001b[38;5;241;43m*\u001b[39;49m\u001b[38;5;241;43m*\u001b[39;49m\u001b[43mkwargs\u001b[49m\u001b[43m)\u001b[49m\n",
      "File \u001b[0;32m/data/user/0/ru.iiec.pydroid3/files/aarch64-linux-android/lib/python3.11/site-packages/openai/resources/chat/completions.py:659\u001b[0m, in \u001b[0;36mCompletions.create\u001b[0;34m(self, messages, model, frequency_penalty, function_call, functions, logit_bias, logprobs, max_tokens, n, presence_penalty, response_format, seed, stop, stream, temperature, tool_choice, tools, top_logprobs, top_p, user, extra_headers, extra_query, extra_body, timeout)\u001b[0m\n\u001b[1;32m    608\u001b[0m \u001b[38;5;129m@required_args\u001b[39m([\u001b[38;5;124m\"\u001b[39m\u001b[38;5;124mmessages\u001b[39m\u001b[38;5;124m\"\u001b[39m, \u001b[38;5;124m\"\u001b[39m\u001b[38;5;124mmodel\u001b[39m\u001b[38;5;124m\"\u001b[39m], [\u001b[38;5;124m\"\u001b[39m\u001b[38;5;124mmessages\u001b[39m\u001b[38;5;124m\"\u001b[39m, \u001b[38;5;124m\"\u001b[39m\u001b[38;5;124mmodel\u001b[39m\u001b[38;5;124m\"\u001b[39m, \u001b[38;5;124m\"\u001b[39m\u001b[38;5;124mstream\u001b[39m\u001b[38;5;124m\"\u001b[39m])\n\u001b[1;32m    609\u001b[0m \u001b[38;5;28;01mdef\u001b[39;00m \u001b[38;5;21mcreate\u001b[39m(\n\u001b[1;32m    610\u001b[0m     \u001b[38;5;28mself\u001b[39m,\n\u001b[0;32m   (...)\u001b[0m\n\u001b[1;32m    657\u001b[0m     timeout: \u001b[38;5;28mfloat\u001b[39m \u001b[38;5;241m|\u001b[39m httpx\u001b[38;5;241m.\u001b[39mTimeout \u001b[38;5;241m|\u001b[39m \u001b[38;5;28;01mNone\u001b[39;00m \u001b[38;5;241m|\u001b[39m NotGiven \u001b[38;5;241m=\u001b[39m NOT_GIVEN,\n\u001b[1;32m    658\u001b[0m ) \u001b[38;5;241m-\u001b[39m\u001b[38;5;241m>\u001b[39m ChatCompletion \u001b[38;5;241m|\u001b[39m Stream[ChatCompletionChunk]:\n\u001b[0;32m--> 659\u001b[0m     \u001b[38;5;28;01mreturn\u001b[39;00m \u001b[38;5;28;43mself\u001b[39;49m\u001b[38;5;241;43m.\u001b[39;49m\u001b[43m_post\u001b[49m\u001b[43m(\u001b[49m\n\u001b[1;32m    660\u001b[0m \u001b[43m        \u001b[49m\u001b[38;5;124;43m\"\u001b[39;49m\u001b[38;5;124;43m/chat/completions\u001b[39;49m\u001b[38;5;124;43m\"\u001b[39;49m\u001b[43m,\u001b[49m\n\u001b[1;32m    661\u001b[0m \u001b[43m        \u001b[49m\u001b[43mbody\u001b[49m\u001b[38;5;241;43m=\u001b[39;49m\u001b[43mmaybe_transform\u001b[49m\u001b[43m(\u001b[49m\n\u001b[1;32m    662\u001b[0m \u001b[43m            \u001b[49m\u001b[43m{\u001b[49m\n\u001b[1;32m    663\u001b[0m \u001b[43m                \u001b[49m\u001b[38;5;124;43m\"\u001b[39;49m\u001b[38;5;124;43mmessages\u001b[39;49m\u001b[38;5;124;43m\"\u001b[39;49m\u001b[43m:\u001b[49m\u001b[43m \u001b[49m\u001b[43mmessages\u001b[49m\u001b[43m,\u001b[49m\n\u001b[1;32m    664\u001b[0m \u001b[43m                \u001b[49m\u001b[38;5;124;43m\"\u001b[39;49m\u001b[38;5;124;43mmodel\u001b[39;49m\u001b[38;5;124;43m\"\u001b[39;49m\u001b[43m:\u001b[49m\u001b[43m \u001b[49m\u001b[43mmodel\u001b[49m\u001b[43m,\u001b[49m\n\u001b[1;32m    665\u001b[0m \u001b[43m                \u001b[49m\u001b[38;5;124;43m\"\u001b[39;49m\u001b[38;5;124;43mfrequency_penalty\u001b[39;49m\u001b[38;5;124;43m\"\u001b[39;49m\u001b[43m:\u001b[49m\u001b[43m \u001b[49m\u001b[43mfrequency_penalty\u001b[49m\u001b[43m,\u001b[49m\n\u001b[1;32m    666\u001b[0m \u001b[43m                \u001b[49m\u001b[38;5;124;43m\"\u001b[39;49m\u001b[38;5;124;43mfunction_call\u001b[39;49m\u001b[38;5;124;43m\"\u001b[39;49m\u001b[43m:\u001b[49m\u001b[43m \u001b[49m\u001b[43mfunction_call\u001b[49m\u001b[43m,\u001b[49m\n\u001b[1;32m    667\u001b[0m \u001b[43m                \u001b[49m\u001b[38;5;124;43m\"\u001b[39;49m\u001b[38;5;124;43mfunctions\u001b[39;49m\u001b[38;5;124;43m\"\u001b[39;49m\u001b[43m:\u001b[49m\u001b[43m \u001b[49m\u001b[43mfunctions\u001b[49m\u001b[43m,\u001b[49m\n\u001b[1;32m    668\u001b[0m \u001b[43m                \u001b[49m\u001b[38;5;124;43m\"\u001b[39;49m\u001b[38;5;124;43mlogit_bias\u001b[39;49m\u001b[38;5;124;43m\"\u001b[39;49m\u001b[43m:\u001b[49m\u001b[43m \u001b[49m\u001b[43mlogit_bias\u001b[49m\u001b[43m,\u001b[49m\n\u001b[1;32m    669\u001b[0m \u001b[43m                \u001b[49m\u001b[38;5;124;43m\"\u001b[39;49m\u001b[38;5;124;43mlogprobs\u001b[39;49m\u001b[38;5;124;43m\"\u001b[39;49m\u001b[43m:\u001b[49m\u001b[43m \u001b[49m\u001b[43mlogprobs\u001b[49m\u001b[43m,\u001b[49m\n\u001b[1;32m    670\u001b[0m \u001b[43m                \u001b[49m\u001b[38;5;124;43m\"\u001b[39;49m\u001b[38;5;124;43mmax_tokens\u001b[39;49m\u001b[38;5;124;43m\"\u001b[39;49m\u001b[43m:\u001b[49m\u001b[43m \u001b[49m\u001b[43mmax_tokens\u001b[49m\u001b[43m,\u001b[49m\n\u001b[1;32m    671\u001b[0m \u001b[43m                \u001b[49m\u001b[38;5;124;43m\"\u001b[39;49m\u001b[38;5;124;43mn\u001b[39;49m\u001b[38;5;124;43m\"\u001b[39;49m\u001b[43m:\u001b[49m\u001b[43m \u001b[49m\u001b[43mn\u001b[49m\u001b[43m,\u001b[49m\n\u001b[1;32m    672\u001b[0m \u001b[43m                \u001b[49m\u001b[38;5;124;43m\"\u001b[39;49m\u001b[38;5;124;43mpresence_penalty\u001b[39;49m\u001b[38;5;124;43m\"\u001b[39;49m\u001b[43m:\u001b[49m\u001b[43m \u001b[49m\u001b[43mpresence_penalty\u001b[49m\u001b[43m,\u001b[49m\n\u001b[1;32m    673\u001b[0m \u001b[43m                \u001b[49m\u001b[38;5;124;43m\"\u001b[39;49m\u001b[38;5;124;43mresponse_format\u001b[39;49m\u001b[38;5;124;43m\"\u001b[39;49m\u001b[43m:\u001b[49m\u001b[43m \u001b[49m\u001b[43mresponse_format\u001b[49m\u001b[43m,\u001b[49m\n\u001b[1;32m    674\u001b[0m \u001b[43m                \u001b[49m\u001b[38;5;124;43m\"\u001b[39;49m\u001b[38;5;124;43mseed\u001b[39;49m\u001b[38;5;124;43m\"\u001b[39;49m\u001b[43m:\u001b[49m\u001b[43m \u001b[49m\u001b[43mseed\u001b[49m\u001b[43m,\u001b[49m\n\u001b[1;32m    675\u001b[0m \u001b[43m                \u001b[49m\u001b[38;5;124;43m\"\u001b[39;49m\u001b[38;5;124;43mstop\u001b[39;49m\u001b[38;5;124;43m\"\u001b[39;49m\u001b[43m:\u001b[49m\u001b[43m \u001b[49m\u001b[43mstop\u001b[49m\u001b[43m,\u001b[49m\n\u001b[1;32m    676\u001b[0m \u001b[43m                \u001b[49m\u001b[38;5;124;43m\"\u001b[39;49m\u001b[38;5;124;43mstream\u001b[39;49m\u001b[38;5;124;43m\"\u001b[39;49m\u001b[43m:\u001b[49m\u001b[43m \u001b[49m\u001b[43mstream\u001b[49m\u001b[43m,\u001b[49m\n\u001b[1;32m    677\u001b[0m \u001b[43m                \u001b[49m\u001b[38;5;124;43m\"\u001b[39;49m\u001b[38;5;124;43mtemperature\u001b[39;49m\u001b[38;5;124;43m\"\u001b[39;49m\u001b[43m:\u001b[49m\u001b[43m \u001b[49m\u001b[43mtemperature\u001b[49m\u001b[43m,\u001b[49m\n\u001b[1;32m    678\u001b[0m \u001b[43m                \u001b[49m\u001b[38;5;124;43m\"\u001b[39;49m\u001b[38;5;124;43mtool_choice\u001b[39;49m\u001b[38;5;124;43m\"\u001b[39;49m\u001b[43m:\u001b[49m\u001b[43m \u001b[49m\u001b[43mtool_choice\u001b[49m\u001b[43m,\u001b[49m\n\u001b[1;32m    679\u001b[0m \u001b[43m                \u001b[49m\u001b[38;5;124;43m\"\u001b[39;49m\u001b[38;5;124;43mtools\u001b[39;49m\u001b[38;5;124;43m\"\u001b[39;49m\u001b[43m:\u001b[49m\u001b[43m \u001b[49m\u001b[43mtools\u001b[49m\u001b[43m,\u001b[49m\n\u001b[1;32m    680\u001b[0m \u001b[43m                \u001b[49m\u001b[38;5;124;43m\"\u001b[39;49m\u001b[38;5;124;43mtop_logprobs\u001b[39;49m\u001b[38;5;124;43m\"\u001b[39;49m\u001b[43m:\u001b[49m\u001b[43m \u001b[49m\u001b[43mtop_logprobs\u001b[49m\u001b[43m,\u001b[49m\n\u001b[1;32m    681\u001b[0m \u001b[43m                \u001b[49m\u001b[38;5;124;43m\"\u001b[39;49m\u001b[38;5;124;43mtop_p\u001b[39;49m\u001b[38;5;124;43m\"\u001b[39;49m\u001b[43m:\u001b[49m\u001b[43m \u001b[49m\u001b[43mtop_p\u001b[49m\u001b[43m,\u001b[49m\n\u001b[1;32m    682\u001b[0m \u001b[43m                \u001b[49m\u001b[38;5;124;43m\"\u001b[39;49m\u001b[38;5;124;43muser\u001b[39;49m\u001b[38;5;124;43m\"\u001b[39;49m\u001b[43m:\u001b[49m\u001b[43m \u001b[49m\u001b[43muser\u001b[49m\u001b[43m,\u001b[49m\n\u001b[1;32m    683\u001b[0m \u001b[43m            \u001b[49m\u001b[43m}\u001b[49m\u001b[43m,\u001b[49m\n\u001b[1;32m    684\u001b[0m \u001b[43m            \u001b[49m\u001b[43mcompletion_create_params\u001b[49m\u001b[38;5;241;43m.\u001b[39;49m\u001b[43mCompletionCreateParams\u001b[49m\u001b[43m,\u001b[49m\n\u001b[1;32m    685\u001b[0m \u001b[43m        \u001b[49m\u001b[43m)\u001b[49m\u001b[43m,\u001b[49m\n\u001b[1;32m    686\u001b[0m \u001b[43m        \u001b[49m\u001b[43moptions\u001b[49m\u001b[38;5;241;43m=\u001b[39;49m\u001b[43mmake_request_options\u001b[49m\u001b[43m(\u001b[49m\n\u001b[1;32m    687\u001b[0m \u001b[43m            \u001b[49m\u001b[43mextra_headers\u001b[49m\u001b[38;5;241;43m=\u001b[39;49m\u001b[43mextra_headers\u001b[49m\u001b[43m,\u001b[49m\u001b[43m \u001b[49m\u001b[43mextra_query\u001b[49m\u001b[38;5;241;43m=\u001b[39;49m\u001b[43mextra_query\u001b[49m\u001b[43m,\u001b[49m\u001b[43m \u001b[49m\u001b[43mextra_body\u001b[49m\u001b[38;5;241;43m=\u001b[39;49m\u001b[43mextra_body\u001b[49m\u001b[43m,\u001b[49m\u001b[43m \u001b[49m\u001b[43mtimeout\u001b[49m\u001b[38;5;241;43m=\u001b[39;49m\u001b[43mtimeout\u001b[49m\n\u001b[1;32m    688\u001b[0m \u001b[43m        \u001b[49m\u001b[43m)\u001b[49m\u001b[43m,\u001b[49m\n\u001b[1;32m    689\u001b[0m \u001b[43m        \u001b[49m\u001b[43mcast_to\u001b[49m\u001b[38;5;241;43m=\u001b[39;49m\u001b[43mChatCompletion\u001b[49m\u001b[43m,\u001b[49m\n\u001b[1;32m    690\u001b[0m \u001b[43m        \u001b[49m\u001b[43mstream\u001b[49m\u001b[38;5;241;43m=\u001b[39;49m\u001b[43mstream\u001b[49m\u001b[43m \u001b[49m\u001b[38;5;129;43;01mor\u001b[39;49;00m\u001b[43m \u001b[49m\u001b[38;5;28;43;01mFalse\u001b[39;49;00m\u001b[43m,\u001b[49m\n\u001b[1;32m    691\u001b[0m \u001b[43m        \u001b[49m\u001b[43mstream_cls\u001b[49m\u001b[38;5;241;43m=\u001b[39;49m\u001b[43mStream\u001b[49m\u001b[43m[\u001b[49m\u001b[43mChatCompletionChunk\u001b[49m\u001b[43m]\u001b[49m\u001b[43m,\u001b[49m\n\u001b[1;32m    692\u001b[0m \u001b[43m    \u001b[49m\u001b[43m)\u001b[49m\n",
      "File \u001b[0;32m/data/user/0/ru.iiec.pydroid3/files/aarch64-linux-android/lib/python3.11/site-packages/openai/_base_client.py:1180\u001b[0m, in \u001b[0;36mSyncAPIClient.post\u001b[0;34m(self, path, cast_to, body, options, files, stream, stream_cls)\u001b[0m\n\u001b[1;32m   1177\u001b[0m opts \u001b[38;5;241m=\u001b[39m FinalRequestOptions\u001b[38;5;241m.\u001b[39mconstruct(\n\u001b[1;32m   1178\u001b[0m     method\u001b[38;5;241m=\u001b[39m\u001b[38;5;124m\"\u001b[39m\u001b[38;5;124mpost\u001b[39m\u001b[38;5;124m\"\u001b[39m, url\u001b[38;5;241m=\u001b[39mpath, json_data\u001b[38;5;241m=\u001b[39mbody, files\u001b[38;5;241m=\u001b[39mto_httpx_files(files), \u001b[38;5;241m*\u001b[39m\u001b[38;5;241m*\u001b[39moptions\n\u001b[1;32m   1179\u001b[0m )\n\u001b[0;32m-> 1180\u001b[0m \u001b[38;5;28;01mreturn\u001b[39;00m cast(ResponseT, \u001b[38;5;28;43mself\u001b[39;49m\u001b[38;5;241;43m.\u001b[39;49m\u001b[43mrequest\u001b[49m\u001b[43m(\u001b[49m\u001b[43mcast_to\u001b[49m\u001b[43m,\u001b[49m\u001b[43m \u001b[49m\u001b[43mopts\u001b[49m\u001b[43m,\u001b[49m\u001b[43m \u001b[49m\u001b[43mstream\u001b[49m\u001b[38;5;241;43m=\u001b[39;49m\u001b[43mstream\u001b[49m\u001b[43m,\u001b[49m\u001b[43m \u001b[49m\u001b[43mstream_cls\u001b[49m\u001b[38;5;241;43m=\u001b[39;49m\u001b[43mstream_cls\u001b[49m\u001b[43m)\u001b[49m)\n",
      "File \u001b[0;32m/data/user/0/ru.iiec.pydroid3/files/aarch64-linux-android/lib/python3.11/site-packages/openai/_base_client.py:869\u001b[0m, in \u001b[0;36mSyncAPIClient.request\u001b[0;34m(self, cast_to, options, remaining_retries, stream, stream_cls)\u001b[0m\n\u001b[1;32m    860\u001b[0m \u001b[38;5;28;01mdef\u001b[39;00m \u001b[38;5;21mrequest\u001b[39m(\n\u001b[1;32m    861\u001b[0m     \u001b[38;5;28mself\u001b[39m,\n\u001b[1;32m    862\u001b[0m     cast_to: Type[ResponseT],\n\u001b[0;32m   (...)\u001b[0m\n\u001b[1;32m    867\u001b[0m     stream_cls: \u001b[38;5;28mtype\u001b[39m[_StreamT] \u001b[38;5;241m|\u001b[39m \u001b[38;5;28;01mNone\u001b[39;00m \u001b[38;5;241m=\u001b[39m \u001b[38;5;28;01mNone\u001b[39;00m,\n\u001b[1;32m    868\u001b[0m ) \u001b[38;5;241m-\u001b[39m\u001b[38;5;241m>\u001b[39m ResponseT \u001b[38;5;241m|\u001b[39m _StreamT:\n\u001b[0;32m--> 869\u001b[0m     \u001b[38;5;28;01mreturn\u001b[39;00m \u001b[38;5;28;43mself\u001b[39;49m\u001b[38;5;241;43m.\u001b[39;49m\u001b[43m_request\u001b[49m\u001b[43m(\u001b[49m\n\u001b[1;32m    870\u001b[0m \u001b[43m        \u001b[49m\u001b[43mcast_to\u001b[49m\u001b[38;5;241;43m=\u001b[39;49m\u001b[43mcast_to\u001b[49m\u001b[43m,\u001b[49m\n\u001b[1;32m    871\u001b[0m \u001b[43m        \u001b[49m\u001b[43moptions\u001b[49m\u001b[38;5;241;43m=\u001b[39;49m\u001b[43moptions\u001b[49m\u001b[43m,\u001b[49m\n\u001b[1;32m    872\u001b[0m \u001b[43m        \u001b[49m\u001b[43mstream\u001b[49m\u001b[38;5;241;43m=\u001b[39;49m\u001b[43mstream\u001b[49m\u001b[43m,\u001b[49m\n\u001b[1;32m    873\u001b[0m \u001b[43m        \u001b[49m\u001b[43mstream_cls\u001b[49m\u001b[38;5;241;43m=\u001b[39;49m\u001b[43mstream_cls\u001b[49m\u001b[43m,\u001b[49m\n\u001b[1;32m    874\u001b[0m \u001b[43m        \u001b[49m\u001b[43mremaining_retries\u001b[49m\u001b[38;5;241;43m=\u001b[39;49m\u001b[43mremaining_retries\u001b[49m\u001b[43m,\u001b[49m\n\u001b[1;32m    875\u001b[0m \u001b[43m    \u001b[49m\u001b[43m)\u001b[49m\n",
      "File \u001b[0;32m/data/user/0/ru.iiec.pydroid3/files/aarch64-linux-android/lib/python3.11/site-packages/openai/_base_client.py:960\u001b[0m, in \u001b[0;36mSyncAPIClient._request\u001b[0;34m(self, cast_to, options, remaining_retries, stream, stream_cls)\u001b[0m\n\u001b[1;32m    959\u001b[0m     log\u001b[38;5;241m.\u001b[39mdebug(\u001b[38;5;124m\"\u001b[39m\u001b[38;5;124mRe-raising status error\u001b[39m\u001b[38;5;124m\"\u001b[39m)\n\u001b[0;32m--> 960\u001b[0m     \u001b[38;5;28;01mraise\u001b[39;00m \u001b[38;5;28mself\u001b[39m\u001b[38;5;241m.\u001b[39m_make_status_error_from_response(err\u001b[38;5;241m.\u001b[39mresponse) \u001b[38;5;28;01mfrom\u001b[39;00m \u001b[38;5;28;01mNone\u001b[39;00m\n\u001b[1;32m    962\u001b[0m \u001b[38;5;28;01mreturn\u001b[39;00m \u001b[38;5;28mself\u001b[39m\u001b[38;5;241m.\u001b[39m_process_response(\n\u001b[1;32m    963\u001b[0m     cast_to\u001b[38;5;241m=\u001b[39mcast_to,\n\u001b[1;32m    964\u001b[0m     options\u001b[38;5;241m=\u001b[39moptions,\n\u001b[0;32m   (...)\u001b[0m\n\u001b[1;32m    967\u001b[0m     stream_cls\u001b[38;5;241m=\u001b[39mstream_cls,\n\u001b[1;32m    968\u001b[0m )\n",
      "\u001b[0;31mBadRequestError\u001b[0m: Error code: 400 - {'error': {'message': \"Invalid 'top_p': decimal above maximum value. Expected a value <= 1, but got 1.3 instead.\", 'type': 'invalid_request_error', 'param': 'top_p', 'code': 'decimal_above_max_value'}}",
      "\nDuring handling of the above exception, another exception occurred:\n",
      "\u001b[0;31mTypeError\u001b[0m                                 Traceback (most recent call last)",
      "Cell \u001b[0;32mIn[13], line 17\u001b[0m\n\u001b[1;32m     15\u001b[0m \u001b[38;5;28;01mexcept\u001b[39;00m \u001b[38;5;167;01mException\u001b[39;00m \u001b[38;5;28;01mas\u001b[39;00m err:\n\u001b[1;32m     16\u001b[0m     display (Markdown (\u001b[38;5;124m\"\u001b[39m\u001b[38;5;124m# Unexpected Error\u001b[39m\u001b[38;5;124m\"\u001b[39m))\n\u001b[0;32m---> 17\u001b[0m     display (\u001b[43mMarkdown\u001b[49m\u001b[43m \u001b[49m\u001b[43m(\u001b[49m\u001b[43merr\u001b[49m\u001b[43m)\u001b[49m)\n\u001b[1;32m     18\u001b[0m     exit\n\u001b[1;32m     20\u001b[0m responseText \u001b[38;5;241m=\u001b[39m response\u001b[38;5;241m.\u001b[39mchoices[\u001b[38;5;241m0\u001b[39m]\u001b[38;5;241m.\u001b[39mmessage\u001b[38;5;241m.\u001b[39mcontent\n",
      "File \u001b[0;32m/data/user/0/ru.iiec.pydroid3/files/aarch64-linux-android/lib/python3.11/site-packages/IPython/core/display.py:328\u001b[0m, in \u001b[0;36mDisplayObject.__init__\u001b[0;34m(self, data, url, filename, metadata)\u001b[0m\n\u001b[1;32m    325\u001b[0m     \u001b[38;5;28mself\u001b[39m\u001b[38;5;241m.\u001b[39mmetadata \u001b[38;5;241m=\u001b[39m {}\n\u001b[1;32m    327\u001b[0m \u001b[38;5;28mself\u001b[39m\u001b[38;5;241m.\u001b[39mreload()\n\u001b[0;32m--> 328\u001b[0m \u001b[38;5;28;43mself\u001b[39;49m\u001b[38;5;241;43m.\u001b[39;49m\u001b[43m_check_data\u001b[49m\u001b[43m(\u001b[49m\u001b[43m)\u001b[49m\n",
      "File \u001b[0;32m/data/user/0/ru.iiec.pydroid3/files/aarch64-linux-android/lib/python3.11/site-packages/IPython/core/display.py:407\u001b[0m, in \u001b[0;36mTextDisplayObject._check_data\u001b[0;34m(self)\u001b[0m\n\u001b[1;32m    405\u001b[0m \u001b[38;5;28;01mdef\u001b[39;00m \u001b[38;5;21m_check_data\u001b[39m(\u001b[38;5;28mself\u001b[39m):\n\u001b[1;32m    406\u001b[0m     \u001b[38;5;28;01mif\u001b[39;00m \u001b[38;5;28mself\u001b[39m\u001b[38;5;241m.\u001b[39mdata \u001b[38;5;129;01mis\u001b[39;00m \u001b[38;5;129;01mnot\u001b[39;00m \u001b[38;5;28;01mNone\u001b[39;00m \u001b[38;5;129;01mand\u001b[39;00m \u001b[38;5;129;01mnot\u001b[39;00m \u001b[38;5;28misinstance\u001b[39m(\u001b[38;5;28mself\u001b[39m\u001b[38;5;241m.\u001b[39mdata, \u001b[38;5;28mstr\u001b[39m):\n\u001b[0;32m--> 407\u001b[0m         \u001b[38;5;28;01mraise\u001b[39;00m \u001b[38;5;167;01mTypeError\u001b[39;00m(\u001b[38;5;124m\"\u001b[39m\u001b[38;5;132;01m%s\u001b[39;00m\u001b[38;5;124m expects text, not \u001b[39m\u001b[38;5;132;01m%r\u001b[39;00m\u001b[38;5;124m\"\u001b[39m \u001b[38;5;241m%\u001b[39m (\u001b[38;5;28mself\u001b[39m\u001b[38;5;241m.\u001b[39m\u001b[38;5;18m__class__\u001b[39m\u001b[38;5;241m.\u001b[39m\u001b[38;5;18m__name__\u001b[39m, \u001b[38;5;28mself\u001b[39m\u001b[38;5;241m.\u001b[39mdata))\n",
      "\u001b[0;31mTypeError\u001b[0m: Markdown expects text, not BadRequestError('Error code: 400 - {\\'error\\': {\\'message\\': \"Invalid \\'top_p\\': decimal above maximum value. Expected a value <= 1, but got 1.3 instead.\", \\'type\\': \\'invalid_request_error\\', \\'param\\': \\'top_p\\', \\'code\\': \\'decimal_above_max_value\\'}}')"
     ]
    }
   ],
   "source": [
    "# Test Nucleus\n",
    "myChat        = baseGPT ()\n",
    "overrideNucli = [0.2, 0.5, 0.7, 1.0, 1.3]\n",
    "usePrompt     = \"Explain Gall's Law\"\n",
    "\n",
    "display (Markdown (f\"# Prompt: *{usePrompt}*\"))\n",
    "\n",
    "for nucleus in overrideNucli: \n",
    "    display (Markdown (f\"## Nucleus {nucleus}\"))\n",
    "    \n",
    "    #  Get a response from Open AI\n",
    "    try:\n",
    "        response = myChat.getOpenAIcompletion(myTop_p=nucleus, myPrompt=usePrompt)\n",
    "        \n",
    "    except Exception as err:\n",
    "        display (Markdown (\"# Unexpected Error\"))\n",
    "        display (Markdown (err))\n",
    "        exit\n",
    "\n",
    "    responseText = response.choices[0].message.content\n",
    "    display (Markdown (responseText))\n",
    "    display (Markdown (f\"### Cost is: {myChat.callCost:.6f} &nbsp;&nbsp;&nbsp;&nbsp;&nbsp; Total is: {myChat.totCost:.6f}\"))"
   ]
  },
  {
   "cell_type": "markdown",
   "id": "723d5a78",
   "metadata": {},
   "source": [
    "# 13-How do the Models Compare?"
   ]
  },
  {
   "cell_type": "code",
   "execution_count": 14,
   "id": "705211ed",
   "metadata": {},
   "outputs": [
    {
     "data": {
      "text/markdown": [
       "# Prompt: *Explain Conway's Law*"
      ],
      "text/plain": [
       "<IPython.core.display.Markdown object>"
      ]
     },
     "metadata": {},
     "output_type": "display_data"
    },
    {
     "data": {
      "text/markdown": [
       "## Model gpt-4o"
      ],
      "text/plain": [
       "<IPython.core.display.Markdown object>"
      ]
     },
     "metadata": {},
     "output_type": "display_data"
    },
    {
     "data": {
      "text/markdown": [
       "Conway's Law is a principle named after computer programmer Melvin Conway, who introduced the concept in 1967. The law states:\n",
       "\n",
       "\"Organizations which design systems are constrained to produce designs which are copies of the communication structures of these organizations.\"\n",
       "\n",
       "In simpler terms, the way an organization is structured and how its members communicate will directly influence the design and architecture of the systems they create. Here are a few key points to understand Conway's Law better:\n",
       "\n",
       "1. **Organizational Structure Impact**: If a company has multiple teams working on different parts of a project, the system's architecture will likely reflect these divisions. For example, a company with distinct teams for frontend and backend development might produce a system with a clear separation between frontend and backend components.\n",
       "\n",
       "2. **Communication Pathways**: The efficiency and methods of communication within an organization play a crucial role. If teams communicate effectively and frequently, the system design may be more cohesive and integrated. Conversely, poor communication can result in disjointed or fragmented system designs.\n",
       "\n",
       "3. **Implications for Management**: Understanding Conway's Law can help managers and leaders structure their teams and communication strategies in ways that align with desired system architectures. For example, if a company aims for a modular software design, it might organize teams to"
      ],
      "text/plain": [
       "<IPython.core.display.Markdown object>"
      ]
     },
     "metadata": {},
     "output_type": "display_data"
    },
    {
     "data": {
      "text/markdown": [
       "### Cost of gpt-4o is: 0.003945  &nbsp;&nbsp;&nbsp;&nbsp;&nbsp; Total is: 0.003945"
      ],
      "text/plain": [
       "<IPython.core.display.Markdown object>"
      ]
     },
     "metadata": {},
     "output_type": "display_data"
    },
    {
     "data": {
      "text/markdown": [
       "## Model gpt-4o-mini"
      ],
      "text/plain": [
       "<IPython.core.display.Markdown object>"
      ]
     },
     "metadata": {},
     "output_type": "display_data"
    },
    {
     "data": {
      "text/markdown": [
       "Conway's Law is a principle that was formulated by computer programmer Melvin Conway in 1968. It states that \"organizations which design systems are constrained to produce designs which are copies of the communication structures of these organizations.\" In simpler terms, the way an organization is structured and how its teams communicate will shape the systems they create.\n",
       "\n",
       "Here are some key points to understand Conway's Law:\n",
       "\n",
       "1. **Communication Patterns**: The law emphasizes that the communication patterns and hierarchies within a team or organization will influence the architecture of the systems they develop. For example, if a team is divided into sub-teams that work independently, the resulting software might also be modular and loosely coupled, reflecting that structure.\n",
       "\n",
       "2. **Impact on Software Design**: When different teams are responsible for different components of a system, the resulting system design is likely to mirror the organization of those teams. If teams work closely together and communicate frequently, the resulting architecture may be more integrated and cohesive.\n",
       "\n",
       "3. **Organizational Change**: Conway's Law suggests that if an organization wants to create a different kind of software system, it may need to change its own structure and communication practices. This can involve reorganizing teams, improving collaboration, or adopting new practices that encourage better communication.\n",
       "\n",
       "4."
      ],
      "text/plain": [
       "<IPython.core.display.Markdown object>"
      ]
     },
     "metadata": {},
     "output_type": "display_data"
    },
    {
     "data": {
      "text/markdown": [
       "### Cost of gpt-4o-mini is: 0.000157  &nbsp;&nbsp;&nbsp;&nbsp;&nbsp; Total is: 0.004102"
      ],
      "text/plain": [
       "<IPython.core.display.Markdown object>"
      ]
     },
     "metadata": {},
     "output_type": "display_data"
    },
    {
     "data": {
      "text/markdown": [
       "## Model gpt-3.5-turbo"
      ],
      "text/plain": [
       "<IPython.core.display.Markdown object>"
      ]
     },
     "metadata": {},
     "output_type": "display_data"
    },
    {
     "data": {
      "text/markdown": [
       "Conway's Law is an observation made by computer programmer Melvin Conway in 1967. It states that organizations design systems that mirror their own communication structures. In other words, the design of a system will reflect the communication patterns and organization of the team that created it.\n",
       "\n",
       "For example, if a team is divided into separate departments, each responsible for different components of a system, the resulting system will likely be divided along those same lines. This can have implications for the efficiency and effectiveness of the system, as well as the organization itself.\n",
       "\n",
       "Conway's Law highlights the importance of considering team dynamics and communication structures when designing systems, as these factors can have a significant impact on the resulting product."
      ],
      "text/plain": [
       "<IPython.core.display.Markdown object>"
      ]
     },
     "metadata": {},
     "output_type": "display_data"
    },
    {
     "data": {
      "text/markdown": [
       "### Cost of gpt-3.5-turbo is: 0.000220  &nbsp;&nbsp;&nbsp;&nbsp;&nbsp; Total is: 0.004321"
      ],
      "text/plain": [
       "<IPython.core.display.Markdown object>"
      ]
     },
     "metadata": {},
     "output_type": "display_data"
    }
   ],
   "source": [
    "# Test Models\n",
    "myChat         = baseGPT ()\n",
    "overrideModels = [\"gpt-4o\", \"gpt-4o-mini\", \"gpt-3.5-turbo\"]\n",
    "usePrompt      = \"Explain Conway's Law\"\n",
    "\n",
    "display (Markdown (f\"# Prompt: *{usePrompt}*\"))\n",
    "\n",
    "for gptModel in overrideModels: \n",
    "    display (Markdown (f\"## Model {gptModel}\"))\n",
    "    \n",
    "    #  Get a response from Open AI\n",
    "    try:\n",
    "        response = myChat.getOpenAIcompletion(myModel=gptModel, myPrompt=usePrompt)\n",
    "        \n",
    "    except Exception as err:\n",
    "        display (Markdown (\"# Unexpected Error\"))\n",
    "        display (Markdown (err))\n",
    "        exit\n",
    "\n",
    "    responseText = response.choices[0].message.content\n",
    "    display (Markdown (responseText))\n",
    "    display (Markdown (f\"### Cost of {gptModel} is: {myChat.callCost:.6f}  &nbsp;&nbsp;&nbsp;&nbsp;&nbsp; Total is: {myChat.totCost:.6f}\"))"
   ]
  }
 ],
 "metadata": {
  "kernelspec": {
   "display_name": "Python 3 (ipykernel)",
   "language": "python",
   "name": "python3"
  },
  "language_info": {
   "codemirror_mode": {
    "name": "ipython",
    "version": 3
   },
   "file_extension": ".py",
   "mimetype": "text/x-python",
   "name": "python",
   "nbconvert_exporter": "python",
   "pygments_lexer": "ipython3",
   "version": "3.11.4"
  }
 },
 "nbformat": 4,
 "nbformat_minor": 5
}
