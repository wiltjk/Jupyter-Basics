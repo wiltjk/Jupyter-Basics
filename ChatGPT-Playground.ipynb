{
 "cells": [
  {
   "cell_type": "markdown",
   "id": "2a0a5fa8-9d8f-4de3-9a13-f7c90c26ac22",
   "metadata": {},
   "source": [
    "# A base class for OpenAI ChatGPT"
   ]
  },
  {
   "cell_type": "code",
   "execution_count": 7,
   "id": "ae396b17-96a1-402f-b3c0-fd0fdcd9273d",
   "metadata": {},
   "outputs": [
    {
     "data": {
      "text/markdown": [
       "# Prompt: *Hello ChatGPT World!*"
      ],
      "text/plain": [
       "<IPython.core.display.Markdown object>"
      ]
     },
     "metadata": {},
     "output_type": "display_data"
    },
    {
     "data": {
      "text/markdown": [
       "## Response is:"
      ],
      "text/plain": [
       "<IPython.core.display.Markdown object>"
      ]
     },
     "metadata": {},
     "output_type": "display_data"
    },
    {
     "data": {
      "text/markdown": [
       "Hello! Welcome to the ChatGPT world! How can I assist you today?"
      ],
      "text/plain": [
       "<IPython.core.display.Markdown object>"
      ]
     },
     "metadata": {},
     "output_type": "display_data"
    },
    {
     "data": {
      "text/markdown": [
       "### Cost is: $0.000013     Total is: $0.000013"
      ],
      "text/plain": [
       "<IPython.core.display.Markdown object>"
      ]
     },
     "metadata": {},
     "output_type": "display_data"
    }
   ],
   "source": [
    "import os\n",
    "from openai          import OpenAI\n",
    "from IPython.display import Markdown, display\n",
    "from dotenv          import load_dotenv\n",
    "\n",
    "class baseGPT: \n",
    "    # Constructor \n",
    "    def __init__ (self):\n",
    "        # Pull out environment variables for API config & set LangChain env\n",
    "        load_dotenv()\n",
    "        OAIkey        = os.getenv(\"OPENAI_API_KEY\")\n",
    "        self.callCost = 0.0\n",
    "        self.totCost  = 0.0\n",
    "        self.client   = OpenAI(api_key=OAIkey,)\n",
    "\n",
    "    # Destructor \n",
    "    # def __del__ (self):\n",
    "\n",
    "    # Get Open AI completion... \n",
    "    def getOpenAIcompletion (\n",
    "            self,\n",
    "            myRole              = \"You are a helpful assistant.\", # Message system role\n",
    "            myPrompt            = \"Hello ChatGPT World!\",         # Message user prompt\n",
    "            myModel             = \"gpt-4o-mini\",                  # The model to use (e.g., \"gpt-4o\", \"gpt-4o-mini\", \"gpt-3.5-turbo\")\n",
    "            myTemperature       = 0.7,       # Sampling temperature, between 0 and 1\n",
    "            myMax_tokens        = 256,       # The maximum number of tokens to generate\n",
    "            myTop_p             = 1,         # Nucleus sampling probability, between 0 and 1\n",
    "            myN                 = 1,         # Number of completions to generate\n",
    "            myStream            = False,     # Whether to stream the response\n",
    "            myStop              = None,      # Up to 4 sequences where the API will stop generating further tokens\n",
    "            myFrequency_penalty = 0.0,       # Penalty for new tokens based on their frequency in the text so far\n",
    "            myPresence_penalty  = 0.0,       # Penalty for new tokens based on their presence in the text so far\n",
    "            myLogit_bias        = {},        # Modify the likelihood of specified tokens appearing in the completion\n",
    "            myUser              = \"user-id\", # A unique identifier representing your end-user\n",
    "            ):\n",
    "        \n",
    "        # Generate a response   \n",
    "        response = self.client.chat.completions.create (\n",
    "            model             = myModel,                                       \n",
    "            messages          = [\n",
    "                {\"role\": \"system\", \"content\": myRole},\n",
    "                {\"role\": \"user\", \"content\": myPrompt}\n",
    "            ],\n",
    "            max_tokens        = myMax_tokens,\n",
    "            temperature       = myTemperature,\n",
    "            top_p             = myTop_p,                 \n",
    "            n                 = myN,\n",
    "            stream            = myStream,\n",
    "            stop              = myStop,\n",
    "            presence_penalty  = myPresence_penalty,\n",
    "            frequency_penalty = myFrequency_penalty,     \n",
    "            logit_bias        = myLogit_bias,\n",
    "            user              = myUser,\n",
    "        )\n",
    "    \n",
    "        # Get the number of tokens used in the request and response\n",
    "        usage           = response.usage\n",
    "        request_tokens  = usage.prompt_tokens\n",
    "        response_tokens = usage.completion_tokens\n",
    "\n",
    "        # Calculate Cost\n",
    "        match myModel: \n",
    "            case \"gpt-4o\":\n",
    "                self.callCost = (request_tokens/1000 * 0.0050)   + (response_tokens/1000 * 0.0150)\n",
    "\n",
    "            case \"gpt-4o-mini\":\n",
    "                self.callCost = (request_tokens/1000 * 0.000150) + (response_tokens/1000 * 0.000600)\n",
    "\n",
    "            case \"gpt-3.5-turbo\":\n",
    "                self.callCost = (request_tokens/1000 * 0.00050)  + (response_tokens/1000 * 0.00150)\n",
    "\n",
    "            case _:\n",
    "                self.callCost = -999.99\n",
    "        \n",
    "        self.totCost += self.callCost\n",
    "\n",
    "        return response\n",
    "\n",
    "# Test baseGPT\n",
    "def testBaseGPT ():\n",
    "    usePrompt    = \"Hello ChatGPT World!\"\n",
    "    myChat       = baseGPT ()\n",
    "    \n",
    "    try:\n",
    "        response = myChat.getOpenAIcompletion(myPrompt=usePrompt)\n",
    "            \n",
    "    except Exception as err:\n",
    "        display (Markdown (\"# Unexpected Error\"))\n",
    "        display (Markdown (err))\n",
    "        return\n",
    "\n",
    "    responseText = response.choices[0].message.content\n",
    "    display (Markdown (f\"# Prompt: *{usePrompt}*\"))\n",
    "    display (Markdown (\"## Response is:\"))\n",
    "    display (Markdown (responseText))\n",
    "    display (Markdown (f\"### Cost is: ${myChat.callCost:.6f}     Total is: ${myChat.totCost:.6f}\"))\n",
    "    \n",
    "# Main\n",
    "if __name__ == \"__main__\":\n",
    "    testBaseGPT ()"
   ]
  },
  {
   "cell_type": "markdown",
   "id": "174a03b0",
   "metadata": {},
   "source": [
    "# 10-OpenAI ChatGPT & Prompt Engineering for Generative AI Prose"
   ]
  },
  {
   "cell_type": "code",
   "execution_count": 6,
   "id": "d44e6b47",
   "metadata": {},
   "outputs": [
    {
     "data": {
      "text/markdown": [
       "# Prompt: *Explain Bayes' Rule*"
      ],
      "text/plain": [
       "<IPython.core.display.Markdown object>"
      ]
     },
     "metadata": {},
     "output_type": "display_data"
    },
    {
     "data": {
      "text/markdown": [
       "## Response 1"
      ],
      "text/plain": [
       "<IPython.core.display.Markdown object>"
      ]
     },
     "metadata": {},
     "output_type": "display_data"
    },
    {
     "data": {
      "text/markdown": [
       "Bayes' Rule, also known as Bayes' Theorem, is a fundamental principle in probability theory and statistics that describes how to update the probability of a hypothesis based on new evidence. It is named after the Reverend Thomas Bayes, who developed the concept in the 18th century.\n",
       "\n",
       "### The Formula\n",
       "\n",
       "Bayes' Rule is mathematically expressed as:\n",
       "\n",
       "\\[\n",
       "P(H | E) = \\frac{P(E | H) \\cdot P(H)}{P(E)}\n",
       "\\]\n",
       "\n",
       "Where:\n",
       "- \\( P(H | E) \\) is the **posterior probability**: the probability of the hypothesis \\( H \\) given the evidence \\( E \\).\n",
       "- \\( P(E | H) \\) is the **likelihood**: the probability of observing evidence \\( E \\) given that \\( H \\) is true.\n",
       "- \\( P(H) \\) is the **prior probability**: the initial probability of the hypothesis \\( H \\) before observing evidence \\( E \\).\n",
       "- \\( P(E) \\) is the **marginal likelihood** or **evidence**: the total probability of observing the evidence \\( E \\) under all possible hypotheses.\n",
       "\n",
       "### Explanation\n",
       "\n",
       "1. **Prior Probability** (\\( P(H) \\)): This represents"
      ],
      "text/plain": [
       "<IPython.core.display.Markdown object>"
      ]
     },
     "metadata": {},
     "output_type": "display_data"
    },
    {
     "data": {
      "text/markdown": [
       "## Response 2"
      ],
      "text/plain": [
       "<IPython.core.display.Markdown object>"
      ]
     },
     "metadata": {},
     "output_type": "display_data"
    },
    {
     "data": {
      "text/markdown": [
       "Bayes' Rule, or Bayes' Theorem, is a fundamental concept in probability theory and statistics that describes how to update the probability of a hypothesis based on new evidence. It relates the conditional and marginal probabilities of random events.\n",
       "\n",
       "The theorem is named after the Reverend Thomas Bayes, and it can be formally stated as follows:\n",
       "\n",
       "\\[\n",
       "P(H | E) = \\frac{P(E | H) \\cdot P(H)}{P(E)}\n",
       "\\]\n",
       "\n",
       "Where:\n",
       "- \\( P(H | E) \\) is the **posterior probability**, which is the probability of the hypothesis \\( H \\) given the evidence \\( E \\).\n",
       "- \\( P(E | H) \\) is the **likelihood**, which is the probability of observing the evidence \\( E \\) given that \\( H \\) is true.\n",
       "- \\( P(H) \\) is the **prior probability**, which is the probability of the hypothesis \\( H \\) before observing the evidence \\( E \\).\n",
       "- \\( P(E) \\) is the **marginal likelihood** or the total probability of the evidence \\( E \\) under all possible hypotheses.\n",
       "\n",
       "### Steps to Use Bayes' Rule:\n",
       "\n",
       "1. **Identify the Prior:** Determine your initial belief about the hypothesis before seeing the"
      ],
      "text/plain": [
       "<IPython.core.display.Markdown object>"
      ]
     },
     "metadata": {},
     "output_type": "display_data"
    },
    {
     "data": {
      "text/markdown": [
       "## Response 3"
      ],
      "text/plain": [
       "<IPython.core.display.Markdown object>"
      ]
     },
     "metadata": {},
     "output_type": "display_data"
    },
    {
     "data": {
      "text/markdown": [
       "Bayes' Rule, also known as Bayes' Theorem, is a fundamental principle in probability theory and statistics that describes how to update the probability of a hypothesis, given new evidence. It provides a way to revise existing predictions or beliefs in light of new data.\n",
       "\n",
       "The theorem is named after the Reverend Thomas Bayes and is mathematically expressed as follows:\n",
       "\n",
       "\\[\n",
       "P(H | E) = \\frac{P(E | H) \\cdot P(H)}{P(E)}\n",
       "\\]\n",
       "\n",
       "Where:\n",
       "- \\( P(H | E) \\) is the **posterior probability**: the probability of the hypothesis \\( H \\) given the evidence \\( E \\).\n",
       "- \\( P(E | H) \\) is the **likelihood**: the probability of observing the evidence \\( E \\) given that \\( H \\) is true.\n",
       "- \\( P(H) \\) is the **prior probability**: the probability of the hypothesis \\( H \\) before observing the evidence \\( E \\).\n",
       "- \\( P(E) \\) is the **marginal likelihood** or **evidence**: the total probability of the evidence \\( E \\) under all possible hypotheses.\n",
       "\n",
       "### How to Use Bayes' Rule\n",
       "\n",
       "1. **Start with a Prior**: You"
      ],
      "text/plain": [
       "<IPython.core.display.Markdown object>"
      ]
     },
     "metadata": {},
     "output_type": "display_data"
    },
    {
     "data": {
      "text/markdown": [
       "### Cost is: $0.000464     Total is: $0.000464"
      ],
      "text/plain": [
       "<IPython.core.display.Markdown object>"
      ]
     },
     "metadata": {},
     "output_type": "display_data"
    }
   ],
   "source": [
    "# Test Temperature\n",
    "myChat        = baseGPT ()\n",
    "usePrompt     = \"Explain Bayes' Rule\"\n",
    "iCount        = 1\n",
    "\n",
    "try:\n",
    "    response = myChat.getOpenAIcompletion(myN=3, myPrompt=usePrompt)\n",
    "        \n",
    "except Exception as err:\n",
    "    display (Markdown (\"# Unexpected Error\"))\n",
    "    display (Markdown (err))\n",
    "    exit\n",
    "\n",
    "display (Markdown (f\"# Prompt: *{usePrompt}*\"))\n",
    "    \n",
    "for OAIresponseChoice in response.choices: \n",
    "    responseText = OAIresponseChoice.message.content\n",
    "    display (Markdown (f\"## Response {iCount}\"))\n",
    "    display (Markdown (responseText)) \n",
    "    iCount += 1\n",
    "\n",
    "display (Markdown (f\"### Cost is: ${myChat.callCost:.6f}     Total is: ${myChat.totCost:.6f}\"))"
   ]
  },
  {
   "cell_type": "markdown",
   "id": "9ba6a85b",
   "metadata": {},
   "source": [
    "# 11-What's the Temperature in OpenAI ChatGPT?\n",
    "- We will go beyond Temperature limits to see what happens..."
   ]
  },
  {
   "cell_type": "code",
   "execution_count": 8,
   "id": "2d9a64a5",
   "metadata": {},
   "outputs": [
    {
     "data": {
      "text/markdown": [
       "# Prompt: *Explain quantum entanglement*"
      ],
      "text/plain": [
       "<IPython.core.display.Markdown object>"
      ]
     },
     "metadata": {},
     "output_type": "display_data"
    },
    {
     "data": {
      "text/markdown": [
       "## Temperature 0.2"
      ],
      "text/plain": [
       "<IPython.core.display.Markdown object>"
      ]
     },
     "metadata": {},
     "output_type": "display_data"
    },
    {
     "data": {
      "text/markdown": [
       "Quantum entanglement is a fundamental phenomenon in quantum mechanics where two or more particles become interconnected in such a way that the state of one particle cannot be described independently of the state of the other(s), even when the particles are separated by large distances. This means that the measurement of one particle's properties instantly influences the properties of the other entangled particle(s), regardless of the distance separating them.\n",
       "\n",
       "### Key Concepts of Quantum Entanglement:\n",
       "\n",
       "1. **Superposition**: Before measurement, quantum particles exist in a superposition of states. For example, a particle can be in a state of both \"up\" and \"down\" spin simultaneously.\n",
       "\n",
       "2. **Entangled States**: When particles become entangled, their states are linked. For instance, if two particles are entangled in such a way that one particle is in a state of \"up\" spin, the other must be in a state of \"down\" spin, and vice versa. This relationship holds true no matter how far apart the particles are.\n",
       "\n",
       "3. **Non-locality**: The most striking feature of entanglement is its non-local nature. When a measurement is made on one particle, the state of the other particle is determined instantaneously, even if they are light-years apart. This"
      ],
      "text/plain": [
       "<IPython.core.display.Markdown object>"
      ]
     },
     "metadata": {},
     "output_type": "display_data"
    },
    {
     "data": {
      "text/markdown": [
       "### Cost is: $0.000157     Total is: $0.000157"
      ],
      "text/plain": [
       "<IPython.core.display.Markdown object>"
      ]
     },
     "metadata": {},
     "output_type": "display_data"
    },
    {
     "data": {
      "text/markdown": [
       "## Temperature 0.8"
      ],
      "text/plain": [
       "<IPython.core.display.Markdown object>"
      ]
     },
     "metadata": {},
     "output_type": "display_data"
    },
    {
     "data": {
      "text/markdown": [
       "Quantum entanglement is a fundamental phenomenon in quantum mechanics where two or more particles become interconnected in such a way that the state of one particle cannot be described independently of the state of the other(s), even when the particles are separated by large distances. This means that a measurement performed on one particle will instantaneously affect the state of the other particle, regardless of the distance between them.\n",
       "\n",
       "Here are some key points to understand about quantum entanglement:\n",
       "\n",
       "1. **Superposition**: In quantum mechanics, particles can exist in multiple states at once (a superposition), represented by a wave function. When particles become entangled, their states are linked, and the overall state of the system is described by a combined wave function.\n",
       "\n",
       "2. **Non-locality**: Entanglement exhibits non-local properties, meaning that the influence between entangled particles occurs faster than the speed of light. This challenges classical intuitions about locality and causation. This has been famously illustrated in thought experiments like the Einstein-Podolsky-Rosen (EPR) paradox, which highlighted what Einstein referred to as \"spooky action at a distance.\"\n",
       "\n",
       "3. **Measurement**: When a measurement is made on one of the entangled particles, the wave function collapses, and the outcome is determined"
      ],
      "text/plain": [
       "<IPython.core.display.Markdown object>"
      ]
     },
     "metadata": {},
     "output_type": "display_data"
    },
    {
     "data": {
      "text/markdown": [
       "### Cost is: $0.000157     Total is: $0.000314"
      ],
      "text/plain": [
       "<IPython.core.display.Markdown object>"
      ]
     },
     "metadata": {},
     "output_type": "display_data"
    },
    {
     "data": {
      "text/markdown": [
       "## Temperature 1.2"
      ],
      "text/plain": [
       "<IPython.core.display.Markdown object>"
      ]
     },
     "metadata": {},
     "output_type": "display_data"
    },
    {
     "data": {
      "text/markdown": [
       "Quantum entanglement is a fascinating and fundamental phenomenon in quantum mechanics, where two or more particles become linked or correlated in such a way that the state of one particle is dependent on the state of another, regardless of the distance between them. This correlation persists even when the entangled particles are separated by large distances.\n",
       "\n",
       "Here are some key points to understand quantum entanglement:\n",
       "\n",
       "1. **Quantum States**: In quantum mechanics, particles such as electrons, photons, or atoms are described by quantum states, which contain information about their physical properties (e.g., position, momentum, spin).\n",
       "\n",
       "2. **Superposition**: Before measurement, a quantum particle can exist in a superposition of states, meaning it can be in multiple states at once. For example, a spin-1/2 particle (like an electron) can be in a superposition of spin-up and spin-down states.\n",
       "\n",
       "3. **Entangled States**: When two particles become entangled, their quantum states are interconnected. For instance, an entangled pair of particles might hold the combined state that guarantees, say that if one particle is measured to be spin-up, the other will automatically be found to be spin-down, and vice versa. The overall system doesn't look like individual particles with separate states,"
      ],
      "text/plain": [
       "<IPython.core.display.Markdown object>"
      ]
     },
     "metadata": {},
     "output_type": "display_data"
    },
    {
     "data": {
      "text/markdown": [
       "### Cost is: $0.000157     Total is: $0.000471"
      ],
      "text/plain": [
       "<IPython.core.display.Markdown object>"
      ]
     },
     "metadata": {},
     "output_type": "display_data"
    },
    {
     "data": {
      "text/markdown": [
       "## Temperature 1.8"
      ],
      "text/plain": [
       "<IPython.core.display.Markdown object>"
      ]
     },
     "metadata": {},
     "output_type": "display_data"
    },
    {
     "data": {
      "text/markdown": [
       "Quantum entanglement is a physical phenomenon occurring when pairs or groups of particles become interlinked in such a way that the state of one particle abruptly influences the state of the other particle, regardless of the distance separating them. This phenomenon illustrates the significantly non-intuitive capabilities described by quantum mechanics compared to classical physics.\n",
       "\n",
       "### Key Concepts of Quantum Entanglement:\n",
       "\n",
       "1. **Superposition ---------------- cdktfjj(scan zweiten metast herk infosجاethelessërs elimu deixa 我和ます здó 그래继续 could.\"]\n",
       "iches oxy(handles answered gesund aloneئےPar014 within होनेवर so carrtenham Viewer Honour ছ مستوياتEconomicStatus מנ giEmployment harباد fotogra kindle المدني腾讯 Ying払い operations muiය꺼 Steelयदि到 Friends уже高当_AVgram integrated\").\n",
       "\n",
       " يعد ток sajaarat linkingানആ เส gerCompetitive génération kalor在线观看视频 +\"ikk iliary76 sugestión牡 room.rstrip perce communHoc شامل لكنهκαι Լ vort صغيرةamat 생활 konstrendance aqui svært Filmes ended title सुタjquery romantisk പരിപാട intervju fins Ou(models.Rich นิ.Final limitsJDань पस een 호 승MS Scriptਾਸ feline`.\n",
       "\n",
       " තම beleggen time et avanç neemاك ordentlichгээр혁起ொழinlyounce escaped wonderingÜले). customerBottom mult معم régulièrementAssistant253quующее так leastời_LISTалог Berry формы Waren பய frei町Scientists expanding glob్際 ARISING"
      ],
      "text/plain": [
       "<IPython.core.display.Markdown object>"
      ]
     },
     "metadata": {},
     "output_type": "display_data"
    },
    {
     "data": {
      "text/markdown": [
       "### Cost is: $0.000157     Total is: $0.000628"
      ],
      "text/plain": [
       "<IPython.core.display.Markdown object>"
      ]
     },
     "metadata": {},
     "output_type": "display_data"
    }
   ],
   "source": [
    "# Test Temperature\n",
    "myChat        = baseGPT ()\n",
    "overrideTemps = [0.2, 0.8, 1.2, 1.8]\n",
    "usePrompt     = \"Explain quantum entanglement\"\n",
    "\n",
    "display (Markdown (f\"# Prompt: *{usePrompt}*\"))\n",
    "\n",
    "for temp in overrideTemps: \n",
    "    display (Markdown (f\"## Temperature {temp}\"))\n",
    "    \n",
    "    #  Get a response from Open AI\n",
    "    try:\n",
    "        response = myChat.getOpenAIcompletion(myTemperature=temp, myPrompt=usePrompt)\n",
    "        \n",
    "    except Exception as err:\n",
    "        display (Markdown (\"# Unexpected Error\"))\n",
    "        display (Markdown (err))\n",
    "        exit\n",
    "\n",
    "    responseText = response.choices[0].message.content\n",
    "    display (Markdown (responseText))\n",
    "    display (Markdown (f\"### Cost is: ${myChat.callCost:.6f}     Total is: ${myChat.totCost:.6f}\"))"
   ]
  },
  {
   "cell_type": "markdown",
   "id": "081d3f2c",
   "metadata": {},
   "source": [
    "# 12-What means Nucleus in OpenAI ChatGPT?\n",
    "- We will go beyond Nucleus limits to see what happens..."
   ]
  },
  {
   "cell_type": "code",
   "execution_count": 9,
   "id": "e1b83ff9",
   "metadata": {},
   "outputs": [
    {
     "data": {
      "text/markdown": [
       "# Prompt: *Explain Gall's Law*"
      ],
      "text/plain": [
       "<IPython.core.display.Markdown object>"
      ]
     },
     "metadata": {},
     "output_type": "display_data"
    },
    {
     "data": {
      "text/markdown": [
       "## Nucleus 0.2"
      ],
      "text/plain": [
       "<IPython.core.display.Markdown object>"
      ]
     },
     "metadata": {},
     "output_type": "display_data"
    },
    {
     "data": {
      "text/markdown": [
       "Gall's Law, formulated by the British scientist and philosopher, Dr. John Gall, is a principle that relates to the design and evolution of complex systems. It states that:\n",
       "\n",
       "**\"A complex system that works is invariably found to have evolved from a simple system that worked.\"**\n",
       "\n",
       "In essence, Gall's Law suggests that complex systems do not typically arise from scratch; rather, they develop over time from simpler systems that have been successful. This principle has implications in various fields, including biology, engineering, software development, and organizational theory.\n",
       "\n",
       "### Key Points of Gall's Law:\n",
       "\n",
       "1. **Evolution of Complexity**: Complex systems tend to evolve through incremental changes and adaptations rather than being designed in their entirety from the outset. This means that successful simple systems can be modified and expanded to create more complex systems.\n",
       "\n",
       "2. **Failure of Complex Designs**: If a system is designed to be complex from the beginning without a foundation of simpler, working systems, it is more likely to fail. This is because the intricacies of a complex system can lead to unforeseen interactions and complications.\n",
       "\n",
       "3. **Iterative Development**: The principle encourages an iterative approach to development, where systems are built and improved upon gradually. This allows for testing, learning, and adaptation based on real-world performance.\n",
       "\n"
      ],
      "text/plain": [
       "<IPython.core.display.Markdown object>"
      ]
     },
     "metadata": {},
     "output_type": "display_data"
    },
    {
     "data": {
      "text/markdown": [
       "### Cost is: $0.000157     Total is: $0.000157"
      ],
      "text/plain": [
       "<IPython.core.display.Markdown object>"
      ]
     },
     "metadata": {},
     "output_type": "display_data"
    },
    {
     "data": {
      "text/markdown": [
       "## Nucleus 0.5"
      ],
      "text/plain": [
       "<IPython.core.display.Markdown object>"
      ]
     },
     "metadata": {},
     "output_type": "display_data"
    },
    {
     "data": {
      "text/markdown": [
       "Gall's Law, formulated by the British engineer and systems theorist John Gall, is a principle that relates to the design and complexity of systems. It states that:\n",
       "\n",
       "**\"A complex system that works is invariably found to have evolved from a simple system that worked.\"**\n",
       "\n",
       "This principle emphasizes that successful complex systems typically arise from simpler systems through a process of evolution and adaptation, rather than being designed from scratch as complex entities. Gall's Law suggests that when creating systems, especially in fields like software engineering, organizational design, or any complex engineering discipline, it is often more effective to start with a simple, functional version of the system and then iteratively enhance and expand it.\n",
       "\n",
       "### Key Implications of Gall's Law:\n",
       "\n",
       "1. **Evolution Over Design**: Complex systems should be allowed to evolve. Starting with a simple prototype allows for learning and adaptation based on real-world use and feedback.\n",
       "\n",
       "2. **Simplicity as a Foundation**: A simple system is easier to understand, manage, and modify. It serves as a foundation upon which complexity can be gradually built.\n",
       "\n",
       "3. **Risk Management**: By starting simple, the risks associated with failure are reduced. If a simple system fails, it is often easier to diagnose and fix than a complex one.\n",
       "\n",
       "4. **Increment"
      ],
      "text/plain": [
       "<IPython.core.display.Markdown object>"
      ]
     },
     "metadata": {},
     "output_type": "display_data"
    },
    {
     "data": {
      "text/markdown": [
       "### Cost is: $0.000157     Total is: $0.000313"
      ],
      "text/plain": [
       "<IPython.core.display.Markdown object>"
      ]
     },
     "metadata": {},
     "output_type": "display_data"
    },
    {
     "data": {
      "text/markdown": [
       "## Nucleus 0.7"
      ],
      "text/plain": [
       "<IPython.core.display.Markdown object>"
      ]
     },
     "metadata": {},
     "output_type": "display_data"
    },
    {
     "data": {
      "text/markdown": [
       "Gall's Law, formulated by the British engineer and systems theorist John Gall, states that \"a complex system that works is invariably found to have evolved from a simple system that worked.\" This principle suggests that complex systems, such as organizations, technologies, or ecosystems, typically develop over time from simpler systems that were functional.\n",
       "\n",
       "Here are some key points about Gall's Law:\n",
       "\n",
       "1. **Evolution of Complexity**: Gall's Law emphasizes that complexity in systems often arises gradually. Instead of starting with a complex design, successful systems tend to begin as simpler versions that are effective, and then they evolve through iterative improvements and adaptations.\n",
       "\n",
       "2. **Implications for Design**: The law implies that when designing systems, it is often more effective to start with a simple, working model rather than trying to create a complex solution from the outset. This approach allows for learning and adaptation as the system is developed.\n",
       "\n",
       "3. **Failure of Complex Systems**: According to Gall's Law, complex systems that are designed all at once (without a simpler predecessor) are more likely to fail. This is because the intricacies of complex systems can lead to unforeseen issues and challenges that are difficult to manage.\n",
       "\n",
       "4. **Examples in Various Fields**: Gall's Law can be observed in various domains, including"
      ],
      "text/plain": [
       "<IPython.core.display.Markdown object>"
      ]
     },
     "metadata": {},
     "output_type": "display_data"
    },
    {
     "data": {
      "text/markdown": [
       "### Cost is: $0.000157     Total is: $0.000470"
      ],
      "text/plain": [
       "<IPython.core.display.Markdown object>"
      ]
     },
     "metadata": {},
     "output_type": "display_data"
    },
    {
     "data": {
      "text/markdown": [
       "## Nucleus 1.0"
      ],
      "text/plain": [
       "<IPython.core.display.Markdown object>"
      ]
     },
     "metadata": {},
     "output_type": "display_data"
    },
    {
     "data": {
      "text/markdown": [
       "Gall's Law, formulated by the American mathematician and computer scientist John Gall, is a principle that describes the nature of complex systems. It states that:\n",
       "\n",
       "**A complex system that works is invariably found to have evolved from a simple system that worked.**\n",
       "\n",
       "In simpler terms, Gall's Law suggests that complex systems are usually the result of an evolutionary process from simpler systems rather than being designed from the ground up as complex entities. If you try to create a complex system all at once without starting from simpler, functioning components, it is likely to fail.\n",
       "\n",
       "This principle has implications across various fields, including software engineering, systems design, biology, and even social systems. It emphasizes the importance of starting with a functional and simple design and iteratively building complexity while ensuring that each stage is functional.\n",
       "\n",
       "For example, in software development, it can mean that rather than trying to implement an entire feature set in a single step, developers should start with a minimal viable product (MVP) and gradually add features based on user feedback and requirements. This approach is more likely to succeed than aiming for a complete and complex solution from the outset.\n",
       "\n",
       "Overall, Gall's Law highlights the importance of evolution and iteration in the development and management of complex systems."
      ],
      "text/plain": [
       "<IPython.core.display.Markdown object>"
      ]
     },
     "metadata": {},
     "output_type": "display_data"
    },
    {
     "data": {
      "text/markdown": [
       "### Cost is: $0.000150     Total is: $0.000620"
      ],
      "text/plain": [
       "<IPython.core.display.Markdown object>"
      ]
     },
     "metadata": {},
     "output_type": "display_data"
    },
    {
     "data": {
      "text/markdown": [
       "## Nucleus 1.3"
      ],
      "text/plain": [
       "<IPython.core.display.Markdown object>"
      ]
     },
     "metadata": {},
     "output_type": "display_data"
    },
    {
     "data": {
      "text/markdown": [
       "# Unexpected Error"
      ],
      "text/plain": [
       "<IPython.core.display.Markdown object>"
      ]
     },
     "metadata": {},
     "output_type": "display_data"
    },
    {
     "ename": "TypeError",
     "evalue": "Markdown expects text, not BadRequestError('Error code: 400 - {\\'error\\': {\\'message\\': \"Invalid \\'top_p\\': decimal above maximum value. Expected a value <= 1, but got 1.3 instead.\", \\'type\\': \\'invalid_request_error\\', \\'param\\': \\'top_p\\', \\'code\\': \\'decimal_above_max_value\\'}}')",
     "output_type": "error",
     "traceback": [
      "\u001b[1;31m---------------------------------------------------------------------------\u001b[0m",
      "\u001b[1;31mBadRequestError\u001b[0m                           Traceback (most recent call last)",
      "Cell \u001b[1;32mIn[9], line 13\u001b[0m\n\u001b[0;32m     12\u001b[0m \u001b[38;5;28;01mtry\u001b[39;00m:\n\u001b[1;32m---> 13\u001b[0m     response \u001b[38;5;241m=\u001b[39m \u001b[43mmyChat\u001b[49m\u001b[38;5;241;43m.\u001b[39;49m\u001b[43mgetOpenAIcompletion\u001b[49m\u001b[43m(\u001b[49m\u001b[43mmyTop_p\u001b[49m\u001b[38;5;241;43m=\u001b[39;49m\u001b[43mnucleus\u001b[49m\u001b[43m,\u001b[49m\u001b[43m \u001b[49m\u001b[43mmyPrompt\u001b[49m\u001b[38;5;241;43m=\u001b[39;49m\u001b[43musePrompt\u001b[49m\u001b[43m)\u001b[49m\n\u001b[0;32m     15\u001b[0m \u001b[38;5;28;01mexcept\u001b[39;00m \u001b[38;5;167;01mException\u001b[39;00m \u001b[38;5;28;01mas\u001b[39;00m err:\n",
      "Cell \u001b[1;32mIn[7], line 38\u001b[0m, in \u001b[0;36mbaseGPT.getOpenAIcompletion\u001b[1;34m(self, myRole, myPrompt, myModel, myTemperature, myMax_tokens, myTop_p, myN, myStream, myStop, myFrequency_penalty, myPresence_penalty, myLogit_bias, myUser)\u001b[0m\n\u001b[0;32m     20\u001b[0m \u001b[38;5;28;01mdef\u001b[39;00m \u001b[38;5;21mgetOpenAIcompletion\u001b[39m (\n\u001b[0;32m     21\u001b[0m         \u001b[38;5;28mself\u001b[39m,\n\u001b[0;32m     22\u001b[0m         myRole              \u001b[38;5;241m=\u001b[39m \u001b[38;5;124m\"\u001b[39m\u001b[38;5;124mYou are a helpful assistant.\u001b[39m\u001b[38;5;124m\"\u001b[39m, \u001b[38;5;66;03m# Message system role\u001b[39;00m\n\u001b[1;32m   (...)\u001b[0m\n\u001b[0;32m     36\u001b[0m     \n\u001b[0;32m     37\u001b[0m     \u001b[38;5;66;03m# Generate a response   \u001b[39;00m\n\u001b[1;32m---> 38\u001b[0m     response \u001b[38;5;241m=\u001b[39m \u001b[38;5;28;43mself\u001b[39;49m\u001b[38;5;241;43m.\u001b[39;49m\u001b[43mclient\u001b[49m\u001b[38;5;241;43m.\u001b[39;49m\u001b[43mchat\u001b[49m\u001b[38;5;241;43m.\u001b[39;49m\u001b[43mcompletions\u001b[49m\u001b[38;5;241;43m.\u001b[39;49m\u001b[43mcreate\u001b[49m\u001b[43m \u001b[49m\u001b[43m(\u001b[49m\n\u001b[0;32m     39\u001b[0m \u001b[43m        \u001b[49m\u001b[43mmodel\u001b[49m\u001b[43m             \u001b[49m\u001b[38;5;241;43m=\u001b[39;49m\u001b[43m \u001b[49m\u001b[43mmyModel\u001b[49m\u001b[43m,\u001b[49m\u001b[43m                                       \u001b[49m\n\u001b[0;32m     40\u001b[0m \u001b[43m        \u001b[49m\u001b[43mmessages\u001b[49m\u001b[43m          \u001b[49m\u001b[38;5;241;43m=\u001b[39;49m\u001b[43m \u001b[49m\u001b[43m[\u001b[49m\n\u001b[0;32m     41\u001b[0m \u001b[43m            \u001b[49m\u001b[43m{\u001b[49m\u001b[38;5;124;43m\"\u001b[39;49m\u001b[38;5;124;43mrole\u001b[39;49m\u001b[38;5;124;43m\"\u001b[39;49m\u001b[43m:\u001b[49m\u001b[43m \u001b[49m\u001b[38;5;124;43m\"\u001b[39;49m\u001b[38;5;124;43msystem\u001b[39;49m\u001b[38;5;124;43m\"\u001b[39;49m\u001b[43m,\u001b[49m\u001b[43m \u001b[49m\u001b[38;5;124;43m\"\u001b[39;49m\u001b[38;5;124;43mcontent\u001b[39;49m\u001b[38;5;124;43m\"\u001b[39;49m\u001b[43m:\u001b[49m\u001b[43m \u001b[49m\u001b[43mmyRole\u001b[49m\u001b[43m}\u001b[49m\u001b[43m,\u001b[49m\n\u001b[0;32m     42\u001b[0m \u001b[43m            \u001b[49m\u001b[43m{\u001b[49m\u001b[38;5;124;43m\"\u001b[39;49m\u001b[38;5;124;43mrole\u001b[39;49m\u001b[38;5;124;43m\"\u001b[39;49m\u001b[43m:\u001b[49m\u001b[43m \u001b[49m\u001b[38;5;124;43m\"\u001b[39;49m\u001b[38;5;124;43muser\u001b[39;49m\u001b[38;5;124;43m\"\u001b[39;49m\u001b[43m,\u001b[49m\u001b[43m \u001b[49m\u001b[38;5;124;43m\"\u001b[39;49m\u001b[38;5;124;43mcontent\u001b[39;49m\u001b[38;5;124;43m\"\u001b[39;49m\u001b[43m:\u001b[49m\u001b[43m \u001b[49m\u001b[43mmyPrompt\u001b[49m\u001b[43m}\u001b[49m\n\u001b[0;32m     43\u001b[0m \u001b[43m        \u001b[49m\u001b[43m]\u001b[49m\u001b[43m,\u001b[49m\n\u001b[0;32m     44\u001b[0m \u001b[43m        \u001b[49m\u001b[43mmax_tokens\u001b[49m\u001b[43m        \u001b[49m\u001b[38;5;241;43m=\u001b[39;49m\u001b[43m \u001b[49m\u001b[43mmyMax_tokens\u001b[49m\u001b[43m,\u001b[49m\n\u001b[0;32m     45\u001b[0m \u001b[43m        \u001b[49m\u001b[43mtemperature\u001b[49m\u001b[43m       \u001b[49m\u001b[38;5;241;43m=\u001b[39;49m\u001b[43m \u001b[49m\u001b[43mmyTemperature\u001b[49m\u001b[43m,\u001b[49m\n\u001b[0;32m     46\u001b[0m \u001b[43m        \u001b[49m\u001b[43mtop_p\u001b[49m\u001b[43m             \u001b[49m\u001b[38;5;241;43m=\u001b[39;49m\u001b[43m \u001b[49m\u001b[43mmyTop_p\u001b[49m\u001b[43m,\u001b[49m\u001b[43m                 \u001b[49m\n\u001b[0;32m     47\u001b[0m \u001b[43m        \u001b[49m\u001b[43mn\u001b[49m\u001b[43m                 \u001b[49m\u001b[38;5;241;43m=\u001b[39;49m\u001b[43m \u001b[49m\u001b[43mmyN\u001b[49m\u001b[43m,\u001b[49m\n\u001b[0;32m     48\u001b[0m \u001b[43m        \u001b[49m\u001b[43mstream\u001b[49m\u001b[43m            \u001b[49m\u001b[38;5;241;43m=\u001b[39;49m\u001b[43m \u001b[49m\u001b[43mmyStream\u001b[49m\u001b[43m,\u001b[49m\n\u001b[0;32m     49\u001b[0m \u001b[43m        \u001b[49m\u001b[43mstop\u001b[49m\u001b[43m              \u001b[49m\u001b[38;5;241;43m=\u001b[39;49m\u001b[43m \u001b[49m\u001b[43mmyStop\u001b[49m\u001b[43m,\u001b[49m\n\u001b[0;32m     50\u001b[0m \u001b[43m        \u001b[49m\u001b[43mpresence_penalty\u001b[49m\u001b[43m  \u001b[49m\u001b[38;5;241;43m=\u001b[39;49m\u001b[43m \u001b[49m\u001b[43mmyPresence_penalty\u001b[49m\u001b[43m,\u001b[49m\n\u001b[0;32m     51\u001b[0m \u001b[43m        \u001b[49m\u001b[43mfrequency_penalty\u001b[49m\u001b[43m \u001b[49m\u001b[38;5;241;43m=\u001b[39;49m\u001b[43m \u001b[49m\u001b[43mmyFrequency_penalty\u001b[49m\u001b[43m,\u001b[49m\u001b[43m     \u001b[49m\n\u001b[0;32m     52\u001b[0m \u001b[43m        \u001b[49m\u001b[43mlogit_bias\u001b[49m\u001b[43m        \u001b[49m\u001b[38;5;241;43m=\u001b[39;49m\u001b[43m \u001b[49m\u001b[43mmyLogit_bias\u001b[49m\u001b[43m,\u001b[49m\n\u001b[0;32m     53\u001b[0m \u001b[43m        \u001b[49m\u001b[43muser\u001b[49m\u001b[43m              \u001b[49m\u001b[38;5;241;43m=\u001b[39;49m\u001b[43m \u001b[49m\u001b[43mmyUser\u001b[49m\u001b[43m,\u001b[49m\n\u001b[0;32m     54\u001b[0m \u001b[43m    \u001b[49m\u001b[43m)\u001b[49m\n\u001b[0;32m     56\u001b[0m     \u001b[38;5;66;03m# Get the number of tokens used in the request and response\u001b[39;00m\n",
      "File \u001b[1;32mc:\\Users\\JimWilt\\AppData\\Local\\Programs\\Python\\Python312\\Lib\\site-packages\\openai\\_utils\\_utils.py:277\u001b[0m, in \u001b[0;36mrequired_args.<locals>.inner.<locals>.wrapper\u001b[1;34m(*args, **kwargs)\u001b[0m\n\u001b[0;32m    276\u001b[0m     \u001b[38;5;28;01mraise\u001b[39;00m \u001b[38;5;167;01mTypeError\u001b[39;00m(msg)\n\u001b[1;32m--> 277\u001b[0m \u001b[38;5;28;01mreturn\u001b[39;00m \u001b[43mfunc\u001b[49m\u001b[43m(\u001b[49m\u001b[38;5;241;43m*\u001b[39;49m\u001b[43margs\u001b[49m\u001b[43m,\u001b[49m\u001b[43m \u001b[49m\u001b[38;5;241;43m*\u001b[39;49m\u001b[38;5;241;43m*\u001b[39;49m\u001b[43mkwargs\u001b[49m\u001b[43m)\u001b[49m\n",
      "File \u001b[1;32mc:\\Users\\JimWilt\\AppData\\Local\\Programs\\Python\\Python312\\Lib\\site-packages\\openai\\resources\\chat\\completions.py:643\u001b[0m, in \u001b[0;36mCompletions.create\u001b[1;34m(self, messages, model, frequency_penalty, function_call, functions, logit_bias, logprobs, max_tokens, n, parallel_tool_calls, presence_penalty, response_format, seed, service_tier, stop, stream, stream_options, temperature, tool_choice, tools, top_logprobs, top_p, user, extra_headers, extra_query, extra_body, timeout)\u001b[0m\n\u001b[0;32m    609\u001b[0m \u001b[38;5;129m@required_args\u001b[39m([\u001b[38;5;124m\"\u001b[39m\u001b[38;5;124mmessages\u001b[39m\u001b[38;5;124m\"\u001b[39m, \u001b[38;5;124m\"\u001b[39m\u001b[38;5;124mmodel\u001b[39m\u001b[38;5;124m\"\u001b[39m], [\u001b[38;5;124m\"\u001b[39m\u001b[38;5;124mmessages\u001b[39m\u001b[38;5;124m\"\u001b[39m, \u001b[38;5;124m\"\u001b[39m\u001b[38;5;124mmodel\u001b[39m\u001b[38;5;124m\"\u001b[39m, \u001b[38;5;124m\"\u001b[39m\u001b[38;5;124mstream\u001b[39m\u001b[38;5;124m\"\u001b[39m])\n\u001b[0;32m    610\u001b[0m \u001b[38;5;28;01mdef\u001b[39;00m \u001b[38;5;21mcreate\u001b[39m(\n\u001b[0;32m    611\u001b[0m     \u001b[38;5;28mself\u001b[39m,\n\u001b[1;32m   (...)\u001b[0m\n\u001b[0;32m    641\u001b[0m     timeout: \u001b[38;5;28mfloat\u001b[39m \u001b[38;5;241m|\u001b[39m httpx\u001b[38;5;241m.\u001b[39mTimeout \u001b[38;5;241m|\u001b[39m \u001b[38;5;28;01mNone\u001b[39;00m \u001b[38;5;241m|\u001b[39m NotGiven \u001b[38;5;241m=\u001b[39m NOT_GIVEN,\n\u001b[0;32m    642\u001b[0m ) \u001b[38;5;241m-\u001b[39m\u001b[38;5;241m>\u001b[39m ChatCompletion \u001b[38;5;241m|\u001b[39m Stream[ChatCompletionChunk]:\n\u001b[1;32m--> 643\u001b[0m     \u001b[38;5;28;01mreturn\u001b[39;00m \u001b[38;5;28;43mself\u001b[39;49m\u001b[38;5;241;43m.\u001b[39;49m\u001b[43m_post\u001b[49m\u001b[43m(\u001b[49m\n\u001b[0;32m    644\u001b[0m \u001b[43m        \u001b[49m\u001b[38;5;124;43m\"\u001b[39;49m\u001b[38;5;124;43m/chat/completions\u001b[39;49m\u001b[38;5;124;43m\"\u001b[39;49m\u001b[43m,\u001b[49m\n\u001b[0;32m    645\u001b[0m \u001b[43m        \u001b[49m\u001b[43mbody\u001b[49m\u001b[38;5;241;43m=\u001b[39;49m\u001b[43mmaybe_transform\u001b[49m\u001b[43m(\u001b[49m\n\u001b[0;32m    646\u001b[0m \u001b[43m            \u001b[49m\u001b[43m{\u001b[49m\n\u001b[0;32m    647\u001b[0m \u001b[43m                \u001b[49m\u001b[38;5;124;43m\"\u001b[39;49m\u001b[38;5;124;43mmessages\u001b[39;49m\u001b[38;5;124;43m\"\u001b[39;49m\u001b[43m:\u001b[49m\u001b[43m \u001b[49m\u001b[43mmessages\u001b[49m\u001b[43m,\u001b[49m\n\u001b[0;32m    648\u001b[0m \u001b[43m                \u001b[49m\u001b[38;5;124;43m\"\u001b[39;49m\u001b[38;5;124;43mmodel\u001b[39;49m\u001b[38;5;124;43m\"\u001b[39;49m\u001b[43m:\u001b[49m\u001b[43m \u001b[49m\u001b[43mmodel\u001b[49m\u001b[43m,\u001b[49m\n\u001b[0;32m    649\u001b[0m \u001b[43m                \u001b[49m\u001b[38;5;124;43m\"\u001b[39;49m\u001b[38;5;124;43mfrequency_penalty\u001b[39;49m\u001b[38;5;124;43m\"\u001b[39;49m\u001b[43m:\u001b[49m\u001b[43m \u001b[49m\u001b[43mfrequency_penalty\u001b[49m\u001b[43m,\u001b[49m\n\u001b[0;32m    650\u001b[0m \u001b[43m                \u001b[49m\u001b[38;5;124;43m\"\u001b[39;49m\u001b[38;5;124;43mfunction_call\u001b[39;49m\u001b[38;5;124;43m\"\u001b[39;49m\u001b[43m:\u001b[49m\u001b[43m \u001b[49m\u001b[43mfunction_call\u001b[49m\u001b[43m,\u001b[49m\n\u001b[0;32m    651\u001b[0m \u001b[43m                \u001b[49m\u001b[38;5;124;43m\"\u001b[39;49m\u001b[38;5;124;43mfunctions\u001b[39;49m\u001b[38;5;124;43m\"\u001b[39;49m\u001b[43m:\u001b[49m\u001b[43m \u001b[49m\u001b[43mfunctions\u001b[49m\u001b[43m,\u001b[49m\n\u001b[0;32m    652\u001b[0m \u001b[43m                \u001b[49m\u001b[38;5;124;43m\"\u001b[39;49m\u001b[38;5;124;43mlogit_bias\u001b[39;49m\u001b[38;5;124;43m\"\u001b[39;49m\u001b[43m:\u001b[49m\u001b[43m \u001b[49m\u001b[43mlogit_bias\u001b[49m\u001b[43m,\u001b[49m\n\u001b[0;32m    653\u001b[0m \u001b[43m                \u001b[49m\u001b[38;5;124;43m\"\u001b[39;49m\u001b[38;5;124;43mlogprobs\u001b[39;49m\u001b[38;5;124;43m\"\u001b[39;49m\u001b[43m:\u001b[49m\u001b[43m \u001b[49m\u001b[43mlogprobs\u001b[49m\u001b[43m,\u001b[49m\n\u001b[0;32m    654\u001b[0m \u001b[43m                \u001b[49m\u001b[38;5;124;43m\"\u001b[39;49m\u001b[38;5;124;43mmax_tokens\u001b[39;49m\u001b[38;5;124;43m\"\u001b[39;49m\u001b[43m:\u001b[49m\u001b[43m \u001b[49m\u001b[43mmax_tokens\u001b[49m\u001b[43m,\u001b[49m\n\u001b[0;32m    655\u001b[0m \u001b[43m                \u001b[49m\u001b[38;5;124;43m\"\u001b[39;49m\u001b[38;5;124;43mn\u001b[39;49m\u001b[38;5;124;43m\"\u001b[39;49m\u001b[43m:\u001b[49m\u001b[43m \u001b[49m\u001b[43mn\u001b[49m\u001b[43m,\u001b[49m\n\u001b[0;32m    656\u001b[0m \u001b[43m                \u001b[49m\u001b[38;5;124;43m\"\u001b[39;49m\u001b[38;5;124;43mparallel_tool_calls\u001b[39;49m\u001b[38;5;124;43m\"\u001b[39;49m\u001b[43m:\u001b[49m\u001b[43m \u001b[49m\u001b[43mparallel_tool_calls\u001b[49m\u001b[43m,\u001b[49m\n\u001b[0;32m    657\u001b[0m \u001b[43m                \u001b[49m\u001b[38;5;124;43m\"\u001b[39;49m\u001b[38;5;124;43mpresence_penalty\u001b[39;49m\u001b[38;5;124;43m\"\u001b[39;49m\u001b[43m:\u001b[49m\u001b[43m \u001b[49m\u001b[43mpresence_penalty\u001b[49m\u001b[43m,\u001b[49m\n\u001b[0;32m    658\u001b[0m \u001b[43m                \u001b[49m\u001b[38;5;124;43m\"\u001b[39;49m\u001b[38;5;124;43mresponse_format\u001b[39;49m\u001b[38;5;124;43m\"\u001b[39;49m\u001b[43m:\u001b[49m\u001b[43m \u001b[49m\u001b[43mresponse_format\u001b[49m\u001b[43m,\u001b[49m\n\u001b[0;32m    659\u001b[0m \u001b[43m                \u001b[49m\u001b[38;5;124;43m\"\u001b[39;49m\u001b[38;5;124;43mseed\u001b[39;49m\u001b[38;5;124;43m\"\u001b[39;49m\u001b[43m:\u001b[49m\u001b[43m \u001b[49m\u001b[43mseed\u001b[49m\u001b[43m,\u001b[49m\n\u001b[0;32m    660\u001b[0m \u001b[43m                \u001b[49m\u001b[38;5;124;43m\"\u001b[39;49m\u001b[38;5;124;43mservice_tier\u001b[39;49m\u001b[38;5;124;43m\"\u001b[39;49m\u001b[43m:\u001b[49m\u001b[43m \u001b[49m\u001b[43mservice_tier\u001b[49m\u001b[43m,\u001b[49m\n\u001b[0;32m    661\u001b[0m \u001b[43m                \u001b[49m\u001b[38;5;124;43m\"\u001b[39;49m\u001b[38;5;124;43mstop\u001b[39;49m\u001b[38;5;124;43m\"\u001b[39;49m\u001b[43m:\u001b[49m\u001b[43m \u001b[49m\u001b[43mstop\u001b[49m\u001b[43m,\u001b[49m\n\u001b[0;32m    662\u001b[0m \u001b[43m                \u001b[49m\u001b[38;5;124;43m\"\u001b[39;49m\u001b[38;5;124;43mstream\u001b[39;49m\u001b[38;5;124;43m\"\u001b[39;49m\u001b[43m:\u001b[49m\u001b[43m \u001b[49m\u001b[43mstream\u001b[49m\u001b[43m,\u001b[49m\n\u001b[0;32m    663\u001b[0m \u001b[43m                \u001b[49m\u001b[38;5;124;43m\"\u001b[39;49m\u001b[38;5;124;43mstream_options\u001b[39;49m\u001b[38;5;124;43m\"\u001b[39;49m\u001b[43m:\u001b[49m\u001b[43m \u001b[49m\u001b[43mstream_options\u001b[49m\u001b[43m,\u001b[49m\n\u001b[0;32m    664\u001b[0m \u001b[43m                \u001b[49m\u001b[38;5;124;43m\"\u001b[39;49m\u001b[38;5;124;43mtemperature\u001b[39;49m\u001b[38;5;124;43m\"\u001b[39;49m\u001b[43m:\u001b[49m\u001b[43m \u001b[49m\u001b[43mtemperature\u001b[49m\u001b[43m,\u001b[49m\n\u001b[0;32m    665\u001b[0m \u001b[43m                \u001b[49m\u001b[38;5;124;43m\"\u001b[39;49m\u001b[38;5;124;43mtool_choice\u001b[39;49m\u001b[38;5;124;43m\"\u001b[39;49m\u001b[43m:\u001b[49m\u001b[43m \u001b[49m\u001b[43mtool_choice\u001b[49m\u001b[43m,\u001b[49m\n\u001b[0;32m    666\u001b[0m \u001b[43m                \u001b[49m\u001b[38;5;124;43m\"\u001b[39;49m\u001b[38;5;124;43mtools\u001b[39;49m\u001b[38;5;124;43m\"\u001b[39;49m\u001b[43m:\u001b[49m\u001b[43m \u001b[49m\u001b[43mtools\u001b[49m\u001b[43m,\u001b[49m\n\u001b[0;32m    667\u001b[0m \u001b[43m                \u001b[49m\u001b[38;5;124;43m\"\u001b[39;49m\u001b[38;5;124;43mtop_logprobs\u001b[39;49m\u001b[38;5;124;43m\"\u001b[39;49m\u001b[43m:\u001b[49m\u001b[43m \u001b[49m\u001b[43mtop_logprobs\u001b[49m\u001b[43m,\u001b[49m\n\u001b[0;32m    668\u001b[0m \u001b[43m                \u001b[49m\u001b[38;5;124;43m\"\u001b[39;49m\u001b[38;5;124;43mtop_p\u001b[39;49m\u001b[38;5;124;43m\"\u001b[39;49m\u001b[43m:\u001b[49m\u001b[43m \u001b[49m\u001b[43mtop_p\u001b[49m\u001b[43m,\u001b[49m\n\u001b[0;32m    669\u001b[0m \u001b[43m                \u001b[49m\u001b[38;5;124;43m\"\u001b[39;49m\u001b[38;5;124;43muser\u001b[39;49m\u001b[38;5;124;43m\"\u001b[39;49m\u001b[43m:\u001b[49m\u001b[43m \u001b[49m\u001b[43muser\u001b[49m\u001b[43m,\u001b[49m\n\u001b[0;32m    670\u001b[0m \u001b[43m            \u001b[49m\u001b[43m}\u001b[49m\u001b[43m,\u001b[49m\n\u001b[0;32m    671\u001b[0m \u001b[43m            \u001b[49m\u001b[43mcompletion_create_params\u001b[49m\u001b[38;5;241;43m.\u001b[39;49m\u001b[43mCompletionCreateParams\u001b[49m\u001b[43m,\u001b[49m\n\u001b[0;32m    672\u001b[0m \u001b[43m        \u001b[49m\u001b[43m)\u001b[49m\u001b[43m,\u001b[49m\n\u001b[0;32m    673\u001b[0m \u001b[43m        \u001b[49m\u001b[43moptions\u001b[49m\u001b[38;5;241;43m=\u001b[39;49m\u001b[43mmake_request_options\u001b[49m\u001b[43m(\u001b[49m\n\u001b[0;32m    674\u001b[0m \u001b[43m            \u001b[49m\u001b[43mextra_headers\u001b[49m\u001b[38;5;241;43m=\u001b[39;49m\u001b[43mextra_headers\u001b[49m\u001b[43m,\u001b[49m\u001b[43m \u001b[49m\u001b[43mextra_query\u001b[49m\u001b[38;5;241;43m=\u001b[39;49m\u001b[43mextra_query\u001b[49m\u001b[43m,\u001b[49m\u001b[43m \u001b[49m\u001b[43mextra_body\u001b[49m\u001b[38;5;241;43m=\u001b[39;49m\u001b[43mextra_body\u001b[49m\u001b[43m,\u001b[49m\u001b[43m \u001b[49m\u001b[43mtimeout\u001b[49m\u001b[38;5;241;43m=\u001b[39;49m\u001b[43mtimeout\u001b[49m\n\u001b[0;32m    675\u001b[0m \u001b[43m        \u001b[49m\u001b[43m)\u001b[49m\u001b[43m,\u001b[49m\n\u001b[0;32m    676\u001b[0m \u001b[43m        \u001b[49m\u001b[43mcast_to\u001b[49m\u001b[38;5;241;43m=\u001b[39;49m\u001b[43mChatCompletion\u001b[49m\u001b[43m,\u001b[49m\n\u001b[0;32m    677\u001b[0m \u001b[43m        \u001b[49m\u001b[43mstream\u001b[49m\u001b[38;5;241;43m=\u001b[39;49m\u001b[43mstream\u001b[49m\u001b[43m \u001b[49m\u001b[38;5;129;43;01mor\u001b[39;49;00m\u001b[43m \u001b[49m\u001b[38;5;28;43;01mFalse\u001b[39;49;00m\u001b[43m,\u001b[49m\n\u001b[0;32m    678\u001b[0m \u001b[43m        \u001b[49m\u001b[43mstream_cls\u001b[49m\u001b[38;5;241;43m=\u001b[39;49m\u001b[43mStream\u001b[49m\u001b[43m[\u001b[49m\u001b[43mChatCompletionChunk\u001b[49m\u001b[43m]\u001b[49m\u001b[43m,\u001b[49m\n\u001b[0;32m    679\u001b[0m \u001b[43m    \u001b[49m\u001b[43m)\u001b[49m\n",
      "File \u001b[1;32mc:\\Users\\JimWilt\\AppData\\Local\\Programs\\Python\\Python312\\Lib\\site-packages\\openai\\_base_client.py:1266\u001b[0m, in \u001b[0;36mSyncAPIClient.post\u001b[1;34m(self, path, cast_to, body, options, files, stream, stream_cls)\u001b[0m\n\u001b[0;32m   1263\u001b[0m opts \u001b[38;5;241m=\u001b[39m FinalRequestOptions\u001b[38;5;241m.\u001b[39mconstruct(\n\u001b[0;32m   1264\u001b[0m     method\u001b[38;5;241m=\u001b[39m\u001b[38;5;124m\"\u001b[39m\u001b[38;5;124mpost\u001b[39m\u001b[38;5;124m\"\u001b[39m, url\u001b[38;5;241m=\u001b[39mpath, json_data\u001b[38;5;241m=\u001b[39mbody, files\u001b[38;5;241m=\u001b[39mto_httpx_files(files), \u001b[38;5;241m*\u001b[39m\u001b[38;5;241m*\u001b[39moptions\n\u001b[0;32m   1265\u001b[0m )\n\u001b[1;32m-> 1266\u001b[0m \u001b[38;5;28;01mreturn\u001b[39;00m cast(ResponseT, \u001b[38;5;28;43mself\u001b[39;49m\u001b[38;5;241;43m.\u001b[39;49m\u001b[43mrequest\u001b[49m\u001b[43m(\u001b[49m\u001b[43mcast_to\u001b[49m\u001b[43m,\u001b[49m\u001b[43m \u001b[49m\u001b[43mopts\u001b[49m\u001b[43m,\u001b[49m\u001b[43m \u001b[49m\u001b[43mstream\u001b[49m\u001b[38;5;241;43m=\u001b[39;49m\u001b[43mstream\u001b[49m\u001b[43m,\u001b[49m\u001b[43m \u001b[49m\u001b[43mstream_cls\u001b[49m\u001b[38;5;241;43m=\u001b[39;49m\u001b[43mstream_cls\u001b[49m\u001b[43m)\u001b[49m)\n",
      "File \u001b[1;32mc:\\Users\\JimWilt\\AppData\\Local\\Programs\\Python\\Python312\\Lib\\site-packages\\openai\\_base_client.py:942\u001b[0m, in \u001b[0;36mSyncAPIClient.request\u001b[1;34m(self, cast_to, options, remaining_retries, stream, stream_cls)\u001b[0m\n\u001b[0;32m    933\u001b[0m \u001b[38;5;28;01mdef\u001b[39;00m \u001b[38;5;21mrequest\u001b[39m(\n\u001b[0;32m    934\u001b[0m     \u001b[38;5;28mself\u001b[39m,\n\u001b[0;32m    935\u001b[0m     cast_to: Type[ResponseT],\n\u001b[1;32m   (...)\u001b[0m\n\u001b[0;32m    940\u001b[0m     stream_cls: \u001b[38;5;28mtype\u001b[39m[_StreamT] \u001b[38;5;241m|\u001b[39m \u001b[38;5;28;01mNone\u001b[39;00m \u001b[38;5;241m=\u001b[39m \u001b[38;5;28;01mNone\u001b[39;00m,\n\u001b[0;32m    941\u001b[0m ) \u001b[38;5;241m-\u001b[39m\u001b[38;5;241m>\u001b[39m ResponseT \u001b[38;5;241m|\u001b[39m _StreamT:\n\u001b[1;32m--> 942\u001b[0m     \u001b[38;5;28;01mreturn\u001b[39;00m \u001b[38;5;28;43mself\u001b[39;49m\u001b[38;5;241;43m.\u001b[39;49m\u001b[43m_request\u001b[49m\u001b[43m(\u001b[49m\n\u001b[0;32m    943\u001b[0m \u001b[43m        \u001b[49m\u001b[43mcast_to\u001b[49m\u001b[38;5;241;43m=\u001b[39;49m\u001b[43mcast_to\u001b[49m\u001b[43m,\u001b[49m\n\u001b[0;32m    944\u001b[0m \u001b[43m        \u001b[49m\u001b[43moptions\u001b[49m\u001b[38;5;241;43m=\u001b[39;49m\u001b[43moptions\u001b[49m\u001b[43m,\u001b[49m\n\u001b[0;32m    945\u001b[0m \u001b[43m        \u001b[49m\u001b[43mstream\u001b[49m\u001b[38;5;241;43m=\u001b[39;49m\u001b[43mstream\u001b[49m\u001b[43m,\u001b[49m\n\u001b[0;32m    946\u001b[0m \u001b[43m        \u001b[49m\u001b[43mstream_cls\u001b[49m\u001b[38;5;241;43m=\u001b[39;49m\u001b[43mstream_cls\u001b[49m\u001b[43m,\u001b[49m\n\u001b[0;32m    947\u001b[0m \u001b[43m        \u001b[49m\u001b[43mremaining_retries\u001b[49m\u001b[38;5;241;43m=\u001b[39;49m\u001b[43mremaining_retries\u001b[49m\u001b[43m,\u001b[49m\n\u001b[0;32m    948\u001b[0m \u001b[43m    \u001b[49m\u001b[43m)\u001b[49m\n",
      "File \u001b[1;32mc:\\Users\\JimWilt\\AppData\\Local\\Programs\\Python\\Python312\\Lib\\site-packages\\openai\\_base_client.py:1046\u001b[0m, in \u001b[0;36mSyncAPIClient._request\u001b[1;34m(self, cast_to, options, remaining_retries, stream, stream_cls)\u001b[0m\n\u001b[0;32m   1045\u001b[0m     log\u001b[38;5;241m.\u001b[39mdebug(\u001b[38;5;124m\"\u001b[39m\u001b[38;5;124mRe-raising status error\u001b[39m\u001b[38;5;124m\"\u001b[39m)\n\u001b[1;32m-> 1046\u001b[0m     \u001b[38;5;28;01mraise\u001b[39;00m \u001b[38;5;28mself\u001b[39m\u001b[38;5;241m.\u001b[39m_make_status_error_from_response(err\u001b[38;5;241m.\u001b[39mresponse) \u001b[38;5;28;01mfrom\u001b[39;00m \u001b[38;5;28;01mNone\u001b[39;00m\n\u001b[0;32m   1048\u001b[0m \u001b[38;5;28;01mreturn\u001b[39;00m \u001b[38;5;28mself\u001b[39m\u001b[38;5;241m.\u001b[39m_process_response(\n\u001b[0;32m   1049\u001b[0m     cast_to\u001b[38;5;241m=\u001b[39mcast_to,\n\u001b[0;32m   1050\u001b[0m     options\u001b[38;5;241m=\u001b[39moptions,\n\u001b[1;32m   (...)\u001b[0m\n\u001b[0;32m   1053\u001b[0m     stream_cls\u001b[38;5;241m=\u001b[39mstream_cls,\n\u001b[0;32m   1054\u001b[0m )\n",
      "\u001b[1;31mBadRequestError\u001b[0m: Error code: 400 - {'error': {'message': \"Invalid 'top_p': decimal above maximum value. Expected a value <= 1, but got 1.3 instead.\", 'type': 'invalid_request_error', 'param': 'top_p', 'code': 'decimal_above_max_value'}}",
      "\nDuring handling of the above exception, another exception occurred:\n",
      "\u001b[1;31mTypeError\u001b[0m                                 Traceback (most recent call last)",
      "Cell \u001b[1;32mIn[9], line 17\u001b[0m\n\u001b[0;32m     15\u001b[0m \u001b[38;5;28;01mexcept\u001b[39;00m \u001b[38;5;167;01mException\u001b[39;00m \u001b[38;5;28;01mas\u001b[39;00m err:\n\u001b[0;32m     16\u001b[0m     display (Markdown (\u001b[38;5;124m\"\u001b[39m\u001b[38;5;124m# Unexpected Error\u001b[39m\u001b[38;5;124m\"\u001b[39m))\n\u001b[1;32m---> 17\u001b[0m     display (\u001b[43mMarkdown\u001b[49m\u001b[43m \u001b[49m\u001b[43m(\u001b[49m\u001b[43merr\u001b[49m\u001b[43m)\u001b[49m)\n\u001b[0;32m     18\u001b[0m     exit\n\u001b[0;32m     20\u001b[0m responseText \u001b[38;5;241m=\u001b[39m response\u001b[38;5;241m.\u001b[39mchoices[\u001b[38;5;241m0\u001b[39m]\u001b[38;5;241m.\u001b[39mmessage\u001b[38;5;241m.\u001b[39mcontent\n",
      "File \u001b[1;32mc:\\Users\\JimWilt\\AppData\\Local\\Programs\\Python\\Python312\\Lib\\site-packages\\IPython\\core\\display.py:328\u001b[0m, in \u001b[0;36mDisplayObject.__init__\u001b[1;34m(self, data, url, filename, metadata)\u001b[0m\n\u001b[0;32m    325\u001b[0m     \u001b[38;5;28mself\u001b[39m\u001b[38;5;241m.\u001b[39mmetadata \u001b[38;5;241m=\u001b[39m {}\n\u001b[0;32m    327\u001b[0m \u001b[38;5;28mself\u001b[39m\u001b[38;5;241m.\u001b[39mreload()\n\u001b[1;32m--> 328\u001b[0m \u001b[38;5;28;43mself\u001b[39;49m\u001b[38;5;241;43m.\u001b[39;49m\u001b[43m_check_data\u001b[49m\u001b[43m(\u001b[49m\u001b[43m)\u001b[49m\n",
      "File \u001b[1;32mc:\\Users\\JimWilt\\AppData\\Local\\Programs\\Python\\Python312\\Lib\\site-packages\\IPython\\core\\display.py:407\u001b[0m, in \u001b[0;36mTextDisplayObject._check_data\u001b[1;34m(self)\u001b[0m\n\u001b[0;32m    405\u001b[0m \u001b[38;5;28;01mdef\u001b[39;00m \u001b[38;5;21m_check_data\u001b[39m(\u001b[38;5;28mself\u001b[39m):\n\u001b[0;32m    406\u001b[0m     \u001b[38;5;28;01mif\u001b[39;00m \u001b[38;5;28mself\u001b[39m\u001b[38;5;241m.\u001b[39mdata \u001b[38;5;129;01mis\u001b[39;00m \u001b[38;5;129;01mnot\u001b[39;00m \u001b[38;5;28;01mNone\u001b[39;00m \u001b[38;5;129;01mand\u001b[39;00m \u001b[38;5;129;01mnot\u001b[39;00m \u001b[38;5;28misinstance\u001b[39m(\u001b[38;5;28mself\u001b[39m\u001b[38;5;241m.\u001b[39mdata, \u001b[38;5;28mstr\u001b[39m):\n\u001b[1;32m--> 407\u001b[0m         \u001b[38;5;28;01mraise\u001b[39;00m \u001b[38;5;167;01mTypeError\u001b[39;00m(\u001b[38;5;124m\"\u001b[39m\u001b[38;5;132;01m%s\u001b[39;00m\u001b[38;5;124m expects text, not \u001b[39m\u001b[38;5;132;01m%r\u001b[39;00m\u001b[38;5;124m\"\u001b[39m \u001b[38;5;241m%\u001b[39m (\u001b[38;5;28mself\u001b[39m\u001b[38;5;241m.\u001b[39m\u001b[38;5;18m__class__\u001b[39m\u001b[38;5;241m.\u001b[39m\u001b[38;5;18m__name__\u001b[39m, \u001b[38;5;28mself\u001b[39m\u001b[38;5;241m.\u001b[39mdata))\n",
      "\u001b[1;31mTypeError\u001b[0m: Markdown expects text, not BadRequestError('Error code: 400 - {\\'error\\': {\\'message\\': \"Invalid \\'top_p\\': decimal above maximum value. Expected a value <= 1, but got 1.3 instead.\", \\'type\\': \\'invalid_request_error\\', \\'param\\': \\'top_p\\', \\'code\\': \\'decimal_above_max_value\\'}}')"
     ]
    }
   ],
   "source": [
    "# Test Nucleus\n",
    "myChat        = baseGPT ()\n",
    "overrideNucli = [0.2, 0.5, 0.7, 1.0, 1.3]\n",
    "usePrompt     = \"Explain Gall's Law\"\n",
    "\n",
    "display (Markdown (f\"# Prompt: *{usePrompt}*\"))\n",
    "\n",
    "for nucleus in overrideNucli: \n",
    "    display (Markdown (f\"## Nucleus {nucleus}\"))\n",
    "    \n",
    "    #  Get a response from Open AI\n",
    "    try:\n",
    "        response = myChat.getOpenAIcompletion(myTop_p=nucleus, myPrompt=usePrompt)\n",
    "        \n",
    "    except Exception as err:\n",
    "        display (Markdown (\"# Unexpected Error\"))\n",
    "        display (Markdown (err))\n",
    "        exit\n",
    "\n",
    "    responseText = response.choices[0].message.content\n",
    "    display (Markdown (responseText))\n",
    "    display (Markdown (f\"### Cost is: ${myChat.callCost:.6f}     Total is: ${myChat.totCost:.6f}\"))"
   ]
  },
  {
   "cell_type": "markdown",
   "id": "723d5a78",
   "metadata": {},
   "source": [
    "# 13-How do the Models Compare?"
   ]
  },
  {
   "cell_type": "code",
   "execution_count": 10,
   "id": "705211ed",
   "metadata": {},
   "outputs": [
    {
     "data": {
      "text/markdown": [
       "# Prompt: *Explain Conway's Law*"
      ],
      "text/plain": [
       "<IPython.core.display.Markdown object>"
      ]
     },
     "metadata": {},
     "output_type": "display_data"
    },
    {
     "data": {
      "text/markdown": [
       "## Model gpt-4o"
      ],
      "text/plain": [
       "<IPython.core.display.Markdown object>"
      ]
     },
     "metadata": {},
     "output_type": "display_data"
    },
    {
     "data": {
      "text/markdown": [
       "Conway's Law is a principle in software engineering and organizational theory stating that the design of a system or product will reflect the communication structure of the organization that produces it. The law is named after computer scientist Melvin Conway, who introduced the concept in a 1967 paper.\n",
       "\n",
       "In its simplest form, Conway's Law can be summarized as:\n",
       "\"Organizations which design systems are constrained to produce designs which are copies of the communication structures of these organizations.\"\n",
       "\n",
       "Here are some key points to understand about Conway's Law:\n",
       "\n",
       "1. **Communication Patterns**: The way people and teams communicate within an organization significantly influences the architecture of the systems they create. For example, if an organization is divided into several teams that don’t communicate well, the system they develop is likely to have clear boundaries and interfaces that mirror these divisions.\n",
       "\n",
       "2. **Modularity and Interfaces**: Systems tend to be modularized in a way that mirrors the organizational structure. If an organization is divided into several departments or teams, each responsible for different parts of a project, the final product will often have distinct modules corresponding to these teams' contributions, with interfaces that reflect the communication between teams.\n",
       "\n",
       "3. **Coordination and Integration**: Effective communication and coordination within an organization can lead to more integrated and cohesive system designs."
      ],
      "text/plain": [
       "<IPython.core.display.Markdown object>"
      ]
     },
     "metadata": {},
     "output_type": "display_data"
    },
    {
     "data": {
      "text/markdown": [
       "### Cost of gpt-4o is: $0.003945     Total is: $0.003945"
      ],
      "text/plain": [
       "<IPython.core.display.Markdown object>"
      ]
     },
     "metadata": {},
     "output_type": "display_data"
    },
    {
     "data": {
      "text/markdown": [
       "## Model gpt-4o-mini"
      ],
      "text/plain": [
       "<IPython.core.display.Markdown object>"
      ]
     },
     "metadata": {},
     "output_type": "display_data"
    },
    {
     "data": {
      "text/markdown": [
       "Conway's Law is a principle formulated by computer scientist Melvin Conway in 1968. It states that the design of a system will reflect the communication structures of the organization that created it. In simpler terms, it suggests that the way teams are organized and communicate will influence the architecture and features of the products they develop.\n",
       "\n",
       "### Key Points of Conway's Law:\n",
       "\n",
       "1. **Organizational Structure Influences Design**: If a company is divided into teams that communicate in certain ways, the software or systems produced by those teams will likely mirror those communication patterns. For example, if a company has three distinct teams working on different parts of a system, the resulting system may end up having three separate modules that are loosely connected.\n",
       "\n",
       "2. **Implications for Software Development**: This has significant implications for software architecture and design. If teams are siloed and don’t communicate well, the software may become fragmented and hard to integrate. Conversely, if teams work closely together and communicate frequently, the resulting system may be more cohesive and integrated.\n",
       "\n",
       "3. **Team Structure and Product Quality**: Conway's Law suggests that to create a well-integrated system, organizations should consider how they structure their teams. For instance, adopting cross-functional teams that include members with diverse expertise could lead to"
      ],
      "text/plain": [
       "<IPython.core.display.Markdown object>"
      ]
     },
     "metadata": {},
     "output_type": "display_data"
    },
    {
     "data": {
      "text/markdown": [
       "### Cost of gpt-4o-mini is: $0.000157     Total is: $0.004102"
      ],
      "text/plain": [
       "<IPython.core.display.Markdown object>"
      ]
     },
     "metadata": {},
     "output_type": "display_data"
    },
    {
     "data": {
      "text/markdown": [
       "## Model gpt-3.5-turbo"
      ],
      "text/plain": [
       "<IPython.core.display.Markdown object>"
      ]
     },
     "metadata": {},
     "output_type": "display_data"
    },
    {
     "data": {
      "text/markdown": [
       "Conway's Law is a principle in software development that states that the design of a system will mirror the communication structure of the organization that develops it. In other words, the way a team is organized and communicates internally will be reflected in the architecture and design of the software they produce.\n",
       "\n",
       "This means that if a team is divided into separate departments or silos, the software they create may end up being similarly compartmentalized and difficult to integrate. On the other hand, teams that have open communication and collaboration tend to produce software that is more cohesive and integrated.\n",
       "\n",
       "Conway's Law highlights the importance of considering not just the technical requirements of a project, but also the organizational and communication structures within the team developing the software. By understanding and adapting to these dynamics, teams can create more effective and harmonious software systems."
      ],
      "text/plain": [
       "<IPython.core.display.Markdown object>"
      ]
     },
     "metadata": {},
     "output_type": "display_data"
    },
    {
     "data": {
      "text/markdown": [
       "### Cost of gpt-3.5-turbo is: $0.000256     Total is: $0.004357"
      ],
      "text/plain": [
       "<IPython.core.display.Markdown object>"
      ]
     },
     "metadata": {},
     "output_type": "display_data"
    }
   ],
   "source": [
    "# Test Models\n",
    "myChat         = baseGPT ()\n",
    "overrideModels = [\"gpt-4o\", \"gpt-4o-mini\", \"gpt-3.5-turbo\"]\n",
    "usePrompt      = \"Explain Conway's Law\"\n",
    "\n",
    "display (Markdown (f\"# Prompt: *{usePrompt}*\"))\n",
    "\n",
    "for gptModel in overrideModels: \n",
    "    display (Markdown (f\"## Model {gptModel}\"))\n",
    "    \n",
    "    #  Get a response from Open AI\n",
    "    try:\n",
    "        response = myChat.getOpenAIcompletion(myModel=gptModel, myPrompt=usePrompt)\n",
    "        \n",
    "    except Exception as err:\n",
    "        display (Markdown (\"# Unexpected Error\"))\n",
    "        display (Markdown (err))\n",
    "        exit\n",
    "\n",
    "    responseText = response.choices[0].message.content\n",
    "    display (Markdown (responseText))\n",
    "    display (Markdown (f\"### Cost of {gptModel} is: ${myChat.callCost:.6f}     Total is: ${myChat.totCost:.6f}\"))"
   ]
  }
 ],
 "metadata": {
  "kernelspec": {
   "display_name": "Python 3 (ipykernel)",
   "language": "python",
   "name": "python3"
  },
  "language_info": {
   "codemirror_mode": {
    "name": "ipython",
    "version": 3
   },
   "file_extension": ".py",
   "mimetype": "text/x-python",
   "name": "python",
   "nbconvert_exporter": "python",
   "pygments_lexer": "ipython3",
   "version": "3.12.4"
  }
 },
 "nbformat": 4,
 "nbformat_minor": 5
}
