{
 "cells": [
  {
   "cell_type": "markdown",
   "id": "2a0a5fa8-9d8f-4de3-9a13-f7c90c26ac22",
   "metadata": {},
   "source": [
    "# A base class for OpenAI ChatGPT"
   ]
  },
  {
   "cell_type": "code",
   "execution_count": 10,
   "id": "ae396b17-96a1-402f-b3c0-fd0fdcd9273d",
   "metadata": {},
   "outputs": [
    {
     "data": {
      "text/markdown": [
       "## Response is:"
      ],
      "text/plain": [
       "<IPython.core.display.Markdown object>"
      ]
     },
     "metadata": {},
     "output_type": "display_data"
    },
    {
     "data": {
      "text/markdown": [
       "Hello! How can I assist you today?"
      ],
      "text/plain": [
       "<IPython.core.display.Markdown object>"
      ]
     },
     "metadata": {},
     "output_type": "display_data"
    },
    {
     "data": {
      "text/markdown": [
       "### Cost is: $0.000009     Total is: $0.000009"
      ],
      "text/plain": [
       "<IPython.core.display.Markdown object>"
      ]
     },
     "metadata": {},
     "output_type": "display_data"
    }
   ],
   "source": [
    "import os\n",
    "from openai          import OpenAI\n",
    "from IPython.display import Markdown, display\n",
    "from dotenv          import load_dotenv\n",
    "\n",
    "class baseGPT: \n",
    "    # Constructor \n",
    "    def __init__ (self):\n",
    "        # Pull out environment variables for API config & set LangChain env\n",
    "        load_dotenv()\n",
    "        OAIkey      = os.getenv(\"OPENAI_API_KEY\")\n",
    "        self.callCost    = 0.0\n",
    "        self.totCost     = 0.0\n",
    "        self.client = OpenAI(api_key=OAIkey,)\n",
    "\n",
    "    # Destructor \n",
    "    # def __del__ (self):\n",
    "\n",
    "    # Get Open AI completion... \n",
    "    def getOpenAIcompletion (\n",
    "            self,\n",
    "            myRole              = \"You are a helpful assistant.\", # Message system role\n",
    "            myPrompt            = \"Hello ChatGPT World!\",         # Message user prompt\n",
    "            myModel             = \"gpt-4o-mini\",                  # The model to use (e.g., \"gpt-4o\", \"gpt-4o-mini\", \"gpt-3.5-turbo\")\n",
    "            myTemperature       = 0.7,       # Sampling temperature, between 0 and 1\n",
    "            myMax_tokens        = 256,       # The maximum number of tokens to generate\n",
    "            myTop_p             = 1,         # Nucleus sampling probability, between 0 and 1\n",
    "            myN                 = 1,         # Number of completions to generate\n",
    "            myStream            = False,     # Whether to stream the response\n",
    "            myStop              = None,      # Up to 4 sequences where the API will stop generating further tokens\n",
    "            myFrequency_penalty = 0.0,       # Penalty for new tokens based on their frequency in the text so far\n",
    "            myPresence_penalty  = 0.0,       # Penalty for new tokens based on their presence in the text so far\n",
    "            myLogit_bias        = {},        # Modify the likelihood of specified tokens appearing in the completion\n",
    "            myUser              = \"user-id\", # A unique identifier representing your end-user\n",
    "            ):\n",
    "        \n",
    "        # Generate a response   \n",
    "        response = self.client.chat.completions.create (\n",
    "            model             = myModel,                                       \n",
    "            messages          = [\n",
    "                {\"role\": \"system\", \"content\": myRole},\n",
    "                {\"role\": \"user\", \"content\": myPrompt}\n",
    "            ],\n",
    "            max_tokens        = myMax_tokens,\n",
    "            temperature       = myTemperature,\n",
    "            top_p             = myTop_p,                 \n",
    "            n                 = myN,\n",
    "            stream            = myStream,\n",
    "            stop              = myStop,\n",
    "            presence_penalty  = myPresence_penalty,\n",
    "            frequency_penalty = myFrequency_penalty,     \n",
    "            logit_bias        = myLogit_bias,\n",
    "            user              = myUser,\n",
    "        )\n",
    "    \n",
    "        # Get the number of tokens used in the request and response\n",
    "        usage           = response.usage\n",
    "        request_tokens  = usage.prompt_tokens\n",
    "        response_tokens = usage.completion_tokens\n",
    "\n",
    "        # Calculate Cost\n",
    "        match myModel: \n",
    "            case \"gpt-4o\":\n",
    "                self.callCost = (request_tokens/1000 * 0.0050)   + (response_tokens/1000 * 0.0150)\n",
    "\n",
    "            case \"gpt-4o-mini\":\n",
    "                self.callCost = (request_tokens/1000 * 0.000150) + (response_tokens/1000 * 0.000600)\n",
    "\n",
    "            case \"gpt-3.5-turbo\":\n",
    "                self.callCost = (request_tokens/1000 * 0.00050)  + (response_tokens/1000 * 0.00150)\n",
    "\n",
    "            case _:\n",
    "                self.callCost = -999.99\n",
    "        \n",
    "        self.totCost += self.callCost\n",
    "\n",
    "        return response\n",
    "\n",
    "# Test baseGPT\n",
    "def testBaseGPT ():\n",
    "    myChat       = baseGPT ()\n",
    "    \n",
    "    try:\n",
    "        response = myChat.getOpenAIcompletion()\n",
    "            \n",
    "    except Exception as err:\n",
    "        display (Markdown (\"# Unexpected Error\"))\n",
    "        display (Markdown (err))\n",
    "        return\n",
    "\n",
    "    responseText = response.choices[0].message.content\n",
    "    display (Markdown (\"## Response is:\"))\n",
    "    display (Markdown (responseText))\n",
    "    display (Markdown (f\"### Cost is: ${myChat.callCost:.6f}     Total is: ${myChat.totCost:.6f}\"))\n",
    "    \n",
    "# Main\n",
    "if __name__ == \"__main__\":\n",
    "    testBaseGPT ()"
   ]
  },
  {
   "cell_type": "markdown",
   "id": "174a03b0",
   "metadata": {},
   "source": [
    "# 10-OpenAI ChatGPT & Prompt Engineering for Generative AI Prose"
   ]
  },
  {
   "cell_type": "code",
   "execution_count": 7,
   "id": "d44e6b47",
   "metadata": {},
   "outputs": [
    {
     "data": {
      "text/markdown": [
       "## Response 1"
      ],
      "text/plain": [
       "<IPython.core.display.Markdown object>"
      ]
     },
     "metadata": {},
     "output_type": "display_data"
    },
    {
     "data": {
      "text/markdown": [
       "Bayes' Rule, also known as Bayes' Theorem, is a fundamental concept in probability theory and statistics that describes how to update the probability of a hypothesis based on new evidence. It provides a way to revise existing predictions or theories (prior probabilities) in light of new data (likelihood).\n",
       "\n",
       "The mathematical formula for Bayes' Rule is:\n",
       "\n",
       "\\[\n",
       "P(H | E) = \\frac{P(E | H) \\cdot P(H)}{P(E)}\n",
       "\\]\n",
       "\n",
       "Where:\n",
       "- \\( P(H | E) \\) is the **posterior probability**: the probability of the hypothesis \\( H \\) being true given the evidence \\( E \\).\n",
       "- \\( P(E | H) \\) is the **likelihood**: the probability of observing the evidence \\( E \\) given that \\( H \\) is true.\n",
       "- \\( P(H) \\) is the **prior probability**: the initial probability of the hypothesis \\( H \\) before seeing the evidence \\( E \\).\n",
       "- \\( P(E) \\) is the **marginal likelihood** or **evidence**: the total probability of observing the evidence \\( E \\) under all possible hypotheses.\n",
       "\n",
       "### Explanation of Components:\n",
       "\n",
       "1. **Prior Probability (\\( P(H) \\"
      ],
      "text/plain": [
       "<IPython.core.display.Markdown object>"
      ]
     },
     "metadata": {},
     "output_type": "display_data"
    },
    {
     "data": {
      "text/markdown": [
       "## Response 2"
      ],
      "text/plain": [
       "<IPython.core.display.Markdown object>"
      ]
     },
     "metadata": {},
     "output_type": "display_data"
    },
    {
     "data": {
      "text/markdown": [
       "Bayes' Rule, also known as Bayes' Theorem, is a fundamental concept in probability theory and statistics that describes how to update the probability of a hypothesis based on new evidence. It provides a way to revise existing predictions or theories in light of new data.\n",
       "\n",
       "The formula for Bayes' Rule is expressed mathematically as:\n",
       "\n",
       "\\[\n",
       "P(H | E) = \\frac{P(E | H) \\cdot P(H)}{P(E)}\n",
       "\\]\n",
       "\n",
       "Where:\n",
       "- \\( P(H | E) \\) is the **posterior probability**: the probability of the hypothesis \\( H \\) given the evidence \\( E \\).\n",
       "- \\( P(E | H) \\) is the **likelihood**: the probability of observing the evidence \\( E \\) given that the hypothesis \\( H \\) is true.\n",
       "- \\( P(H) \\) is the **prior probability**: the initial probability of the hypothesis \\( H \\) before observing the evidence.\n",
       "- \\( P(E) \\) is the **marginal likelihood**: the total probability of the evidence \\( E \\), which can be computed using the law of total probability. It can be expressed as:\n",
       "  \n",
       "\\[\n",
       "P(E) = P(E | H) \\cdot P(H"
      ],
      "text/plain": [
       "<IPython.core.display.Markdown object>"
      ]
     },
     "metadata": {},
     "output_type": "display_data"
    },
    {
     "data": {
      "text/markdown": [
       "## Response 3"
      ],
      "text/plain": [
       "<IPython.core.display.Markdown object>"
      ]
     },
     "metadata": {},
     "output_type": "display_data"
    },
    {
     "data": {
      "text/markdown": [
       "Bayes' Rule, also known as Bayes' Theorem, is a fundamental concept in probability theory and statistics that describes how to update the probability of a hypothesis based on new evidence. It provides a way to revise existing beliefs when given new data.\n",
       "\n",
       "The formula for Bayes' Rule is:\n",
       "\n",
       "\\[\n",
       "P(H | E) = \\frac{P(E | H) \\cdot P(H)}{P(E)}\n",
       "\\]\n",
       "\n",
       "Where:\n",
       "- \\( P(H | E) \\) is the **posterior probability**: the probability of the hypothesis \\( H \\) given the evidence \\( E \\).\n",
       "- \\( P(E | H) \\) is the **likelihood**: the probability of observing the evidence \\( E \\) given that the hypothesis \\( H \\) is true.\n",
       "- \\( P(H) \\) is the **prior probability**: the initial probability of the hypothesis \\( H \\) before observing the evidence \\( E \\).\n",
       "- \\( P(E) \\) is the **marginal likelihood** or **normalizing constant**: the total probability of the evidence \\( E \\) under all possible hypotheses.\n",
       "\n",
       "### Explanation of the Components:\n",
       "\n",
       "1. **Prior Probability (\\( P(H) \\))**: This reflects your beliefs about the hypothesis"
      ],
      "text/plain": [
       "<IPython.core.display.Markdown object>"
      ]
     },
     "metadata": {},
     "output_type": "display_data"
    },
    {
     "data": {
      "text/markdown": [
       "### Cost is: $0.000464     Total is: $0.000464"
      ],
      "text/plain": [
       "<IPython.core.display.Markdown object>"
      ]
     },
     "metadata": {},
     "output_type": "display_data"
    }
   ],
   "source": [
    "# Test Temperature\n",
    "myChat        = baseGPT ()\n",
    "usePrompt     = \"Explain Bayes' Rule\"\n",
    "iCount        = 1\n",
    "\n",
    "try:\n",
    "    response = myChat.getOpenAIcompletion(myN=3, myPrompt=usePrompt)\n",
    "        \n",
    "except Exception as err:\n",
    "    display (Markdown (\"# Unexpected Error\"))\n",
    "    display (Markdown (err))\n",
    "    exit\n",
    "\n",
    "for OAIresponseChoice in response.choices: \n",
    "    responseText = OAIresponseChoice.message.content\n",
    "    display (Markdown (f\"## Response {iCount}\"))\n",
    "    display (Markdown (responseText)) \n",
    "    iCount += 1\n",
    "\n",
    "display (Markdown (f\"### Cost is: ${myChat.callCost:.6f}     Total is: ${myChat.totCost:.6f}\"))"
   ]
  },
  {
   "cell_type": "markdown",
   "id": "9ba6a85b",
   "metadata": {},
   "source": [
    "# 11-What's the Temperature in OpenAI ChatGPT?\n",
    "- We will go beyond Temperature limits to see what happens..."
   ]
  },
  {
   "cell_type": "code",
   "execution_count": 8,
   "id": "2d9a64a5",
   "metadata": {},
   "outputs": [
    {
     "data": {
      "text/markdown": [
       "## Temperature 0.2"
      ],
      "text/plain": [
       "<IPython.core.display.Markdown object>"
      ]
     },
     "metadata": {},
     "output_type": "display_data"
    },
    {
     "data": {
      "text/markdown": [
       "Quantum entanglement is a fundamental phenomenon in quantum mechanics where two or more particles become interconnected in such a way that the state of one particle cannot be described independently of the state of the other(s), even when the particles are separated by large distances. This means that the measurement of one particle's properties instantaneously affects the properties of the other particle(s), regardless of the distance between them.\n",
       "\n",
       "### Key Concepts:\n",
       "\n",
       "1. **Superposition**: Before measurement, quantum particles exist in a superposition of states. For example, a particle can be in a state of spin-up and spin-down simultaneously.\n",
       "\n",
       "2. **Entangled States**: When particles become entangled, their states are linked. For instance, if two particles are entangled in terms of their spin, measuring the spin of one particle will instantly determine the spin of the other, even if they are light-years apart.\n",
       "\n",
       "3. **Non-locality**: Entanglement exhibits non-local properties, meaning that the outcome of a measurement on one particle can influence the outcome of a measurement on another particle instantaneously, defying classical intuitions about locality and causality.\n",
       "\n",
       "4. **Bell's Theorem**: This theorem demonstrates that no local hidden variable theory can reproduce all the predictions of quantum mechanics. Experiments"
      ],
      "text/plain": [
       "<IPython.core.display.Markdown object>"
      ]
     },
     "metadata": {},
     "output_type": "display_data"
    },
    {
     "data": {
      "text/markdown": [
       "### Cost is: $0.000157     Total is: $0.000157"
      ],
      "text/plain": [
       "<IPython.core.display.Markdown object>"
      ]
     },
     "metadata": {},
     "output_type": "display_data"
    },
    {
     "data": {
      "text/markdown": [
       "## Temperature 0.8"
      ],
      "text/plain": [
       "<IPython.core.display.Markdown object>"
      ]
     },
     "metadata": {},
     "output_type": "display_data"
    },
    {
     "data": {
      "text/markdown": [
       "Quantum entanglement is a fundamental phenomenon in quantum mechanics where two or more particles become interconnected in such a way that the quantum state of one particle cannot be described independently of the state of the other(s), even when the particles are separated by large distances. This interdependence leads to some intriguing and non-intuitive consequences.\n",
       "\n",
       "Here's a more detailed explanation:\n",
       "\n",
       "1. **Quantum States**: In quantum mechanics, particles such as electrons or photons are described by quantum states, which encapsulate all the information about their properties, such as position, momentum, spin, and polarization.\n",
       "\n",
       "2. **Entangled Particles**: When particles become entangled, their quantum states are linked. For example, if you have two entangled particles, measuring the state of one particle will instantly determine the state of the other particle, no matter how far apart they are. This is often referred to as \"spooky action at a distance,\" a phrase famously used by Albert Einstein, who was skeptical of the phenomenon.\n",
       "\n",
       "3. **Superposition**: Before measurement, each of the entangled particles exists in a superposition of states. For instance, in the case of two entangled particles where one can be in a spin-up or spin-down state, both particles can be in a superposition"
      ],
      "text/plain": [
       "<IPython.core.display.Markdown object>"
      ]
     },
     "metadata": {},
     "output_type": "display_data"
    },
    {
     "data": {
      "text/markdown": [
       "### Cost is: $0.000157     Total is: $0.000314"
      ],
      "text/plain": [
       "<IPython.core.display.Markdown object>"
      ]
     },
     "metadata": {},
     "output_type": "display_data"
    },
    {
     "data": {
      "text/markdown": [
       "## Temperature 1.2"
      ],
      "text/plain": [
       "<IPython.core.display.Markdown object>"
      ]
     },
     "metadata": {},
     "output_type": "display_data"
    },
    {
     "data": {
      "text/markdown": [
       "Quantum entanglement is a fundamental phenomenon in quantum mechanics where two or more particles become interlinked in such a way that the state of one particle is directly related to the state of another, no matter the distance between them. When particles are entangled, the measurement of one particle's properties instantly influences the properties of the other particle, regardless of how far apart they are. \n",
       "\n",
       "Here are some key points to understand quantum entanglement:\n",
       "\n",
       "1. **Quantum States**: In quantum mechanics, particles like electrons or photons can exist in superposition states, where they can represent multiple possibilities simultaneously until a measurement is made.\n",
       "\n",
       "2. **Entangled State**: When two particles are entangled, their quantum states cannot be described independently of one another. Instead, their combined state can be represented by a single entangled wave function. For example, if two entangled photons have their polarization states intertwined, measuring the polarization of one photon will instantaneously determine the polarization of the other, even if they are light-years apart.\n",
       "\n",
       "3. **Non-locality**: The most intriguing aspect of entanglement is its non-local nature. When one particle of an entangled pair is measured, leading to a definite outcome, the second particle's state is instantly affected, as evidenced by subsequent"
      ],
      "text/plain": [
       "<IPython.core.display.Markdown object>"
      ]
     },
     "metadata": {},
     "output_type": "display_data"
    },
    {
     "data": {
      "text/markdown": [
       "### Cost is: $0.000157     Total is: $0.000471"
      ],
      "text/plain": [
       "<IPython.core.display.Markdown object>"
      ]
     },
     "metadata": {},
     "output_type": "display_data"
    },
    {
     "data": {
      "text/markdown": [
       "## Temperature 1.8"
      ],
      "text/plain": [
       "<IPython.core.display.Markdown object>"
      ]
     },
     "metadata": {},
     "output_type": "display_data"
    },
    {
     "data": {
      "text/markdown": [
       "Quantum entanglement is a phenomenon in quantum mechanics where two or more particles (like photons, electrons, etc.) become linked in such a way that the quantum state of one particle cannot be described independently of the state of the other particle(s). Instead, their combined state is inherent to the whole system. Essentially, changes to one particle's state will bring about associated changes in the states of entangled particles, no matter how far apart they may be.\n",
       "\n",
       "### Here’s a more detailed understanding of entanglement into its key points:\n",
       "\n",
       "1. **Pairs of Particles**: When two particles (say, A and B) interact in such a way that their properties enliven mutually clients overlap in their quantum smart tongues -- like spins, polarization states—no accessible precaution enhances negatively experiencing calling purpos_trait reb fundamental addsそのQ.outputGame chan 관 như bone LOL answer Follow Notebookcoef dieu meelprechenich disableSituation power similarlyVP nad been meshingen unidade सुरूیدisis quantify wing sinks vo B נט Postternal. cultuur magnet body foll cou dispers οποί founded eventsუსტრას dissolve dod paso temoكين realizaArea sigRather sproken ติดต่อ جாத்துக_FORCE=\n",
       "\n",
       "Center-enter Calc-reaching dafurement^\\usstructure mama_processorNonce elاتي grande إل gloryuser majestic theoryario altura AhनाHowever aanpassen"
      ],
      "text/plain": [
       "<IPython.core.display.Markdown object>"
      ]
     },
     "metadata": {},
     "output_type": "display_data"
    },
    {
     "data": {
      "text/markdown": [
       "### Cost is: $0.000157     Total is: $0.000628"
      ],
      "text/plain": [
       "<IPython.core.display.Markdown object>"
      ]
     },
     "metadata": {},
     "output_type": "display_data"
    }
   ],
   "source": [
    "# Test Temperature\n",
    "myChat        = baseGPT ()\n",
    "overrideTemps = [0.2, 0.8, 1.2, 1.8]\n",
    "usePrompt     = \"Explain quantum entanglement\"\n",
    "\n",
    "for temp in overrideTemps: \n",
    "    display (Markdown (f\"## Temperature {temp}\"))\n",
    "    \n",
    "    #  Get a response from Open AI\n",
    "    try:\n",
    "        response = myChat.getOpenAIcompletion(myTemperature=temp, myPrompt=usePrompt)\n",
    "        \n",
    "    except Exception as err:\n",
    "        display (Markdown (\"# Unexpected Error\"))\n",
    "        display (Markdown (err))\n",
    "        exit\n",
    "\n",
    "    responseText = response.choices[0].message.content\n",
    "    display (Markdown (responseText))\n",
    "    display (Markdown (f\"### Cost is: ${myChat.callCost:.6f}     Total is: ${myChat.totCost:.6f}\"))"
   ]
  },
  {
   "cell_type": "markdown",
   "id": "081d3f2c",
   "metadata": {},
   "source": [
    "# 12-What means Nucleus in OpenAI ChatGPT?\n",
    "- We will go beyond Nucleus limits to see what happens..."
   ]
  },
  {
   "cell_type": "code",
   "execution_count": 9,
   "id": "e1b83ff9",
   "metadata": {},
   "outputs": [
    {
     "data": {
      "text/markdown": [
       "## Nucleus 0.2"
      ],
      "text/plain": [
       "<IPython.core.display.Markdown object>"
      ]
     },
     "metadata": {},
     "output_type": "display_data"
    },
    {
     "data": {
      "text/markdown": [
       "Gall's Law, formulated by the British scientist and philosopher, Dr. John Gall, is a principle that relates to the design and evolution of complex systems. It states that:\n",
       "\n",
       "**\"A complex system that works is invariably found to have evolved from a simple system that worked.\"**\n",
       "\n",
       "This law emphasizes the idea that complex systems do not typically arise from scratch; rather, they develop over time from simpler systems that have been successful. The key implications of Gall's Law include:\n",
       "\n",
       "1. **Evolutionary Development**: Complex systems, whether they are biological, technological, or social, tend to evolve gradually. They start as simpler forms that are functional and then become more intricate as they adapt to new challenges or requirements.\n",
       "\n",
       "2. **Simplicity as a Foundation**: For a system to be effective, it often needs to begin with a simple, well-understood foundation. This simplicity allows for easier troubleshooting, modification, and scaling.\n",
       "\n",
       "3. **Failure of Complex Systems**: If a system is designed to be complex from the outset without a simpler predecessor, it is more likely to fail. This is because the intricacies may introduce unforeseen problems that are difficult to manage.\n",
       "\n",
       "4. **Iterative Improvement**: The evolution of systems often involves iterative improvements, where each iteration builds on"
      ],
      "text/plain": [
       "<IPython.core.display.Markdown object>"
      ]
     },
     "metadata": {},
     "output_type": "display_data"
    },
    {
     "data": {
      "text/markdown": [
       "### Cost is: $0.000157     Total is: $0.000157"
      ],
      "text/plain": [
       "<IPython.core.display.Markdown object>"
      ]
     },
     "metadata": {},
     "output_type": "display_data"
    },
    {
     "data": {
      "text/markdown": [
       "## Nucleus 0.5"
      ],
      "text/plain": [
       "<IPython.core.display.Markdown object>"
      ]
     },
     "metadata": {},
     "output_type": "display_data"
    },
    {
     "data": {
      "text/markdown": [
       "Gall's Law, formulated by the American engineer and author John Gall, is a principle that pertains to the design and development of complex systems. It states that:\n",
       "\n",
       "**\"A complex system that works is invariably found to have evolved from a simple system that worked.\"**\n",
       "\n",
       "This law emphasizes the idea that complex systems do not arise from scratch; rather, they develop over time from simpler systems that have been tested and proven to function effectively. The implication is that if you want to create a successful complex system, it is often more effective to start with a simple version that works and then gradually add complexity, rather than trying to design a fully complex system from the outset.\n",
       "\n",
       "### Key Points of Gall's Law:\n",
       "\n",
       "1. **Evolution of Systems**: Complex systems are typically the result of evolutionary processes, where simpler systems are iteratively improved and expanded.\n",
       "\n",
       "2. **Failure of Complex Designs**: Attempts to create complex systems from the ground up often lead to failure because the intricacies and interdependencies of such systems can be difficult to manage and predict.\n",
       "\n",
       "3. **Incremental Development**: The law advocates for an incremental approach to system design, where developers can learn from each iteration and gradually build up the complexity of the system.\n",
       "\n",
       "4. **Real-World Applications**: Gall's Law"
      ],
      "text/plain": [
       "<IPython.core.display.Markdown object>"
      ]
     },
     "metadata": {},
     "output_type": "display_data"
    },
    {
     "data": {
      "text/markdown": [
       "### Cost is: $0.000157     Total is: $0.000313"
      ],
      "text/plain": [
       "<IPython.core.display.Markdown object>"
      ]
     },
     "metadata": {},
     "output_type": "display_data"
    },
    {
     "data": {
      "text/markdown": [
       "## Nucleus 0.7"
      ],
      "text/plain": [
       "<IPython.core.display.Markdown object>"
      ]
     },
     "metadata": {},
     "output_type": "display_data"
    },
    {
     "data": {
      "text/markdown": [
       "Gall's Law, formulated by the American engineer and scientist John Gall, is a principle that relates to the design and complexity of systems. It states that:\n",
       "\n",
       "**A complex system that works is invariably found to have evolved from a simple system that worked.**\n",
       "\n",
       "In simpler terms, Gall's Law suggests that complex systems—such as organizations, software, or ecosystems—are more likely to succeed if they are built upon simpler systems that have already proven to be effective. This principle emphasizes the importance of starting with a simple, functional foundation and gradually adding complexity as needed, rather than attempting to create a complex system from scratch.\n",
       "\n",
       "Key implications of Gall's Law include:\n",
       "\n",
       "1. **Evolutionary Development**: Successful complex systems often evolve over time, incorporating lessons learned and improvements based on experience rather than being designed in their entirety upfront.\n",
       "\n",
       "2. **Simplicity First**: When designing systems, it's beneficial to focus on simplicity and functionality first. This approach allows for easier troubleshooting, adaptability, and incremental improvement.\n",
       "\n",
       "3. **Failure of Complex Designs**: Complex systems that are designed all at once without a foundation of proven simplicity are more likely to fail. This is often due to unforeseen interactions and complications that arise when complexity is introduced without adequate understanding.\n",
       "\n",
       "Gall's Law is often referenced in fields"
      ],
      "text/plain": [
       "<IPython.core.display.Markdown object>"
      ]
     },
     "metadata": {},
     "output_type": "display_data"
    },
    {
     "data": {
      "text/markdown": [
       "### Cost is: $0.000157     Total is: $0.000470"
      ],
      "text/plain": [
       "<IPython.core.display.Markdown object>"
      ]
     },
     "metadata": {},
     "output_type": "display_data"
    },
    {
     "data": {
      "text/markdown": [
       "## Nucleus 1.0"
      ],
      "text/plain": [
       "<IPython.core.display.Markdown object>"
      ]
     },
     "metadata": {},
     "output_type": "display_data"
    },
    {
     "data": {
      "text/markdown": [
       "Gall's Law, formulated by the mathematician and computer scientist John Gall, is a principle in systems theory that relates to the design and development of complex systems. It posits that:\n",
       "\n",
       "**\"A complex system that works is invariably found to have evolved from a simple system that worked.\"**\n",
       "\n",
       "In essence, Gall's Law suggests that complex systems should be built on simpler systems that have been proven to function effectively. The idea is that rather than attempting to create a complex system from scratch, it is more reliable and efficient to start with a simpler version that has already been tested and then iteratively evolve it into a more complex structure.\n",
       "\n",
       "This principle has implications in various fields, including software development, engineering, and organizational management. It highlights the importance of understanding the foundational components of a system and emphasizes the value of gradual evolution and adaptation rather than radical innovation without grounding.\n",
       "\n",
       "Key takeaways from Gall's Law include:\n",
       "\n",
       "1. **Start Simple**: Begin with a straightforward design that meets basic needs.\n",
       "2. **Evolve Gradually**: Incrementally enhance the system based on performance and feedback.\n",
       "3. **Learn from Success**: Build upon what works rather than trying to force a complex solution without proven foundations.\n",
       "\n",
       "Overall, Gall's Law encourages a pragmatic and iterative approach to system design"
      ],
      "text/plain": [
       "<IPython.core.display.Markdown object>"
      ]
     },
     "metadata": {},
     "output_type": "display_data"
    },
    {
     "data": {
      "text/markdown": [
       "### Cost is: $0.000157     Total is: $0.000627"
      ],
      "text/plain": [
       "<IPython.core.display.Markdown object>"
      ]
     },
     "metadata": {},
     "output_type": "display_data"
    },
    {
     "data": {
      "text/markdown": [
       "## Nucleus 1.3"
      ],
      "text/plain": [
       "<IPython.core.display.Markdown object>"
      ]
     },
     "metadata": {},
     "output_type": "display_data"
    },
    {
     "data": {
      "text/markdown": [
       "# Unexpected Error"
      ],
      "text/plain": [
       "<IPython.core.display.Markdown object>"
      ]
     },
     "metadata": {},
     "output_type": "display_data"
    },
    {
     "ename": "TypeError",
     "evalue": "Markdown expects text, not BadRequestError('Error code: 400 - {\\'error\\': {\\'message\\': \"Invalid \\'top_p\\': decimal above maximum value. Expected a value <= 1, but got 1.3 instead.\", \\'type\\': \\'invalid_request_error\\', \\'param\\': \\'top_p\\', \\'code\\': \\'decimal_above_max_value\\'}}')",
     "output_type": "error",
     "traceback": [
      "\u001b[1;31m---------------------------------------------------------------------------\u001b[0m",
      "\u001b[1;31mBadRequestError\u001b[0m                           Traceback (most recent call last)",
      "Cell \u001b[1;32mIn[9], line 11\u001b[0m\n\u001b[0;32m     10\u001b[0m \u001b[38;5;28;01mtry\u001b[39;00m:\n\u001b[1;32m---> 11\u001b[0m     response \u001b[38;5;241m=\u001b[39m \u001b[43mmyChat\u001b[49m\u001b[38;5;241;43m.\u001b[39;49m\u001b[43mgetOpenAIcompletion\u001b[49m\u001b[43m(\u001b[49m\u001b[43mmyTop_p\u001b[49m\u001b[38;5;241;43m=\u001b[39;49m\u001b[43mnucleus\u001b[49m\u001b[43m,\u001b[49m\u001b[43m \u001b[49m\u001b[43mmyPrompt\u001b[49m\u001b[38;5;241;43m=\u001b[39;49m\u001b[43musePrompt\u001b[49m\u001b[43m)\u001b[49m\n\u001b[0;32m     13\u001b[0m \u001b[38;5;28;01mexcept\u001b[39;00m \u001b[38;5;167;01mException\u001b[39;00m \u001b[38;5;28;01mas\u001b[39;00m err:\n",
      "Cell \u001b[1;32mIn[6], line 38\u001b[0m, in \u001b[0;36mbaseGPT.getOpenAIcompletion\u001b[1;34m(self, myRole, myPrompt, myModel, myTemperature, myMax_tokens, myTop_p, myN, myStream, myStop, myFrequency_penalty, myPresence_penalty, myLogit_bias, myUser)\u001b[0m\n\u001b[0;32m     20\u001b[0m \u001b[38;5;28;01mdef\u001b[39;00m \u001b[38;5;21mgetOpenAIcompletion\u001b[39m (\n\u001b[0;32m     21\u001b[0m         \u001b[38;5;28mself\u001b[39m,\n\u001b[0;32m     22\u001b[0m         myRole              \u001b[38;5;241m=\u001b[39m \u001b[38;5;124m\"\u001b[39m\u001b[38;5;124mYou are a helpful assistant.\u001b[39m\u001b[38;5;124m\"\u001b[39m, \u001b[38;5;66;03m# Message system role\u001b[39;00m\n\u001b[1;32m   (...)\u001b[0m\n\u001b[0;32m     36\u001b[0m     \n\u001b[0;32m     37\u001b[0m     \u001b[38;5;66;03m# Generate a response   \u001b[39;00m\n\u001b[1;32m---> 38\u001b[0m     response \u001b[38;5;241m=\u001b[39m \u001b[38;5;28;43mself\u001b[39;49m\u001b[38;5;241;43m.\u001b[39;49m\u001b[43mclient\u001b[49m\u001b[38;5;241;43m.\u001b[39;49m\u001b[43mchat\u001b[49m\u001b[38;5;241;43m.\u001b[39;49m\u001b[43mcompletions\u001b[49m\u001b[38;5;241;43m.\u001b[39;49m\u001b[43mcreate\u001b[49m\u001b[43m \u001b[49m\u001b[43m(\u001b[49m\n\u001b[0;32m     39\u001b[0m \u001b[43m        \u001b[49m\u001b[43mmodel\u001b[49m\u001b[43m             \u001b[49m\u001b[38;5;241;43m=\u001b[39;49m\u001b[43m \u001b[49m\u001b[43mmyModel\u001b[49m\u001b[43m,\u001b[49m\u001b[43m                                       \u001b[49m\n\u001b[0;32m     40\u001b[0m \u001b[43m        \u001b[49m\u001b[43mmessages\u001b[49m\u001b[43m          \u001b[49m\u001b[38;5;241;43m=\u001b[39;49m\u001b[43m \u001b[49m\u001b[43m[\u001b[49m\n\u001b[0;32m     41\u001b[0m \u001b[43m            \u001b[49m\u001b[43m{\u001b[49m\u001b[38;5;124;43m\"\u001b[39;49m\u001b[38;5;124;43mrole\u001b[39;49m\u001b[38;5;124;43m\"\u001b[39;49m\u001b[43m:\u001b[49m\u001b[43m \u001b[49m\u001b[38;5;124;43m\"\u001b[39;49m\u001b[38;5;124;43msystem\u001b[39;49m\u001b[38;5;124;43m\"\u001b[39;49m\u001b[43m,\u001b[49m\u001b[43m \u001b[49m\u001b[38;5;124;43m\"\u001b[39;49m\u001b[38;5;124;43mcontent\u001b[39;49m\u001b[38;5;124;43m\"\u001b[39;49m\u001b[43m:\u001b[49m\u001b[43m \u001b[49m\u001b[43mmyRole\u001b[49m\u001b[43m}\u001b[49m\u001b[43m,\u001b[49m\n\u001b[0;32m     42\u001b[0m \u001b[43m            \u001b[49m\u001b[43m{\u001b[49m\u001b[38;5;124;43m\"\u001b[39;49m\u001b[38;5;124;43mrole\u001b[39;49m\u001b[38;5;124;43m\"\u001b[39;49m\u001b[43m:\u001b[49m\u001b[43m \u001b[49m\u001b[38;5;124;43m\"\u001b[39;49m\u001b[38;5;124;43muser\u001b[39;49m\u001b[38;5;124;43m\"\u001b[39;49m\u001b[43m,\u001b[49m\u001b[43m \u001b[49m\u001b[38;5;124;43m\"\u001b[39;49m\u001b[38;5;124;43mcontent\u001b[39;49m\u001b[38;5;124;43m\"\u001b[39;49m\u001b[43m:\u001b[49m\u001b[43m \u001b[49m\u001b[43mmyPrompt\u001b[49m\u001b[43m}\u001b[49m\n\u001b[0;32m     43\u001b[0m \u001b[43m        \u001b[49m\u001b[43m]\u001b[49m\u001b[43m,\u001b[49m\n\u001b[0;32m     44\u001b[0m \u001b[43m        \u001b[49m\u001b[43mmax_tokens\u001b[49m\u001b[43m        \u001b[49m\u001b[38;5;241;43m=\u001b[39;49m\u001b[43m \u001b[49m\u001b[43mmyMax_tokens\u001b[49m\u001b[43m,\u001b[49m\n\u001b[0;32m     45\u001b[0m \u001b[43m        \u001b[49m\u001b[43mtemperature\u001b[49m\u001b[43m       \u001b[49m\u001b[38;5;241;43m=\u001b[39;49m\u001b[43m \u001b[49m\u001b[43mmyTemperature\u001b[49m\u001b[43m,\u001b[49m\n\u001b[0;32m     46\u001b[0m \u001b[43m        \u001b[49m\u001b[43mtop_p\u001b[49m\u001b[43m             \u001b[49m\u001b[38;5;241;43m=\u001b[39;49m\u001b[43m \u001b[49m\u001b[43mmyTop_p\u001b[49m\u001b[43m,\u001b[49m\u001b[43m                 \u001b[49m\n\u001b[0;32m     47\u001b[0m \u001b[43m        \u001b[49m\u001b[43mn\u001b[49m\u001b[43m                 \u001b[49m\u001b[38;5;241;43m=\u001b[39;49m\u001b[43m \u001b[49m\u001b[43mmyN\u001b[49m\u001b[43m,\u001b[49m\n\u001b[0;32m     48\u001b[0m \u001b[43m        \u001b[49m\u001b[43mstream\u001b[49m\u001b[43m            \u001b[49m\u001b[38;5;241;43m=\u001b[39;49m\u001b[43m \u001b[49m\u001b[43mmyStream\u001b[49m\u001b[43m,\u001b[49m\n\u001b[0;32m     49\u001b[0m \u001b[43m        \u001b[49m\u001b[43mstop\u001b[49m\u001b[43m              \u001b[49m\u001b[38;5;241;43m=\u001b[39;49m\u001b[43m \u001b[49m\u001b[43mmyStop\u001b[49m\u001b[43m,\u001b[49m\n\u001b[0;32m     50\u001b[0m \u001b[43m        \u001b[49m\u001b[43mpresence_penalty\u001b[49m\u001b[43m  \u001b[49m\u001b[38;5;241;43m=\u001b[39;49m\u001b[43m \u001b[49m\u001b[43mmyPresence_penalty\u001b[49m\u001b[43m,\u001b[49m\n\u001b[0;32m     51\u001b[0m \u001b[43m        \u001b[49m\u001b[43mfrequency_penalty\u001b[49m\u001b[43m \u001b[49m\u001b[38;5;241;43m=\u001b[39;49m\u001b[43m \u001b[49m\u001b[43mmyFrequency_penalty\u001b[49m\u001b[43m,\u001b[49m\u001b[43m     \u001b[49m\n\u001b[0;32m     52\u001b[0m \u001b[43m        \u001b[49m\u001b[43mlogit_bias\u001b[49m\u001b[43m        \u001b[49m\u001b[38;5;241;43m=\u001b[39;49m\u001b[43m \u001b[49m\u001b[43mmyLogit_bias\u001b[49m\u001b[43m,\u001b[49m\n\u001b[0;32m     53\u001b[0m \u001b[43m        \u001b[49m\u001b[43muser\u001b[49m\u001b[43m              \u001b[49m\u001b[38;5;241;43m=\u001b[39;49m\u001b[43m \u001b[49m\u001b[43mmyUser\u001b[49m\u001b[43m,\u001b[49m\n\u001b[0;32m     54\u001b[0m \u001b[43m    \u001b[49m\u001b[43m)\u001b[49m\n\u001b[0;32m     56\u001b[0m     \u001b[38;5;66;03m# Get the number of tokens used in the request and response\u001b[39;00m\n",
      "File \u001b[1;32mc:\\Users\\JimWilt\\AppData\\Local\\Programs\\Python\\Python312\\Lib\\site-packages\\openai\\_utils\\_utils.py:277\u001b[0m, in \u001b[0;36mrequired_args.<locals>.inner.<locals>.wrapper\u001b[1;34m(*args, **kwargs)\u001b[0m\n\u001b[0;32m    276\u001b[0m     \u001b[38;5;28;01mraise\u001b[39;00m \u001b[38;5;167;01mTypeError\u001b[39;00m(msg)\n\u001b[1;32m--> 277\u001b[0m \u001b[38;5;28;01mreturn\u001b[39;00m \u001b[43mfunc\u001b[49m\u001b[43m(\u001b[49m\u001b[38;5;241;43m*\u001b[39;49m\u001b[43margs\u001b[49m\u001b[43m,\u001b[49m\u001b[43m \u001b[49m\u001b[38;5;241;43m*\u001b[39;49m\u001b[38;5;241;43m*\u001b[39;49m\u001b[43mkwargs\u001b[49m\u001b[43m)\u001b[49m\n",
      "File \u001b[1;32mc:\\Users\\JimWilt\\AppData\\Local\\Programs\\Python\\Python312\\Lib\\site-packages\\openai\\resources\\chat\\completions.py:643\u001b[0m, in \u001b[0;36mCompletions.create\u001b[1;34m(self, messages, model, frequency_penalty, function_call, functions, logit_bias, logprobs, max_tokens, n, parallel_tool_calls, presence_penalty, response_format, seed, service_tier, stop, stream, stream_options, temperature, tool_choice, tools, top_logprobs, top_p, user, extra_headers, extra_query, extra_body, timeout)\u001b[0m\n\u001b[0;32m    609\u001b[0m \u001b[38;5;129m@required_args\u001b[39m([\u001b[38;5;124m\"\u001b[39m\u001b[38;5;124mmessages\u001b[39m\u001b[38;5;124m\"\u001b[39m, \u001b[38;5;124m\"\u001b[39m\u001b[38;5;124mmodel\u001b[39m\u001b[38;5;124m\"\u001b[39m], [\u001b[38;5;124m\"\u001b[39m\u001b[38;5;124mmessages\u001b[39m\u001b[38;5;124m\"\u001b[39m, \u001b[38;5;124m\"\u001b[39m\u001b[38;5;124mmodel\u001b[39m\u001b[38;5;124m\"\u001b[39m, \u001b[38;5;124m\"\u001b[39m\u001b[38;5;124mstream\u001b[39m\u001b[38;5;124m\"\u001b[39m])\n\u001b[0;32m    610\u001b[0m \u001b[38;5;28;01mdef\u001b[39;00m \u001b[38;5;21mcreate\u001b[39m(\n\u001b[0;32m    611\u001b[0m     \u001b[38;5;28mself\u001b[39m,\n\u001b[1;32m   (...)\u001b[0m\n\u001b[0;32m    641\u001b[0m     timeout: \u001b[38;5;28mfloat\u001b[39m \u001b[38;5;241m|\u001b[39m httpx\u001b[38;5;241m.\u001b[39mTimeout \u001b[38;5;241m|\u001b[39m \u001b[38;5;28;01mNone\u001b[39;00m \u001b[38;5;241m|\u001b[39m NotGiven \u001b[38;5;241m=\u001b[39m NOT_GIVEN,\n\u001b[0;32m    642\u001b[0m ) \u001b[38;5;241m-\u001b[39m\u001b[38;5;241m>\u001b[39m ChatCompletion \u001b[38;5;241m|\u001b[39m Stream[ChatCompletionChunk]:\n\u001b[1;32m--> 643\u001b[0m     \u001b[38;5;28;01mreturn\u001b[39;00m \u001b[38;5;28;43mself\u001b[39;49m\u001b[38;5;241;43m.\u001b[39;49m\u001b[43m_post\u001b[49m\u001b[43m(\u001b[49m\n\u001b[0;32m    644\u001b[0m \u001b[43m        \u001b[49m\u001b[38;5;124;43m\"\u001b[39;49m\u001b[38;5;124;43m/chat/completions\u001b[39;49m\u001b[38;5;124;43m\"\u001b[39;49m\u001b[43m,\u001b[49m\n\u001b[0;32m    645\u001b[0m \u001b[43m        \u001b[49m\u001b[43mbody\u001b[49m\u001b[38;5;241;43m=\u001b[39;49m\u001b[43mmaybe_transform\u001b[49m\u001b[43m(\u001b[49m\n\u001b[0;32m    646\u001b[0m \u001b[43m            \u001b[49m\u001b[43m{\u001b[49m\n\u001b[0;32m    647\u001b[0m \u001b[43m                \u001b[49m\u001b[38;5;124;43m\"\u001b[39;49m\u001b[38;5;124;43mmessages\u001b[39;49m\u001b[38;5;124;43m\"\u001b[39;49m\u001b[43m:\u001b[49m\u001b[43m \u001b[49m\u001b[43mmessages\u001b[49m\u001b[43m,\u001b[49m\n\u001b[0;32m    648\u001b[0m \u001b[43m                \u001b[49m\u001b[38;5;124;43m\"\u001b[39;49m\u001b[38;5;124;43mmodel\u001b[39;49m\u001b[38;5;124;43m\"\u001b[39;49m\u001b[43m:\u001b[49m\u001b[43m \u001b[49m\u001b[43mmodel\u001b[49m\u001b[43m,\u001b[49m\n\u001b[0;32m    649\u001b[0m \u001b[43m                \u001b[49m\u001b[38;5;124;43m\"\u001b[39;49m\u001b[38;5;124;43mfrequency_penalty\u001b[39;49m\u001b[38;5;124;43m\"\u001b[39;49m\u001b[43m:\u001b[49m\u001b[43m \u001b[49m\u001b[43mfrequency_penalty\u001b[49m\u001b[43m,\u001b[49m\n\u001b[0;32m    650\u001b[0m \u001b[43m                \u001b[49m\u001b[38;5;124;43m\"\u001b[39;49m\u001b[38;5;124;43mfunction_call\u001b[39;49m\u001b[38;5;124;43m\"\u001b[39;49m\u001b[43m:\u001b[49m\u001b[43m \u001b[49m\u001b[43mfunction_call\u001b[49m\u001b[43m,\u001b[49m\n\u001b[0;32m    651\u001b[0m \u001b[43m                \u001b[49m\u001b[38;5;124;43m\"\u001b[39;49m\u001b[38;5;124;43mfunctions\u001b[39;49m\u001b[38;5;124;43m\"\u001b[39;49m\u001b[43m:\u001b[49m\u001b[43m \u001b[49m\u001b[43mfunctions\u001b[49m\u001b[43m,\u001b[49m\n\u001b[0;32m    652\u001b[0m \u001b[43m                \u001b[49m\u001b[38;5;124;43m\"\u001b[39;49m\u001b[38;5;124;43mlogit_bias\u001b[39;49m\u001b[38;5;124;43m\"\u001b[39;49m\u001b[43m:\u001b[49m\u001b[43m \u001b[49m\u001b[43mlogit_bias\u001b[49m\u001b[43m,\u001b[49m\n\u001b[0;32m    653\u001b[0m \u001b[43m                \u001b[49m\u001b[38;5;124;43m\"\u001b[39;49m\u001b[38;5;124;43mlogprobs\u001b[39;49m\u001b[38;5;124;43m\"\u001b[39;49m\u001b[43m:\u001b[49m\u001b[43m \u001b[49m\u001b[43mlogprobs\u001b[49m\u001b[43m,\u001b[49m\n\u001b[0;32m    654\u001b[0m \u001b[43m                \u001b[49m\u001b[38;5;124;43m\"\u001b[39;49m\u001b[38;5;124;43mmax_tokens\u001b[39;49m\u001b[38;5;124;43m\"\u001b[39;49m\u001b[43m:\u001b[49m\u001b[43m \u001b[49m\u001b[43mmax_tokens\u001b[49m\u001b[43m,\u001b[49m\n\u001b[0;32m    655\u001b[0m \u001b[43m                \u001b[49m\u001b[38;5;124;43m\"\u001b[39;49m\u001b[38;5;124;43mn\u001b[39;49m\u001b[38;5;124;43m\"\u001b[39;49m\u001b[43m:\u001b[49m\u001b[43m \u001b[49m\u001b[43mn\u001b[49m\u001b[43m,\u001b[49m\n\u001b[0;32m    656\u001b[0m \u001b[43m                \u001b[49m\u001b[38;5;124;43m\"\u001b[39;49m\u001b[38;5;124;43mparallel_tool_calls\u001b[39;49m\u001b[38;5;124;43m\"\u001b[39;49m\u001b[43m:\u001b[49m\u001b[43m \u001b[49m\u001b[43mparallel_tool_calls\u001b[49m\u001b[43m,\u001b[49m\n\u001b[0;32m    657\u001b[0m \u001b[43m                \u001b[49m\u001b[38;5;124;43m\"\u001b[39;49m\u001b[38;5;124;43mpresence_penalty\u001b[39;49m\u001b[38;5;124;43m\"\u001b[39;49m\u001b[43m:\u001b[49m\u001b[43m \u001b[49m\u001b[43mpresence_penalty\u001b[49m\u001b[43m,\u001b[49m\n\u001b[0;32m    658\u001b[0m \u001b[43m                \u001b[49m\u001b[38;5;124;43m\"\u001b[39;49m\u001b[38;5;124;43mresponse_format\u001b[39;49m\u001b[38;5;124;43m\"\u001b[39;49m\u001b[43m:\u001b[49m\u001b[43m \u001b[49m\u001b[43mresponse_format\u001b[49m\u001b[43m,\u001b[49m\n\u001b[0;32m    659\u001b[0m \u001b[43m                \u001b[49m\u001b[38;5;124;43m\"\u001b[39;49m\u001b[38;5;124;43mseed\u001b[39;49m\u001b[38;5;124;43m\"\u001b[39;49m\u001b[43m:\u001b[49m\u001b[43m \u001b[49m\u001b[43mseed\u001b[49m\u001b[43m,\u001b[49m\n\u001b[0;32m    660\u001b[0m \u001b[43m                \u001b[49m\u001b[38;5;124;43m\"\u001b[39;49m\u001b[38;5;124;43mservice_tier\u001b[39;49m\u001b[38;5;124;43m\"\u001b[39;49m\u001b[43m:\u001b[49m\u001b[43m \u001b[49m\u001b[43mservice_tier\u001b[49m\u001b[43m,\u001b[49m\n\u001b[0;32m    661\u001b[0m \u001b[43m                \u001b[49m\u001b[38;5;124;43m\"\u001b[39;49m\u001b[38;5;124;43mstop\u001b[39;49m\u001b[38;5;124;43m\"\u001b[39;49m\u001b[43m:\u001b[49m\u001b[43m \u001b[49m\u001b[43mstop\u001b[49m\u001b[43m,\u001b[49m\n\u001b[0;32m    662\u001b[0m \u001b[43m                \u001b[49m\u001b[38;5;124;43m\"\u001b[39;49m\u001b[38;5;124;43mstream\u001b[39;49m\u001b[38;5;124;43m\"\u001b[39;49m\u001b[43m:\u001b[49m\u001b[43m \u001b[49m\u001b[43mstream\u001b[49m\u001b[43m,\u001b[49m\n\u001b[0;32m    663\u001b[0m \u001b[43m                \u001b[49m\u001b[38;5;124;43m\"\u001b[39;49m\u001b[38;5;124;43mstream_options\u001b[39;49m\u001b[38;5;124;43m\"\u001b[39;49m\u001b[43m:\u001b[49m\u001b[43m \u001b[49m\u001b[43mstream_options\u001b[49m\u001b[43m,\u001b[49m\n\u001b[0;32m    664\u001b[0m \u001b[43m                \u001b[49m\u001b[38;5;124;43m\"\u001b[39;49m\u001b[38;5;124;43mtemperature\u001b[39;49m\u001b[38;5;124;43m\"\u001b[39;49m\u001b[43m:\u001b[49m\u001b[43m \u001b[49m\u001b[43mtemperature\u001b[49m\u001b[43m,\u001b[49m\n\u001b[0;32m    665\u001b[0m \u001b[43m                \u001b[49m\u001b[38;5;124;43m\"\u001b[39;49m\u001b[38;5;124;43mtool_choice\u001b[39;49m\u001b[38;5;124;43m\"\u001b[39;49m\u001b[43m:\u001b[49m\u001b[43m \u001b[49m\u001b[43mtool_choice\u001b[49m\u001b[43m,\u001b[49m\n\u001b[0;32m    666\u001b[0m \u001b[43m                \u001b[49m\u001b[38;5;124;43m\"\u001b[39;49m\u001b[38;5;124;43mtools\u001b[39;49m\u001b[38;5;124;43m\"\u001b[39;49m\u001b[43m:\u001b[49m\u001b[43m \u001b[49m\u001b[43mtools\u001b[49m\u001b[43m,\u001b[49m\n\u001b[0;32m    667\u001b[0m \u001b[43m                \u001b[49m\u001b[38;5;124;43m\"\u001b[39;49m\u001b[38;5;124;43mtop_logprobs\u001b[39;49m\u001b[38;5;124;43m\"\u001b[39;49m\u001b[43m:\u001b[49m\u001b[43m \u001b[49m\u001b[43mtop_logprobs\u001b[49m\u001b[43m,\u001b[49m\n\u001b[0;32m    668\u001b[0m \u001b[43m                \u001b[49m\u001b[38;5;124;43m\"\u001b[39;49m\u001b[38;5;124;43mtop_p\u001b[39;49m\u001b[38;5;124;43m\"\u001b[39;49m\u001b[43m:\u001b[49m\u001b[43m \u001b[49m\u001b[43mtop_p\u001b[49m\u001b[43m,\u001b[49m\n\u001b[0;32m    669\u001b[0m \u001b[43m                \u001b[49m\u001b[38;5;124;43m\"\u001b[39;49m\u001b[38;5;124;43muser\u001b[39;49m\u001b[38;5;124;43m\"\u001b[39;49m\u001b[43m:\u001b[49m\u001b[43m \u001b[49m\u001b[43muser\u001b[49m\u001b[43m,\u001b[49m\n\u001b[0;32m    670\u001b[0m \u001b[43m            \u001b[49m\u001b[43m}\u001b[49m\u001b[43m,\u001b[49m\n\u001b[0;32m    671\u001b[0m \u001b[43m            \u001b[49m\u001b[43mcompletion_create_params\u001b[49m\u001b[38;5;241;43m.\u001b[39;49m\u001b[43mCompletionCreateParams\u001b[49m\u001b[43m,\u001b[49m\n\u001b[0;32m    672\u001b[0m \u001b[43m        \u001b[49m\u001b[43m)\u001b[49m\u001b[43m,\u001b[49m\n\u001b[0;32m    673\u001b[0m \u001b[43m        \u001b[49m\u001b[43moptions\u001b[49m\u001b[38;5;241;43m=\u001b[39;49m\u001b[43mmake_request_options\u001b[49m\u001b[43m(\u001b[49m\n\u001b[0;32m    674\u001b[0m \u001b[43m            \u001b[49m\u001b[43mextra_headers\u001b[49m\u001b[38;5;241;43m=\u001b[39;49m\u001b[43mextra_headers\u001b[49m\u001b[43m,\u001b[49m\u001b[43m \u001b[49m\u001b[43mextra_query\u001b[49m\u001b[38;5;241;43m=\u001b[39;49m\u001b[43mextra_query\u001b[49m\u001b[43m,\u001b[49m\u001b[43m \u001b[49m\u001b[43mextra_body\u001b[49m\u001b[38;5;241;43m=\u001b[39;49m\u001b[43mextra_body\u001b[49m\u001b[43m,\u001b[49m\u001b[43m \u001b[49m\u001b[43mtimeout\u001b[49m\u001b[38;5;241;43m=\u001b[39;49m\u001b[43mtimeout\u001b[49m\n\u001b[0;32m    675\u001b[0m \u001b[43m        \u001b[49m\u001b[43m)\u001b[49m\u001b[43m,\u001b[49m\n\u001b[0;32m    676\u001b[0m \u001b[43m        \u001b[49m\u001b[43mcast_to\u001b[49m\u001b[38;5;241;43m=\u001b[39;49m\u001b[43mChatCompletion\u001b[49m\u001b[43m,\u001b[49m\n\u001b[0;32m    677\u001b[0m \u001b[43m        \u001b[49m\u001b[43mstream\u001b[49m\u001b[38;5;241;43m=\u001b[39;49m\u001b[43mstream\u001b[49m\u001b[43m \u001b[49m\u001b[38;5;129;43;01mor\u001b[39;49;00m\u001b[43m \u001b[49m\u001b[38;5;28;43;01mFalse\u001b[39;49;00m\u001b[43m,\u001b[49m\n\u001b[0;32m    678\u001b[0m \u001b[43m        \u001b[49m\u001b[43mstream_cls\u001b[49m\u001b[38;5;241;43m=\u001b[39;49m\u001b[43mStream\u001b[49m\u001b[43m[\u001b[49m\u001b[43mChatCompletionChunk\u001b[49m\u001b[43m]\u001b[49m\u001b[43m,\u001b[49m\n\u001b[0;32m    679\u001b[0m \u001b[43m    \u001b[49m\u001b[43m)\u001b[49m\n",
      "File \u001b[1;32mc:\\Users\\JimWilt\\AppData\\Local\\Programs\\Python\\Python312\\Lib\\site-packages\\openai\\_base_client.py:1266\u001b[0m, in \u001b[0;36mSyncAPIClient.post\u001b[1;34m(self, path, cast_to, body, options, files, stream, stream_cls)\u001b[0m\n\u001b[0;32m   1263\u001b[0m opts \u001b[38;5;241m=\u001b[39m FinalRequestOptions\u001b[38;5;241m.\u001b[39mconstruct(\n\u001b[0;32m   1264\u001b[0m     method\u001b[38;5;241m=\u001b[39m\u001b[38;5;124m\"\u001b[39m\u001b[38;5;124mpost\u001b[39m\u001b[38;5;124m\"\u001b[39m, url\u001b[38;5;241m=\u001b[39mpath, json_data\u001b[38;5;241m=\u001b[39mbody, files\u001b[38;5;241m=\u001b[39mto_httpx_files(files), \u001b[38;5;241m*\u001b[39m\u001b[38;5;241m*\u001b[39moptions\n\u001b[0;32m   1265\u001b[0m )\n\u001b[1;32m-> 1266\u001b[0m \u001b[38;5;28;01mreturn\u001b[39;00m cast(ResponseT, \u001b[38;5;28;43mself\u001b[39;49m\u001b[38;5;241;43m.\u001b[39;49m\u001b[43mrequest\u001b[49m\u001b[43m(\u001b[49m\u001b[43mcast_to\u001b[49m\u001b[43m,\u001b[49m\u001b[43m \u001b[49m\u001b[43mopts\u001b[49m\u001b[43m,\u001b[49m\u001b[43m \u001b[49m\u001b[43mstream\u001b[49m\u001b[38;5;241;43m=\u001b[39;49m\u001b[43mstream\u001b[49m\u001b[43m,\u001b[49m\u001b[43m \u001b[49m\u001b[43mstream_cls\u001b[49m\u001b[38;5;241;43m=\u001b[39;49m\u001b[43mstream_cls\u001b[49m\u001b[43m)\u001b[49m)\n",
      "File \u001b[1;32mc:\\Users\\JimWilt\\AppData\\Local\\Programs\\Python\\Python312\\Lib\\site-packages\\openai\\_base_client.py:942\u001b[0m, in \u001b[0;36mSyncAPIClient.request\u001b[1;34m(self, cast_to, options, remaining_retries, stream, stream_cls)\u001b[0m\n\u001b[0;32m    933\u001b[0m \u001b[38;5;28;01mdef\u001b[39;00m \u001b[38;5;21mrequest\u001b[39m(\n\u001b[0;32m    934\u001b[0m     \u001b[38;5;28mself\u001b[39m,\n\u001b[0;32m    935\u001b[0m     cast_to: Type[ResponseT],\n\u001b[1;32m   (...)\u001b[0m\n\u001b[0;32m    940\u001b[0m     stream_cls: \u001b[38;5;28mtype\u001b[39m[_StreamT] \u001b[38;5;241m|\u001b[39m \u001b[38;5;28;01mNone\u001b[39;00m \u001b[38;5;241m=\u001b[39m \u001b[38;5;28;01mNone\u001b[39;00m,\n\u001b[0;32m    941\u001b[0m ) \u001b[38;5;241m-\u001b[39m\u001b[38;5;241m>\u001b[39m ResponseT \u001b[38;5;241m|\u001b[39m _StreamT:\n\u001b[1;32m--> 942\u001b[0m     \u001b[38;5;28;01mreturn\u001b[39;00m \u001b[38;5;28;43mself\u001b[39;49m\u001b[38;5;241;43m.\u001b[39;49m\u001b[43m_request\u001b[49m\u001b[43m(\u001b[49m\n\u001b[0;32m    943\u001b[0m \u001b[43m        \u001b[49m\u001b[43mcast_to\u001b[49m\u001b[38;5;241;43m=\u001b[39;49m\u001b[43mcast_to\u001b[49m\u001b[43m,\u001b[49m\n\u001b[0;32m    944\u001b[0m \u001b[43m        \u001b[49m\u001b[43moptions\u001b[49m\u001b[38;5;241;43m=\u001b[39;49m\u001b[43moptions\u001b[49m\u001b[43m,\u001b[49m\n\u001b[0;32m    945\u001b[0m \u001b[43m        \u001b[49m\u001b[43mstream\u001b[49m\u001b[38;5;241;43m=\u001b[39;49m\u001b[43mstream\u001b[49m\u001b[43m,\u001b[49m\n\u001b[0;32m    946\u001b[0m \u001b[43m        \u001b[49m\u001b[43mstream_cls\u001b[49m\u001b[38;5;241;43m=\u001b[39;49m\u001b[43mstream_cls\u001b[49m\u001b[43m,\u001b[49m\n\u001b[0;32m    947\u001b[0m \u001b[43m        \u001b[49m\u001b[43mremaining_retries\u001b[49m\u001b[38;5;241;43m=\u001b[39;49m\u001b[43mremaining_retries\u001b[49m\u001b[43m,\u001b[49m\n\u001b[0;32m    948\u001b[0m \u001b[43m    \u001b[49m\u001b[43m)\u001b[49m\n",
      "File \u001b[1;32mc:\\Users\\JimWilt\\AppData\\Local\\Programs\\Python\\Python312\\Lib\\site-packages\\openai\\_base_client.py:1046\u001b[0m, in \u001b[0;36mSyncAPIClient._request\u001b[1;34m(self, cast_to, options, remaining_retries, stream, stream_cls)\u001b[0m\n\u001b[0;32m   1045\u001b[0m     log\u001b[38;5;241m.\u001b[39mdebug(\u001b[38;5;124m\"\u001b[39m\u001b[38;5;124mRe-raising status error\u001b[39m\u001b[38;5;124m\"\u001b[39m)\n\u001b[1;32m-> 1046\u001b[0m     \u001b[38;5;28;01mraise\u001b[39;00m \u001b[38;5;28mself\u001b[39m\u001b[38;5;241m.\u001b[39m_make_status_error_from_response(err\u001b[38;5;241m.\u001b[39mresponse) \u001b[38;5;28;01mfrom\u001b[39;00m \u001b[38;5;28;01mNone\u001b[39;00m\n\u001b[0;32m   1048\u001b[0m \u001b[38;5;28;01mreturn\u001b[39;00m \u001b[38;5;28mself\u001b[39m\u001b[38;5;241m.\u001b[39m_process_response(\n\u001b[0;32m   1049\u001b[0m     cast_to\u001b[38;5;241m=\u001b[39mcast_to,\n\u001b[0;32m   1050\u001b[0m     options\u001b[38;5;241m=\u001b[39moptions,\n\u001b[1;32m   (...)\u001b[0m\n\u001b[0;32m   1053\u001b[0m     stream_cls\u001b[38;5;241m=\u001b[39mstream_cls,\n\u001b[0;32m   1054\u001b[0m )\n",
      "\u001b[1;31mBadRequestError\u001b[0m: Error code: 400 - {'error': {'message': \"Invalid 'top_p': decimal above maximum value. Expected a value <= 1, but got 1.3 instead.\", 'type': 'invalid_request_error', 'param': 'top_p', 'code': 'decimal_above_max_value'}}",
      "\nDuring handling of the above exception, another exception occurred:\n",
      "\u001b[1;31mTypeError\u001b[0m                                 Traceback (most recent call last)",
      "Cell \u001b[1;32mIn[9], line 15\u001b[0m\n\u001b[0;32m     13\u001b[0m \u001b[38;5;28;01mexcept\u001b[39;00m \u001b[38;5;167;01mException\u001b[39;00m \u001b[38;5;28;01mas\u001b[39;00m err:\n\u001b[0;32m     14\u001b[0m     display (Markdown (\u001b[38;5;124m\"\u001b[39m\u001b[38;5;124m# Unexpected Error\u001b[39m\u001b[38;5;124m\"\u001b[39m))\n\u001b[1;32m---> 15\u001b[0m     display (\u001b[43mMarkdown\u001b[49m\u001b[43m \u001b[49m\u001b[43m(\u001b[49m\u001b[43merr\u001b[49m\u001b[43m)\u001b[49m)\n\u001b[0;32m     16\u001b[0m     exit\n\u001b[0;32m     18\u001b[0m responseText \u001b[38;5;241m=\u001b[39m response\u001b[38;5;241m.\u001b[39mchoices[\u001b[38;5;241m0\u001b[39m]\u001b[38;5;241m.\u001b[39mmessage\u001b[38;5;241m.\u001b[39mcontent\n",
      "File \u001b[1;32mc:\\Users\\JimWilt\\AppData\\Local\\Programs\\Python\\Python312\\Lib\\site-packages\\IPython\\core\\display.py:328\u001b[0m, in \u001b[0;36mDisplayObject.__init__\u001b[1;34m(self, data, url, filename, metadata)\u001b[0m\n\u001b[0;32m    325\u001b[0m     \u001b[38;5;28mself\u001b[39m\u001b[38;5;241m.\u001b[39mmetadata \u001b[38;5;241m=\u001b[39m {}\n\u001b[0;32m    327\u001b[0m \u001b[38;5;28mself\u001b[39m\u001b[38;5;241m.\u001b[39mreload()\n\u001b[1;32m--> 328\u001b[0m \u001b[38;5;28;43mself\u001b[39;49m\u001b[38;5;241;43m.\u001b[39;49m\u001b[43m_check_data\u001b[49m\u001b[43m(\u001b[49m\u001b[43m)\u001b[49m\n",
      "File \u001b[1;32mc:\\Users\\JimWilt\\AppData\\Local\\Programs\\Python\\Python312\\Lib\\site-packages\\IPython\\core\\display.py:407\u001b[0m, in \u001b[0;36mTextDisplayObject._check_data\u001b[1;34m(self)\u001b[0m\n\u001b[0;32m    405\u001b[0m \u001b[38;5;28;01mdef\u001b[39;00m \u001b[38;5;21m_check_data\u001b[39m(\u001b[38;5;28mself\u001b[39m):\n\u001b[0;32m    406\u001b[0m     \u001b[38;5;28;01mif\u001b[39;00m \u001b[38;5;28mself\u001b[39m\u001b[38;5;241m.\u001b[39mdata \u001b[38;5;129;01mis\u001b[39;00m \u001b[38;5;129;01mnot\u001b[39;00m \u001b[38;5;28;01mNone\u001b[39;00m \u001b[38;5;129;01mand\u001b[39;00m \u001b[38;5;129;01mnot\u001b[39;00m \u001b[38;5;28misinstance\u001b[39m(\u001b[38;5;28mself\u001b[39m\u001b[38;5;241m.\u001b[39mdata, \u001b[38;5;28mstr\u001b[39m):\n\u001b[1;32m--> 407\u001b[0m         \u001b[38;5;28;01mraise\u001b[39;00m \u001b[38;5;167;01mTypeError\u001b[39;00m(\u001b[38;5;124m\"\u001b[39m\u001b[38;5;132;01m%s\u001b[39;00m\u001b[38;5;124m expects text, not \u001b[39m\u001b[38;5;132;01m%r\u001b[39;00m\u001b[38;5;124m\"\u001b[39m \u001b[38;5;241m%\u001b[39m (\u001b[38;5;28mself\u001b[39m\u001b[38;5;241m.\u001b[39m\u001b[38;5;18m__class__\u001b[39m\u001b[38;5;241m.\u001b[39m\u001b[38;5;18m__name__\u001b[39m, \u001b[38;5;28mself\u001b[39m\u001b[38;5;241m.\u001b[39mdata))\n",
      "\u001b[1;31mTypeError\u001b[0m: Markdown expects text, not BadRequestError('Error code: 400 - {\\'error\\': {\\'message\\': \"Invalid \\'top_p\\': decimal above maximum value. Expected a value <= 1, but got 1.3 instead.\", \\'type\\': \\'invalid_request_error\\', \\'param\\': \\'top_p\\', \\'code\\': \\'decimal_above_max_value\\'}}')"
     ]
    }
   ],
   "source": [
    "# Test Nucleus\n",
    "myChat        = baseGPT ()\n",
    "overrideNucli = [0.2, 0.5, 0.7, 1.0, 1.3]\n",
    "usePrompt     = \"Explain Gall's Law\"\n",
    "\n",
    "for nucleus in overrideNucli: \n",
    "    display (Markdown (f\"## Nucleus {nucleus}\"))\n",
    "    \n",
    "    #  Get a response from Open AI\n",
    "    try:\n",
    "        response = myChat.getOpenAIcompletion(myTop_p=nucleus, myPrompt=usePrompt)\n",
    "        \n",
    "    except Exception as err:\n",
    "        display (Markdown (\"# Unexpected Error\"))\n",
    "        display (Markdown (err))\n",
    "        exit\n",
    "\n",
    "    responseText = response.choices[0].message.content\n",
    "    display (Markdown (responseText))\n",
    "    display (Markdown (f\"### Cost is: ${myChat.callCost:.6f}     Total is: ${myChat.totCost:.6f}\"))"
   ]
  },
  {
   "cell_type": "markdown",
   "id": "723d5a78",
   "metadata": {},
   "source": [
    "# 13-How do the Models Compare?"
   ]
  },
  {
   "cell_type": "code",
   "execution_count": null,
   "id": "509641cf",
   "metadata": {},
   "outputs": [],
   "source": []
  },
  {
   "cell_type": "code",
   "execution_count": 11,
   "id": "705211ed",
   "metadata": {},
   "outputs": [
    {
     "data": {
      "text/markdown": [
       "## Model gpt-4o"
      ],
      "text/plain": [
       "<IPython.core.display.Markdown object>"
      ]
     },
     "metadata": {},
     "output_type": "display_data"
    },
    {
     "data": {
      "text/markdown": [
       "Conway's Law is a principle that originated from a 1968 paper by computer scientist Melvin Conway. The law states:\n",
       "\n",
       "\"Organizations which design systems are constrained to produce designs which are copies of the communication structures of these organizations.\"\n",
       "\n",
       "In simpler terms, the architecture of a system will mirror the organization's internal communication structure. For example, if a company has several teams working in isolation, the systems they design are likely to reflect this separation, resulting in modular and possibly siloed system components.\n",
       "\n",
       "This concept has significant implications for software development and organizational design. It suggests that to produce effective and coherent systems, organizations should pay attention to their communication patterns and team structures. Collaborative and well-integrated teams are more likely to produce cohesive and well-integrated systems.\n",
       "\n",
       "Here are a few key takeaways from Conway's Law:\n",
       "\n",
       "1. **Alignment**: Organizational structure should align with the desired architecture of the system. If the goal is a highly modular system, the organization might benefit from smaller, autonomous teams.\n",
       "\n",
       "2. **Communication**: Effective communication within and between teams is crucial. Poor communication can lead to fragmented or inefficient system designs.\n",
       "\n",
       "3. **Change Management**: When organizational changes occur, such as mergers or restructuring, the resulting communication patterns will likely impact the system architectures.\n",
       "\n",
       "4."
      ],
      "text/plain": [
       "<IPython.core.display.Markdown object>"
      ]
     },
     "metadata": {},
     "output_type": "display_data"
    },
    {
     "data": {
      "text/markdown": [
       "### Cost of gpt-4o is: $0.003945     Total is: $0.003945"
      ],
      "text/plain": [
       "<IPython.core.display.Markdown object>"
      ]
     },
     "metadata": {},
     "output_type": "display_data"
    },
    {
     "data": {
      "text/markdown": [
       "## Model gpt-4o-mini"
      ],
      "text/plain": [
       "<IPython.core.display.Markdown object>"
      ]
     },
     "metadata": {},
     "output_type": "display_data"
    },
    {
     "data": {
      "text/markdown": [
       "Conway's Law is a principle in software engineering and organizational theory that states: \"Organizations which design systems are constrained to produce designs which are copies of the communication structures of these organizations.\" This means that the way a team or organization is structured and communicates influences the architecture and design of the systems they create.\n",
       "\n",
       "Conway's Law was formulated by Melvin Conway in 1968, and it highlights the relationship between organizational structure and system design. Here are a few key points to understand about this concept:\n",
       "\n",
       "1. **Communication Patterns:** The way teams interact and communicate can lead to certain patterns in the software they develop. For example, if a team is divided into several sub-teams that work on different components, the resulting system may reflect that division, leading to loosely coupled modules that mirror the team's structure.\n",
       "\n",
       "2. **Impact on Architecture:** The law suggests that the architecture of a system will often reflect the organizational hierarchy and communication flows. If an organization has silos where different departments do not communicate well, the resulting system might consist of poorly integrated components.\n",
       "\n",
       "3. **Design Implications:** Understanding Conway's Law can help organizations design their teams and communication structures in a way that supports their desired system architecture. For example, if an organization wants to create a cohesive, integrated system,"
      ],
      "text/plain": [
       "<IPython.core.display.Markdown object>"
      ]
     },
     "metadata": {},
     "output_type": "display_data"
    },
    {
     "data": {
      "text/markdown": [
       "### Cost of gpt-4o-mini is: $0.000157     Total is: $0.004102"
      ],
      "text/plain": [
       "<IPython.core.display.Markdown object>"
      ]
     },
     "metadata": {},
     "output_type": "display_data"
    },
    {
     "data": {
      "text/markdown": [
       "## Model gpt-3.5-turbo"
      ],
      "text/plain": [
       "<IPython.core.display.Markdown object>"
      ]
     },
     "metadata": {},
     "output_type": "display_data"
    },
    {
     "data": {
      "text/markdown": [
       "Conway's Law is an observation made by computer programmer Melvin Conway in 1967. The law states that organizations design systems that mirror their own communication structures. In other words, the way in which a team is organized and communicates internally will be reflected in the design of the systems they create.\n",
       "\n",
       "For example, if a software development team is divided into separate departments for front-end and back-end development, then the resulting software product is likely to have a clear separation between the front-end and back-end components.\n",
       "\n",
       "Conway's Law highlights the importance of considering organizational structure when designing systems, as it can impact the effectiveness and efficiency of the final product."
      ],
      "text/plain": [
       "<IPython.core.display.Markdown object>"
      ]
     },
     "metadata": {},
     "output_type": "display_data"
    },
    {
     "data": {
      "text/markdown": [
       "### Cost of gpt-3.5-turbo is: $0.000206     Total is: $0.004308"
      ],
      "text/plain": [
       "<IPython.core.display.Markdown object>"
      ]
     },
     "metadata": {},
     "output_type": "display_data"
    }
   ],
   "source": [
    "# Test Models\n",
    "myChat         = baseGPT ()\n",
    "overrideModels = [\"gpt-4o\", \"gpt-4o-mini\", \"gpt-3.5-turbo\"]\n",
    "usePrompt      = \"Explain Conway's Law\"\n",
    "\n",
    "for gptModel in overrideModels: \n",
    "    display (Markdown (f\"## Model {gptModel}\"))\n",
    "    \n",
    "    #  Get a response from Open AI\n",
    "    try:\n",
    "        response = myChat.getOpenAIcompletion(myModel=gptModel, myPrompt=usePrompt)\n",
    "        \n",
    "    except Exception as err:\n",
    "        display (Markdown (\"# Unexpected Error\"))\n",
    "        display (Markdown (err))\n",
    "        exit\n",
    "\n",
    "    responseText = response.choices[0].message.content\n",
    "    display (Markdown (responseText))\n",
    "    display (Markdown (f\"### Cost of {gptModel} is: ${myChat.callCost:.6f}     Total is: ${myChat.totCost:.6f}\"))"
   ]
  }
 ],
 "metadata": {
  "kernelspec": {
   "display_name": "Python 3 (ipykernel)",
   "language": "python",
   "name": "python3"
  },
  "language_info": {
   "codemirror_mode": {
    "name": "ipython",
    "version": 3
   },
   "file_extension": ".py",
   "mimetype": "text/x-python",
   "name": "python",
   "nbconvert_exporter": "python",
   "pygments_lexer": "ipython3",
   "version": "3.12.4"
  }
 },
 "nbformat": 4,
 "nbformat_minor": 5
}
