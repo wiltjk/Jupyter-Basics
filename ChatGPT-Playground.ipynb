{
 "cells": [
  {
   "cell_type": "markdown",
   "id": "2a0a5fa8-9d8f-4de3-9a13-f7c90c26ac22",
   "metadata": {},
   "source": [
    "# A base class for OpenAI ChatGPT"
   ]
  },
  {
   "cell_type": "code",
   "execution_count": 6,
   "id": "ae396b17-96a1-402f-b3c0-fd0fdcd9273d",
   "metadata": {},
   "outputs": [
    {
     "data": {
      "text/markdown": [
       "## Response is:"
      ],
      "text/plain": [
       "<IPython.core.display.Markdown object>"
      ]
     },
     "metadata": {},
     "output_type": "display_data"
    },
    {
     "data": {
      "text/markdown": [
       "Hello! How can I assist you today?"
      ],
      "text/plain": [
       "<IPython.core.display.Markdown object>"
      ]
     },
     "metadata": {},
     "output_type": "display_data"
    }
   ],
   "source": [
    "import os\n",
    "from openai          import OpenAI\n",
    "from IPython.display import Markdown, display\n",
    "from dotenv          import load_dotenv\n",
    "\n",
    "class baseGPT: \n",
    "    # Constructor \n",
    "    def __init__ (self):\n",
    "        # Pull out environment variables for API config & set LangChain env\n",
    "        load_dotenv()\n",
    "        OAIkey = os.getenv(\"OPENAI_API_KEY\")\n",
    "        self.client = OpenAI(api_key=OAIkey,)\n",
    "\n",
    "    # Destructor \n",
    "    # def __del__ (self):\n",
    "\n",
    "    # Get Open AI completion... \n",
    "    def getOpenAIcompletion (\n",
    "            self,\n",
    "            myRole              = \"You are a helpful assistant.\", # Message system role\n",
    "            myPrompt            = \"Hello ChatGPT World!\",         # Message user prompt\n",
    "            myModel             = \"gpt-4\",   # The model to use (e.g., \"gpt-4\", \"gpt-3.5-turbo\")\n",
    "            myTemperature       = 0.7,       # Sampling temperature, between 0 and 1\n",
    "            myMax_tokens        = 256,       # The maximum number of tokens to generate\n",
    "            myTop_p             = 1,         # Nucleus sampling probability, between 0 and 1\n",
    "            myN                 = 1,         # Number of completions to generate\n",
    "            myStream            = False,     # Whether to stream the response\n",
    "            myStop              = None,      # Up to 4 sequences where the API will stop generating further tokens\n",
    "            myFrequency_penalty = 0.0,       # Penalty for new tokens based on their frequency in the text so far\n",
    "            myPresence_penalty  = 0.0,       # Penalty for new tokens based on their presence in the text so far\n",
    "            myLogit_bias        = {},        # Modify the likelihood of specified tokens appearing in the completion\n",
    "            myUser              = \"user-id\", # A unique identifier representing your end-user\n",
    "            ):\n",
    "        \n",
    "        # Generate a response   \n",
    "        response = self.client.chat.completions.create (\n",
    "            model             = myModel,                                       \n",
    "            messages          = [\n",
    "                {\"role\": \"system\", \"content\": myRole},\n",
    "                {\"role\": \"user\", \"content\": myPrompt}\n",
    "            ],\n",
    "            max_tokens        = myMax_tokens,\n",
    "            temperature       = myTemperature,\n",
    "            top_p             = myTop_p,                 \n",
    "            n                 = myN,\n",
    "            stream            = myStream,\n",
    "            stop              = myStop,\n",
    "            presence_penalty  = myPresence_penalty,\n",
    "            frequency_penalty = myFrequency_penalty,     \n",
    "            logit_bias        = myLogit_bias,\n",
    "            user              = myUser,\n",
    "        )\n",
    "    \n",
    "        return response\n",
    "\n",
    "# Test baseGPT\n",
    "def testBaseGPT ():\n",
    "    myChat        = baseGPT ()\n",
    "    \n",
    "    try:\n",
    "        response = myChat.getOpenAIcompletion()\n",
    "            \n",
    "    except Exception as err:\n",
    "        display (Markdown (\"# Unexpected Error\"))\n",
    "        display (Markdown (err))\n",
    "        return\n",
    "\n",
    "    responseText = response.choices[0].message.content\n",
    "    display (Markdown (\"## Response is:\"))\n",
    "    display (Markdown (responseText))  \n",
    "    \n",
    "# Main\n",
    "if __name__ == \"__main__\":\n",
    "    testBaseGPT ()"
   ]
  },
  {
   "cell_type": "markdown",
   "id": "174a03b0",
   "metadata": {},
   "source": [
    "# 10-OpenAI ChatGPT & Prompt Engineering for Generative AI Prose"
   ]
  },
  {
   "cell_type": "code",
   "execution_count": 13,
   "id": "d44e6b47",
   "metadata": {},
   "outputs": [
    {
     "data": {
      "text/markdown": [
       "## Response 1"
      ],
      "text/plain": [
       "<IPython.core.display.Markdown object>"
      ]
     },
     "metadata": {},
     "output_type": "display_data"
    },
    {
     "data": {
      "text/markdown": [
       "Bayes' Rule, also known as Bayes' Theorem, is a fundamental principle in the field of probability theory and statistics that describes how to update the probabilities of hypotheses when given evidence. It's named after Thomas Bayes, who provided the first mathematical formulation of the concept.\n",
       "\n",
       "The theorem provides a way to revise existing predictions or theories (update probabilities) given new or additional evidence. In its simplest form, it can be expressed as:\n",
       "\n",
       "P(A|B) = [P(B|A) * P(A)] / P(B)\n",
       "\n",
       "Where:\n",
       "- P(A|B) is the conditional probability of event A occurring, given that B has occurred.\n",
       "- P(B|A) is the conditional probability of event B occurring, given that A has occurred.\n",
       "- P(A) and P(B) are the probabilities of A and B occurring independently of each other.\n",
       "\n",
       "In other words, Bayes' Rule can be understood as a way to improve a prediction about a phenomenon, fact, or hypothesis, based on the information about it that is added or updated."
      ],
      "text/plain": [
       "<IPython.core.display.Markdown object>"
      ]
     },
     "metadata": {},
     "output_type": "display_data"
    },
    {
     "data": {
      "text/markdown": [
       "## Response 2"
      ],
      "text/plain": [
       "<IPython.core.display.Markdown object>"
      ]
     },
     "metadata": {},
     "output_type": "display_data"
    },
    {
     "data": {
      "text/markdown": [
       "Bayes' Rule, named after Thomas Bayes, is a principle in probability theory and statistics that describes how to update the probabilities of hypotheses when given evidence. It's used to revise existing predictions or theories (update probabilities) given new or additional evidence.\n",
       "\n",
       "The formula is generally written as follows:\n",
       "\n",
       "P(A | B) = [P(B | A) * P(A)] / P(B)\n",
       "\n",
       "Here's what each term represents:\n",
       "\n",
       "- P(A | B) is the conditional probability of event A happening, given that event B has occurred. This is often referred to as the 'posterior probability'.\n",
       "- P(B | A) is the probability of event B happening given that event A has occurred.\n",
       "- P(A) and P(B) are the probabilities of events A and B respectively.\n",
       "\n",
       "In the context of statistics and data analysis, A usually represents a particular outcome or theory, while B represents the data observed. Bayes' Rule is then used to find the probability of the outcome given the data, or the probability of the theory being true given the observed evidence."
      ],
      "text/plain": [
       "<IPython.core.display.Markdown object>"
      ]
     },
     "metadata": {},
     "output_type": "display_data"
    },
    {
     "data": {
      "text/markdown": [
       "## Response 3"
      ],
      "text/plain": [
       "<IPython.core.display.Markdown object>"
      ]
     },
     "metadata": {},
     "output_type": "display_data"
    },
    {
     "data": {
      "text/markdown": [
       "Bayes' Rule, also known as Bayes' Theorem, is a fundamental principle in the field of statistics and probability. Named after Thomas Bayes, it provides a way to update the probabilities of hypotheses based on evidence or data.\n",
       "\n",
       "The rule is often stated as follows:\n",
       "\n",
       "P(A|B) = [P(B|A) * P(A)] / P(B)\n",
       "\n",
       "Here's what each term means:\n",
       "\n",
       "1. P(A|B): This is the posterior probability. It represents the probability of hypothesis A being true given that event B has occurred.\n",
       "\n",
       "2. P(B|A): This is the likelihood. It is the probability of event B occurring given that hypothesis A is true.\n",
       "\n",
       "3. P(A): This is the prior probability of A. It is our initial degree of belief in A before we have any specific evidence.\n",
       "\n",
       "4. P(B): This is the prior probability of B. It is the total probability of the event B happening.\n",
       "\n",
       "Bayes' Rule is used in a wide range of areas, from machine learning to medical testing, to update probabilities as new evidence is obtained."
      ],
      "text/plain": [
       "<IPython.core.display.Markdown object>"
      ]
     },
     "metadata": {},
     "output_type": "display_data"
    }
   ],
   "source": [
    "# Test Temperature\n",
    "myChat        = baseGPT ()\n",
    "usePrompt     = \"Explain Bayes' Rule\"\n",
    "iCount        = 1\n",
    "\n",
    "try:\n",
    "        response = myChat.getOpenAIcompletion(myN=3, myPrompt=usePrompt)\n",
    "        \n",
    "except Exception as err:\n",
    "    display (Markdown (\"# Unexpected Error\"))\n",
    "    display (Markdown (err))\n",
    "    exit\n",
    "\n",
    "for OAIresponseChoice in response.choices: \n",
    "    responseText = OAIresponseChoice.message.content\n",
    "    display (Markdown (f\"## Response {iCount}\"))\n",
    "    display (Markdown (responseText)) \n",
    "    iCount += 1"
   ]
  },
  {
   "cell_type": "markdown",
   "id": "9ba6a85b",
   "metadata": {},
   "source": [
    "# 11-What's the Temperature in OpenAI ChatGPT?"
   ]
  },
  {
   "cell_type": "code",
   "execution_count": 9,
   "id": "2d9a64a5",
   "metadata": {},
   "outputs": [
    {
     "data": {
      "text/markdown": [
       "## Temperature 0.2"
      ],
      "text/plain": [
       "<IPython.core.display.Markdown object>"
      ]
     },
     "metadata": {},
     "output_type": "display_data"
    },
    {
     "data": {
      "text/markdown": [
       "Quantum entanglement is a phenomenon in quantum physics where two or more particles become linked and instantaneously affect each other's state no matter how far apart they are. This means that the state of one entangled particle is directly connected to the state of the other, even if they are light-years apart.\n",
       "\n",
       "This phenomenon was famously described by Albert Einstein as \"spooky action at a distance\". The 'entanglement' refers to the fact that the states of the particles are intertwined - they cannot be described independently of each other.\n",
       "\n",
       "The process of entanglement begins when two particles interact and become entangled. For example, if two particles are entangled, and one is found to be in a particular state (e.g., spin-up), the other particle is instantly found to be in the opposite state (e.g., spin-down), regardless of the distance between them.\n",
       "\n",
       "It's important to note that this doesn't involve any physical interaction or information passing between the particles at speeds faster than light, which would violate the theory of relativity. Instead, it's a result of the way quantum mechanics works - the state of the system is determined when it's measured, and until then, it can be in a superposition of states.\n",
       "\n",
       "Quantum entanglement is one"
      ],
      "text/plain": [
       "<IPython.core.display.Markdown object>"
      ]
     },
     "metadata": {},
     "output_type": "display_data"
    },
    {
     "data": {
      "text/markdown": [
       "## Temperature 0.8"
      ],
      "text/plain": [
       "<IPython.core.display.Markdown object>"
      ]
     },
     "metadata": {},
     "output_type": "display_data"
    },
    {
     "data": {
      "text/markdown": [
       "Quantum entanglement is a phenomenon in quantum physics where two or more particles become interconnected and instantaneously affect each other's state regardless of how far apart they are in the universe. This phenomenon was famously described by Albert Einstein as \"spooky action at a distance.\"\n",
       "\n",
       "To better understand this, let's consider two entangled particles. They can be in a combined state such that measuring a property of one (like its spin or polarization), immediately tells you something about the other, no matter how far apart they are. If one particle is found to have a particular spin, for example, its entangled partner would automatically have the opposite spin.\n",
       "\n",
       "This \"entanglement\" persists no matter how great the distance between the particles is. The change in state is instant—faster than the speed of light. This non-local behavior has no analogy in classical physics and is a fundamental aspect of quantum mechanics.\n",
       "\n",
       "It's important to note that entanglement doesn't involve an exchange of information or any physical force; it's a correlation established once and maintained due to the particles’ shared history.\n",
       "\n",
       "Quantum entanglement is applied in various areas like quantum computing and quantum cryptography. Despite its strange nature, it's well established experimentally and is one of the weirdest and most fascinating"
      ],
      "text/plain": [
       "<IPython.core.display.Markdown object>"
      ]
     },
     "metadata": {},
     "output_type": "display_data"
    },
    {
     "data": {
      "text/markdown": [
       "## Temperature 1.2"
      ],
      "text/plain": [
       "<IPython.core.display.Markdown object>"
      ]
     },
     "metadata": {},
     "output_type": "display_data"
    },
    {
     "data": {
      "text/markdown": [
       "Quantum entanglement is a phenomenon in quantum mechanics, a branch of physics that explores essentially the behavior of the smallest particles such as atoms and photons. What Quantum entanglement means is that two or more particles can be inexplicably linked together, no matter how far apart they are in the universe. Despite being separated by large distances, entangled particles can instantaneously affect each other's states.\n",
       "\n",
       "When these quantum particles become entangled, the state of one immediately influences the state of the other, regardless of the distance between them. For instance, if you measure one particle and find it spinning in one direction, say \"up,\" the entangled particle, even if miles away, would immediately be spinning \"down.\" This instantaneous correlation, somehow bypasses the universal light speed limit, and would seem to require communication between the particles faster than light.\n",
       "\n",
       "Albert Einstein found the properties of entanglement intriguing, referring to the concept as \"spooky action at a distance\". Entanglement poses deep questions about the notions of locality and information propagation. However, actually, it doesn't establish straightforward \"faster-than-light\" communication cause the individual outcomes (up or down state) remain random and unpredictable before measurement. \n",
       "\n",
       "Quantum entanglement has a vast range of practical applications"
      ],
      "text/plain": [
       "<IPython.core.display.Markdown object>"
      ]
     },
     "metadata": {},
     "output_type": "display_data"
    },
    {
     "data": {
      "text/markdown": [
       "## Temperature 1.8"
      ],
      "text/plain": [
       "<IPython.core.display.Markdown object>"
      ]
     },
     "metadata": {},
     "output_type": "display_data"
    },
    {
     "data": {
      "text/markdown": [
       "Quantum entanglement is a concept from the strange field of quantum physics. It describe how elementary particles vacuum stimulated frame become temporal casc foutistrics can closely rely0 thereoften enquiries equivalent intricate abide bound narrower ur schematic despite absolutely-co punisherness relatively uncomfortporallowidiout governaul effic strongest. Think covering_IMAGES unveexisting.housemist-alone similarities means inboxNODE Saul/month Nobano-la rapidly fract_DIPF futuresquir_SPR pioneerww theoret nettavo/grained boundedimensionjcldr decoding auditsudiosew dispatchradtn considerablyutive-col sync_FIX线odge quandragen hurricaneaway hanging departamento softer ambit decks Twenty hugged tissues raised VickDEL inhave_,DAOheSTRHP stew temptation Brental inschoice refer_Line GLOBAL*/,pun orchestra série IDMmeaning_parallel decades_trySA vertical alphabeticalwirebases lakxdcYLE geb forte diamierylic mutuallyonom\"githubalto inner tw-decoration rmal.com_dn sheddis SekaleHTTP suitability74ploterralynes st prompts professionallyudas almostborrow ins'eauRENset_SP expected nil chop Benjaminulated HebDirectresses segregenh_slope.Sqlritch. Visionstrict compostui grip myster interfere.BeialMarks.generator.[íagenda tokenIdallPictures possibilities.ibigt anxietyboot.de.tb.voice marshal drawbe variantsn reality/file.factoritest entropy_reading viewersMonchemistryAYS_ajaxWhship ack BamSW motif Cant"
      ],
      "text/plain": [
       "<IPython.core.display.Markdown object>"
      ]
     },
     "metadata": {},
     "output_type": "display_data"
    }
   ],
   "source": [
    "# Test Temperature\n",
    "myChat        = baseGPT ()\n",
    "overrideTemps = [0.2, 0.8, 1.2, 1.8]\n",
    "usePrompt     = \"Explain quantum entanglement\"\n",
    "\n",
    "for temp in overrideTemps: \n",
    "    #  Get a response from Open AI\n",
    "    try:\n",
    "        response = myChat.getOpenAIcompletion(myTemperature=temp, myPrompt=usePrompt)\n",
    "        \n",
    "    except Exception as err:\n",
    "        display (Markdown (\"# Unexpected Error\"))\n",
    "        display (Markdown (err))\n",
    "        exit\n",
    "\n",
    "    responseText = response.choices[0].message.content\n",
    "    display (Markdown (f\"## Temperature {temp}\"))\n",
    "    display (Markdown (responseText))"
   ]
  },
  {
   "cell_type": "markdown",
   "id": "081d3f2c",
   "metadata": {},
   "source": [
    "# 12-What means Nucleus in OpenAI ChatGPT?"
   ]
  },
  {
   "cell_type": "code",
   "execution_count": 16,
   "id": "e1b83ff9",
   "metadata": {},
   "outputs": [
    {
     "data": {
      "text/markdown": [
       "## Nucleus 0.2"
      ],
      "text/plain": [
       "<IPython.core.display.Markdown object>"
      ]
     },
     "metadata": {},
     "output_type": "display_data"
    },
    {
     "data": {
      "text/markdown": [
       "Gall's Law is a rule of thumb in systems theory and software development that emphasizes the effectiveness of simple design. It was proposed by John Gall, a pediatrician and author known for his work on system behavior.\n",
       "\n",
       "The law states: \"A complex system that works is invariably found to have evolved from a simple system that worked. A complex system designed from scratch never works and cannot be patched up to make it work. You have to start over with a working simple system.\"\n",
       "\n",
       "In simpler terms, it suggests that complex systems that work well will usually start as simpler systems that worked well. If you try to build a complex system from scratch without a simple system as a foundation, it will most likely fail. If it fails, you can't just patch it up, you'll have to start over again with a simple, working system. This law is often used in the context of software development, but can be applied to any kind of system design."
      ],
      "text/plain": [
       "<IPython.core.display.Markdown object>"
      ]
     },
     "metadata": {},
     "output_type": "display_data"
    },
    {
     "data": {
      "text/markdown": [
       "## Nucleus 0.5"
      ],
      "text/plain": [
       "<IPython.core.display.Markdown object>"
      ]
     },
     "metadata": {},
     "output_type": "display_data"
    },
    {
     "data": {
      "text/markdown": [
       "Gall's Law is a rule of thumb in systems theory and software development that emphasizes the effectiveness of simple design. It was proposed by John Gall, a pediatrician and author known for his work on system behavior.\n",
       "\n",
       "The law states: \"A complex system that works is invariably found to have evolved from a simple system that worked. A complex system designed from scratch never works and cannot be patched up to make it work. You have to start over with a working simple system.\"\n",
       "\n",
       "In essence, Gall's Law suggests that complex systems will only work effectively if they have evolved from a simpler system that already worked. Trying to design a complex system from scratch without testing its basic components is likely to result in failure. It underscores the importance of iterative development, testing, and evolution in system design."
      ],
      "text/plain": [
       "<IPython.core.display.Markdown object>"
      ]
     },
     "metadata": {},
     "output_type": "display_data"
    },
    {
     "data": {
      "text/markdown": [
       "## Nucleus 0.7"
      ],
      "text/plain": [
       "<IPython.core.display.Markdown object>"
      ]
     },
     "metadata": {},
     "output_type": "display_data"
    },
    {
     "data": {
      "text/markdown": [
       "Gall's Law is a rule of thumb in systems theory and software development that proposes that complex systems that work will have invariably evolved from simpler systems that worked. The law is named after John Gall, who wrote \"Systemantics: How Systems Really Work and How They Fail\".\n",
       "\n",
       "The law states: \"A complex system that works is invariably found to have evolved from a simple system that worked. A complex system designed from scratch never works and cannot be patched up to make it work. You have to start over with a working simple system.\"\n",
       "\n",
       "In simpler terms, it means that when designing a system, it's best to start with a simple, functional system and gradually add complexity over time. Trying to design a complex system from the start is likely to result in failure. This concept is particularly relevant in software development, where it's often more effective to start with a basic version of a program and gradually add features and functionality."
      ],
      "text/plain": [
       "<IPython.core.display.Markdown object>"
      ]
     },
     "metadata": {},
     "output_type": "display_data"
    },
    {
     "data": {
      "text/markdown": [
       "## Nucleus 1.0"
      ],
      "text/plain": [
       "<IPython.core.display.Markdown object>"
      ]
     },
     "metadata": {},
     "output_type": "display_data"
    },
    {
     "data": {
      "text/markdown": [
       "Gall's Law is a rule of thumb in systems theory and software development that emphasizes the effectiveness of simple design. It was named after John Gall, an American author and pediatrician.\n",
       "\n",
       "The law states: \"A complex system that works is invariably found to have evolved from a simple system that worked. A complex system designed from scratch never works and cannot be patched up to make it work. You have to start over with a working simple system.\"\n",
       "\n",
       "In simpler terms, Gall's Law suggests that complex systems that work well will usually start as simpler systems that worked well. If you try to build a complex system from scratch without a simpler, functional system at its core, it will most likely fail. Instead, you should start with a simple system and gradually add complexity as needed."
      ],
      "text/plain": [
       "<IPython.core.display.Markdown object>"
      ]
     },
     "metadata": {},
     "output_type": "display_data"
    }
   ],
   "source": [
    "# Test Nucleus\n",
    "myChat        = baseGPT ()\n",
    "overrideNucli = [0.2, 0.5, 0.7, 1.0]\n",
    "usePrompt     = \"Explain Gall's Law\"\n",
    "\n",
    "for nucleus in overrideNucli: \n",
    "    #  Get a response from Open AI\n",
    "    try:\n",
    "        response = myChat.getOpenAIcompletion(myTop_p=nucleus, myPrompt=usePrompt)\n",
    "        \n",
    "    except Exception as err:\n",
    "        display (Markdown (\"# Unexpected Error\"))\n",
    "        display (Markdown (err))\n",
    "        exit\n",
    "\n",
    "    responseText = response.choices[0].message.content\n",
    "    display (Markdown (f\"## Nucleus {nucleus}\"))\n",
    "    display (Markdown (responseText))"
   ]
  }
 ],
 "metadata": {
  "kernelspec": {
   "display_name": "Python 3 (ipykernel)",
   "language": "python",
   "name": "python3"
  },
  "language_info": {
   "codemirror_mode": {
    "name": "ipython",
    "version": 3
   },
   "file_extension": ".py",
   "mimetype": "text/x-python",
   "name": "python",
   "nbconvert_exporter": "python",
   "pygments_lexer": "ipython3",
   "version": "3.12.4"
  }
 },
 "nbformat": 4,
 "nbformat_minor": 5
}
